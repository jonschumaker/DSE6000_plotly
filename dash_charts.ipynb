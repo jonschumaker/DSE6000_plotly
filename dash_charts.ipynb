{
  "nbformat": 4,
  "nbformat_minor": 5,
  "metadata": {
    "colab": {
      "name": "dash_charts.ipynb",
      "provenance": [],
      "collapsed_sections": [],
      "include_colab_link": true
    },
    "kernelspec": {
      "display_name": "Python 3",
      "language": "python",
      "name": "python3"
    },
    "language_info": {
      "codemirror_mode": {
        "name": "ipython",
        "version": 3
      },
      "file_extension": ".py",
      "mimetype": "text/x-python",
      "name": "python",
      "nbconvert_exporter": "python",
      "pygments_lexer": "ipython3",
      "version": "3.8.8"
    }
  },
  "cells": [
    {
      "cell_type": "markdown",
      "metadata": {
        "id": "view-in-github",
        "colab_type": "text"
      },
      "source": [
        "<a href=\"https://colab.research.google.com/github/jonschumaker/DSE6000_plotly/blob/main/dash_charts.ipynb\" target=\"_parent\"><img src=\"https://colab.research.google.com/assets/colab-badge.svg\" alt=\"Open In Colab\"/></a>"
      ]
    },
    {
      "cell_type": "code",
      "metadata": {
        "colab": {
          "base_uri": "https://localhost:8080/"
        },
        "id": "691ae810-ec67-468b-9e72-ec63e34f7313",
        "outputId": "2d7a27ff-9d73-4770-c991-504de4e16da4"
      },
      "source": [
        "import pandas as pd\n",
        "import numpy as np\n",
        "import seaborn as sns\n",
        "import matplotlib.pyplot as plt\n",
        "%matplotlib inline\n",
        "#above line is not needed for colab but needed for non colab environments to show the plot \n",
        "sns.set(color_codes=True)\n",
        "!pip install --upgrade plotly\n",
        "import plotly.express as px"
      ],
      "id": "691ae810-ec67-468b-9e72-ec63e34f7313",
      "execution_count": 1,
      "outputs": [
        {
          "output_type": "stream",
          "name": "stdout",
          "text": [
            "Requirement already satisfied: plotly in /usr/local/lib/python3.7/dist-packages (4.4.1)\n",
            "Collecting plotly\n",
            "  Downloading plotly-5.4.0-py2.py3-none-any.whl (25.3 MB)\n",
            "\u001b[K     |████████████████████████████████| 25.3 MB 1.6 MB/s \n",
            "\u001b[?25hCollecting tenacity>=6.2.0\n",
            "  Downloading tenacity-8.0.1-py3-none-any.whl (24 kB)\n",
            "Requirement already satisfied: six in /usr/local/lib/python3.7/dist-packages (from plotly) (1.15.0)\n",
            "Installing collected packages: tenacity, plotly\n",
            "  Attempting uninstall: plotly\n",
            "    Found existing installation: plotly 4.4.1\n",
            "    Uninstalling plotly-4.4.1:\n",
            "      Successfully uninstalled plotly-4.4.1\n",
            "Successfully installed plotly-5.4.0 tenacity-8.0.1\n"
          ]
        }
      ]
    },
    {
      "cell_type": "code",
      "metadata": {
        "id": "501c5442-094f-47b9-8ed0-693391e46f9a"
      },
      "source": [
        "#df = pd.read_csv('https://drive.google.com/uc?export=download&id=1oB1qEc360zOocTPAnxcrRSqzyy__E5zE')\n",
        "#df.columns = df.columns.str.strip()"
      ],
      "id": "501c5442-094f-47b9-8ed0-693391e46f9a",
      "execution_count": 2,
      "outputs": []
    },
    {
      "cell_type": "code",
      "metadata": {
        "id": "5b94129c-46d3-4e18-b943-211b964b5e3a"
      },
      "source": [
        "#df1 = pd.read_csv('simplyhired_cleaned_G_K_A_J.csv')\n",
        "df = pd.read_csv('https://drive.google.com/uc?export=download&id=1fs6PHcGNLhB0jVDGMvKanQxevXQh6czC')\n",
        "df.columns = df.columns.str.strip()"
      ],
      "id": "5b94129c-46d3-4e18-b943-211b964b5e3a",
      "execution_count": 3,
      "outputs": []
    },
    {
      "cell_type": "markdown",
      "metadata": {
        "id": "o6RzcW7BIokn"
      },
      "source": [
        "This code should be run prior to files being combined.\n",
        "\n",
        "Run next blocks of code for Indeed file to clean the location column."
      ],
      "id": "o6RzcW7BIokn"
    },
    {
      "cell_type": "code",
      "metadata": {
        "id": "pRF0lPStIkSc"
      },
      "source": [
        "#Indeed dataset: Changes 'location' column to 3 columns: 'remote', 'city', and 'state'\n",
        "\n",
        "#df['remote'] = np.where(df['location'].str.contains(r'Remote'), 'yes', 'no')\n",
        "#df['location'] = df['location'].map(lambda x: x.lstrip('+-').rstrip('Remote'))\n",
        "#df['location'] = df['location'].replace({'•': ''}, regex=True)\n",
        "#df['city'], df['trash'] = df['location'].str.rsplit(', ', 1).str\n",
        "#df['state'] = df['trash'].str[:2]\n",
        "#df['state'] = df['state'].replace(\"A\", \"AR\")\n",
        "#df['state'] = df['state'].replace(\"O\", \"OR\")\n",
        "#df.head()"
      ],
      "id": "pRF0lPStIkSc",
      "execution_count": 4,
      "outputs": []
    },
    {
      "cell_type": "code",
      "metadata": {
        "id": "fzPvgW1GJYJZ"
      },
      "source": [
        "#df.drop(['trash', 'jobtype', 'location'], axis = 1, inplace = True)"
      ],
      "id": "fzPvgW1GJYJZ",
      "execution_count": 5,
      "outputs": []
    },
    {
      "cell_type": "markdown",
      "metadata": {
        "id": "D5bOGUoaJGLW"
      },
      "source": [
        "Code blocks for Simply Hired file to clean the location column."
      ],
      "id": "D5bOGUoaJGLW"
    },
    {
      "cell_type": "code",
      "metadata": {
        "id": "l79TP2njJLJE"
      },
      "source": [
        "#df['remote'] = np.where(df['location'].str.contains(r'Remote'), 'yes', 'no')"
      ],
      "id": "l79TP2njJLJE",
      "execution_count": 6,
      "outputs": []
    },
    {
      "cell_type": "code",
      "metadata": {
        "id": "S7vX9FgNKEBF"
      },
      "source": [
        "#df['city'], df['trash'] = df['location'].str.rsplit(', ', 1).str\n",
        "#df['state'] = df['trash'].str[:2]\n",
        "#df.drop(['trash', 'location'], axis = 1, inplace = True)\n",
        "#df['city'] = df['city'].str.strip()"
      ],
      "id": "S7vX9FgNKEBF",
      "execution_count": 7,
      "outputs": []
    },
    {
      "cell_type": "code",
      "metadata": {
        "id": "30gHVHv7JTLP"
      },
      "source": [
        "#Run for both Indeed and Simply after combined or individually changing df to df1\n",
        "#def Clean_city(City_name):\n",
        "    # Search for opening bracket in the name followed by\n",
        "    # any characters repeated any number of times\n",
        "#    if re.search('\\+.*', City_name):\n",
        "  \n",
        "        # Extract the position of beginning of pattern\n",
        "#        pos = re.search('\\+.*', City_name).start()\n",
        "  \n",
        "        # return the cleaned name\n",
        "#        return City_name[:pos]\n",
        "  \n",
        "#    else:\n",
        "        # if clean up needed return the same name\n",
        "#        return City_name\n",
        "          \n",
        "# Updated the city columns\n",
        "#df['city'] = df['city'].apply(Clean_city)"
      ],
      "id": "30gHVHv7JTLP",
      "execution_count": 8,
      "outputs": []
    },
    {
      "cell_type": "markdown",
      "metadata": {
        "id": "g9L6givJKwox"
      },
      "source": [
        "Code block to clean salary column."
      ],
      "id": "g9L6givJKwox"
    },
    {
      "cell_type": "code",
      "metadata": {
        "id": "CwyZKZp56A4V"
      },
      "source": [
        "class salary:\n",
        "    def __init__(self, base, max, time):\n",
        "        self.base = base\n",
        "        self.max = max\n",
        "        self.time = time\n",
        "\n",
        "    def pay(self):\n",
        "        return pay(self)\n",
        "    \n",
        "\n",
        "def pay(sal):\n",
        "    if sal.base == False:\n",
        "        sal.pay = sal.max * sal.time\n",
        "    elif sal.max == True:\n",
        "        sal.pay = sal.base * sal.time\n",
        "    else:\n",
        "        sal.pay = (sal.base + sal.max) / 2 * sal.time\n",
        "    return sal.pay\n",
        "\n",
        "def parse_salary(arr):\n",
        "    arr = arr.replace('$', '')\n",
        "    arr = arr.replace(',', '').lower()\n",
        "    arr = arr.split()\n",
        "    base_salary = False\n",
        "    max_salary = False\n",
        "    for i in arr:\n",
        "        try:\n",
        "            i = float(i)\n",
        "            if max_salary:\n",
        "                max_salary = i\n",
        "            else:\n",
        "                base_salary = i\n",
        "                max_salary = True\n",
        "        except:\n",
        "            if i == 'up':\n",
        "                max_salary = True\n",
        "        \n",
        "        if i == 'hour':\n",
        "            rate = 2080\n",
        "        elif i == 'month':\n",
        "            rate = 12\n",
        "        elif i == 'year':\n",
        "            rate = 1\n",
        "\n",
        "    return salary(base = base_salary, max = max_salary, time = rate)\n",
        "\n",
        "def parse_pay(arr):\n",
        "    new_sal = []\n",
        "    for i in arr:\n",
        "        try:\n",
        "            new_sal.append(pay(parse_salary(i)))\n",
        "        except:\n",
        "            new_sal.append(float(\"NaN\"))\n",
        "    return new_sal\n",
        "\n",
        "def parse_file(csv):\n",
        "    df = pd.read_csv(csv)\n",
        "    salary_list = df['salary']\n",
        "    salary_list = list(salary_list)\n",
        "    return parse_pay(salary_list)\n",
        "\n",
        "df['salary'] = parse_pay(df['salary'])"
      ],
      "id": "CwyZKZp56A4V",
      "execution_count": 9,
      "outputs": []
    },
    {
      "cell_type": "code",
      "metadata": {
        "colab": {
          "base_uri": "https://localhost:8080/"
        },
        "id": "8SNl95_7KxyR",
        "outputId": "91ee7552-7189-44f3-d8f8-c2fa129916d2"
      },
      "source": [
        "df.shape"
      ],
      "id": "8SNl95_7KxyR",
      "execution_count": 10,
      "outputs": [
        {
          "output_type": "execute_result",
          "data": {
            "text/plain": [
              "(5558, 10)"
            ]
          },
          "metadata": {},
          "execution_count": 10
        }
      ]
    },
    {
      "cell_type": "code",
      "metadata": {
        "colab": {
          "base_uri": "https://localhost:8080/"
        },
        "id": "I4GQk_2VLQHq",
        "outputId": "f0adae0c-1688-4d66-a999-e284a750ddf7"
      },
      "source": [
        "df = df.drop_duplicates()\n",
        "df.shape"
      ],
      "id": "I4GQk_2VLQHq",
      "execution_count": 11,
      "outputs": [
        {
          "output_type": "execute_result",
          "data": {
            "text/plain": [
              "(1875, 10)"
            ]
          },
          "metadata": {},
          "execution_count": 11
        }
      ]
    },
    {
      "cell_type": "code",
      "metadata": {
        "colab": {
          "base_uri": "https://localhost:8080/",
          "height": 999
        },
        "id": "G0rQJpsJYnxI",
        "outputId": "cc28dcf6-a223-4190-f334-2d8057e911dc"
      },
      "source": [
        "df"
      ],
      "id": "G0rQJpsJYnxI",
      "execution_count": 12,
      "outputs": [
        {
          "output_type": "execute_result",
          "data": {
            "text/html": [
              "<div>\n",
              "<style scoped>\n",
              "    .dataframe tbody tr th:only-of-type {\n",
              "        vertical-align: middle;\n",
              "    }\n",
              "\n",
              "    .dataframe tbody tr th {\n",
              "        vertical-align: top;\n",
              "    }\n",
              "\n",
              "    .dataframe thead th {\n",
              "        text-align: right;\n",
              "    }\n",
              "</style>\n",
              "<table border=\"1\" class=\"dataframe\">\n",
              "  <thead>\n",
              "    <tr style=\"text-align: right;\">\n",
              "      <th></th>\n",
              "      <th>title</th>\n",
              "      <th>salary</th>\n",
              "      <th>description</th>\n",
              "      <th>remote</th>\n",
              "      <th>city</th>\n",
              "      <th>state</th>\n",
              "      <th>job_board</th>\n",
              "      <th>company</th>\n",
              "      <th>compan</th>\n",
              "      <th>industry</th>\n",
              "    </tr>\n",
              "  </thead>\n",
              "  <tbody>\n",
              "    <tr>\n",
              "      <th>0</th>\n",
              "      <td>Data Scientist</td>\n",
              "      <td>NaN</td>\n",
              "      <td>Experience with eCommerce data analysis is a p...</td>\n",
              "      <td>yes</td>\n",
              "      <td>Delano</td>\n",
              "      <td>CA</td>\n",
              "      <td>Indeed</td>\n",
              "      <td>NaN</td>\n",
              "      <td>NaN</td>\n",
              "      <td>NaN</td>\n",
              "    </tr>\n",
              "    <tr>\n",
              "      <th>1</th>\n",
              "      <td>Data Scientist</td>\n",
              "      <td>NaN</td>\n",
              "      <td>NaN</td>\n",
              "      <td>yes</td>\n",
              "      <td>Remote</td>\n",
              "      <td>NaN</td>\n",
              "      <td>Indeed</td>\n",
              "      <td>NaN</td>\n",
              "      <td>NaN</td>\n",
              "      <td>NaN</td>\n",
              "    </tr>\n",
              "    <tr>\n",
              "      <th>2</th>\n",
              "      <td>Data Scientist</td>\n",
              "      <td>NaN</td>\n",
              "      <td>Experience supporting data scientists across t...</td>\n",
              "      <td>yes</td>\n",
              "      <td>Remote</td>\n",
              "      <td>NaN</td>\n",
              "      <td>Indeed</td>\n",
              "      <td>NaN</td>\n",
              "      <td>NaN</td>\n",
              "      <td>NaN</td>\n",
              "    </tr>\n",
              "    <tr>\n",
              "      <th>3</th>\n",
              "      <td>Data Engineer</td>\n",
              "      <td>NaN</td>\n",
              "      <td>Define and execute the data engineering roadma...</td>\n",
              "      <td>no</td>\n",
              "      <td>Atlanta</td>\n",
              "      <td>GA</td>\n",
              "      <td>Indeed</td>\n",
              "      <td>NaN</td>\n",
              "      <td>NaN</td>\n",
              "      <td>NaN</td>\n",
              "    </tr>\n",
              "    <tr>\n",
              "      <th>4</th>\n",
              "      <td>Data Scientist</td>\n",
              "      <td>NaN</td>\n",
              "      <td>Understands how to break down the data, extrac...</td>\n",
              "      <td>yes</td>\n",
              "      <td>Seattle</td>\n",
              "      <td>WA</td>\n",
              "      <td>Indeed</td>\n",
              "      <td>NaN</td>\n",
              "      <td>NaN</td>\n",
              "      <td>NaN</td>\n",
              "    </tr>\n",
              "    <tr>\n",
              "      <th>...</th>\n",
              "      <td>...</td>\n",
              "      <td>...</td>\n",
              "      <td>...</td>\n",
              "      <td>...</td>\n",
              "      <td>...</td>\n",
              "      <td>...</td>\n",
              "      <td>...</td>\n",
              "      <td>...</td>\n",
              "      <td>...</td>\n",
              "      <td>...</td>\n",
              "    </tr>\n",
              "    <tr>\n",
              "      <th>5553</th>\n",
              "      <td>Data Scientist</td>\n",
              "      <td>NaN</td>\n",
              "      <td>Train and tune a variety of model architecture...</td>\n",
              "      <td>yes</td>\n",
              "      <td>Remote</td>\n",
              "      <td>NaN</td>\n",
              "      <td>Simply Hired</td>\n",
              "      <td>XSOLIS</td>\n",
              "      <td>XSOLIS</td>\n",
              "      <td>NaN</td>\n",
              "    </tr>\n",
              "    <tr>\n",
              "      <th>5554</th>\n",
              "      <td>Data Scientist</td>\n",
              "      <td>NaN</td>\n",
              "      <td>Partner with data architects to ensure that Da...</td>\n",
              "      <td>no</td>\n",
              "      <td>New York</td>\n",
              "      <td>NY</td>\n",
              "      <td>Simply Hired</td>\n",
              "      <td>Yelp</td>\n",
              "      <td>Yelp</td>\n",
              "      <td>Entertainment</td>\n",
              "    </tr>\n",
              "    <tr>\n",
              "      <th>5555</th>\n",
              "      <td>Data Analyst</td>\n",
              "      <td>NaN</td>\n",
              "      <td>An undergraduate degree in computer science, m...</td>\n",
              "      <td>no</td>\n",
              "      <td>New York</td>\n",
              "      <td>NY</td>\n",
              "      <td>Simply Hired</td>\n",
              "      <td>YieldX</td>\n",
              "      <td>YieldX</td>\n",
              "      <td>NaN</td>\n",
              "    </tr>\n",
              "    <tr>\n",
              "      <th>5556</th>\n",
              "      <td>Data Scientist</td>\n",
              "      <td>NaN</td>\n",
              "      <td>1-3 years of experience in data science and ad...</td>\n",
              "      <td>yes</td>\n",
              "      <td>Remote</td>\n",
              "      <td>NaN</td>\n",
              "      <td>Simply Hired</td>\n",
              "      <td>Zebit</td>\n",
              "      <td>Zebit</td>\n",
              "      <td>NaN</td>\n",
              "    </tr>\n",
              "    <tr>\n",
              "      <th>5557</th>\n",
              "      <td>Data Scientist</td>\n",
              "      <td>NaN</td>\n",
              "      <td>Be a strong partner with data engineering team...</td>\n",
              "      <td>no</td>\n",
              "      <td>Seattle</td>\n",
              "      <td>WA</td>\n",
              "      <td>Simply Hired</td>\n",
              "      <td>Zillow</td>\n",
              "      <td>Zillow</td>\n",
              "      <td>Software (Entertainment)</td>\n",
              "    </tr>\n",
              "  </tbody>\n",
              "</table>\n",
              "<p>1875 rows × 10 columns</p>\n",
              "</div>"
            ],
            "text/plain": [
              "               title  salary  ...  compan                  industry\n",
              "0     Data Scientist     NaN  ...     NaN                       NaN\n",
              "1     Data Scientist     NaN  ...     NaN                       NaN\n",
              "2     Data Scientist     NaN  ...     NaN                       NaN\n",
              "3      Data Engineer     NaN  ...     NaN                       NaN\n",
              "4     Data Scientist     NaN  ...     NaN                       NaN\n",
              "...              ...     ...  ...     ...                       ...\n",
              "5553  Data Scientist     NaN  ...  XSOLIS                       NaN\n",
              "5554  Data Scientist     NaN  ...    Yelp             Entertainment\n",
              "5555    Data Analyst     NaN  ...  YieldX                       NaN\n",
              "5556  Data Scientist     NaN  ...   Zebit                       NaN\n",
              "5557  Data Scientist     NaN  ...  Zillow  Software (Entertainment)\n",
              "\n",
              "[1875 rows x 10 columns]"
            ]
          },
          "metadata": {},
          "execution_count": 12
        }
      ]
    },
    {
      "cell_type": "code",
      "metadata": {
        "colab": {
          "base_uri": "https://localhost:8080/",
          "height": 542
        },
        "id": "GII5zID3Rq-t",
        "outputId": "1898fc5c-654a-4d26-e637-3fa120a9ec54"
      },
      "source": [
        "ind_df = df.groupby(['industry'])\n",
        "ind_sal = ind_df.mean()\n",
        "ind = ind_df.count()\n",
        "ind.rename(columns={'salary':'salary_ind'}, inplace=True)\n",
        "ind['ratio'] = ind['salary_ind'] / ind['title']\n",
        "ind = pd.concat([ind, ind_sal], axis = 1).reset_index()\n",
        "fig = px.treemap(ind, path = ['industry'], values = 'title', color = 'salary', color_continuous_scale='Emrld')\n",
        "fig.show()"
      ],
      "id": "GII5zID3Rq-t",
      "execution_count": 13,
      "outputs": [
        {
          "output_type": "display_data",
          "data": {
            "text/html": [
              "<html>\n",
              "<head><meta charset=\"utf-8\" /></head>\n",
              "<body>\n",
              "    <div>            <script src=\"https://cdnjs.cloudflare.com/ajax/libs/mathjax/2.7.5/MathJax.js?config=TeX-AMS-MML_SVG\"></script><script type=\"text/javascript\">if (window.MathJax) {MathJax.Hub.Config({SVG: {font: \"STIX-Web\"}});}</script>                <script type=\"text/javascript\">window.PlotlyConfig = {MathJaxConfig: 'local'};</script>\n",
              "        <script src=\"https://cdn.plot.ly/plotly-2.6.3.min.js\"></script>                <div id=\"a8ffd078-76c3-4f85-9963-78e47e9bf033\" class=\"plotly-graph-div\" style=\"height:525px; width:100%;\"></div>            <script type=\"text/javascript\">                                    window.PLOTLYENV=window.PLOTLYENV || {};                                    if (document.getElementById(\"a8ffd078-76c3-4f85-9963-78e47e9bf033\")) {                    Plotly.newPlot(                        \"a8ffd078-76c3-4f85-9963-78e47e9bf033\",                        [{\"branchvalues\":\"total\",\"customdata\":[[null],[70000.0],[null],[null],[null],[90000.0],[112757.5],[90625.0],[72000.0],[66040.0],[118761.0],[116480.0],[97000.0],[109900.0],[107500.0],[140400.0],[null],[101345.7],[152334.5],[null],[116319.5],[95925.0],[null],[null],[113798.91666666667],[99376.91666666667],[150000.0],[154000.0],[94906.6],[76500.0],[26000.0],[31200.0],[108678.80555555556],[170500.0],[71200.0],[72500.0],[null],[55871.0],[null],[129174.08333333333],[105900.0],[null],[65183.32499999999],[107470.75],[94972.8],[67439.0],[58573.5],[null],[54413.0],[112310.0],[97500.0],[93932.25],[null],[null],[null],[111677.0],[107500.0],[117500.0],[null],[87500.0],[117500.0],[109200.0],[null],[null],[127175.0],[null],[null],[72500.0],[100000.0],[62500.0],[90200.0],[98220.0],[97500.0],[116500.0],[100665.66666666667],[null],[107525.2],[null]],\"domain\":{\"x\":[0.0,1.0],\"y\":[0.0,1.0]},\"hovertemplate\":\"labels=%{label}<br>title=%{value}<br>parent=%{parent}<br>id=%{id}<br>salary=%{color}<extra></extra>\",\"ids\":[\"Advertising\",\"Aerospace/Defense\",\"Air Transport\",\"Apparel\",\"Auto & Truck\",\"Auto Parts\",\"Bank (Money Center)\",\"Banks (Regional)\",\"Beverage (Alcoholic)\",\"Beverage (Soft)\",\"Broadcasting\",\"Brokerage & Investment Banking\",\"Building Materials\",\"Business & Consumer Services\",\"Chemical (Basic)\",\"Chemical (Specialty)\",\"Coal & Related Energy\",\"Computer Services\",\"Computers/Peripherals\",\"Diversified\",\"Drugs (Biotechnology)\",\"Drugs (Pharmaceutical)\",\"Education\",\"Electrical Equipment\",\"Electronics (General)\",\"Engineering/Construction\",\"Entertainment\",\"Farming/Agriculture\",\"Financial Svcs. (Non-bank & Insurance)\",\"Food Processing\",\"Food Wholesalers\",\"Furn/Home Furnishings\",\"Government\",\"Healthcare Products\",\"Healthcare Support Services\",\"Heathcare Information and Technology\",\"Homebuilding\",\"Hospitals/Healthcare Facilities\",\"Hotel/Gaming\",\"Household Products\",\"Information Services\",\"Insurance (Life)\",\"Insurance (Prop/Cas.)\",\"Investments & Asset Management\",\"Machinery\",\"Metals & Mining\",\"Office Equipment & Services\",\"Oil/Gas (Integrated)\",\"Oil/Gas (Production and Exploration)\",\"Oilfield Svcs/Equip.\",\"Packaging & Container\",\"Power\",\"Precious Metals\",\"Publishing & Newspapers\",\"R.E.I.T.\",\"Real Estate (Development)\",\"Real Estate (General/Diversified)\",\"Real Estate (Operations & Services)\",\"Recreation\",\"Restaurant/Dining\",\"Retail (Automotive)\",\"Retail (Distributors)\",\"Retail (General)\",\"Retail (Grocery and Food)\",\"Retail (Online)\",\"Retail (Special Lines)\",\"Semiconductor\",\"Semiconductor Equip\",\"Shipbuilding & Marine\",\"Software (Entertainment)\",\"Software (System & Application)\",\"Steel\",\"Telecom (Wireless)\",\"Telecom. Equipment\",\"Telecom. Services\",\"Tobacco\",\"Transportation\",\"Trucking\"],\"labels\":[\"Advertising\",\"Aerospace/Defense\",\"Air Transport\",\"Apparel\",\"Auto & Truck\",\"Auto Parts\",\"Bank (Money Center)\",\"Banks (Regional)\",\"Beverage (Alcoholic)\",\"Beverage (Soft)\",\"Broadcasting\",\"Brokerage & Investment Banking\",\"Building Materials\",\"Business & Consumer Services\",\"Chemical (Basic)\",\"Chemical (Specialty)\",\"Coal & Related Energy\",\"Computer Services\",\"Computers/Peripherals\",\"Diversified\",\"Drugs (Biotechnology)\",\"Drugs (Pharmaceutical)\",\"Education\",\"Electrical Equipment\",\"Electronics (General)\",\"Engineering/Construction\",\"Entertainment\",\"Farming/Agriculture\",\"Financial Svcs. (Non-bank & Insurance)\",\"Food Processing\",\"Food Wholesalers\",\"Furn/Home Furnishings\",\"Government\",\"Healthcare Products\",\"Healthcare Support Services\",\"Heathcare Information and Technology\",\"Homebuilding\",\"Hospitals/Healthcare Facilities\",\"Hotel/Gaming\",\"Household Products\",\"Information Services\",\"Insurance (Life)\",\"Insurance (Prop/Cas.)\",\"Investments & Asset Management\",\"Machinery\",\"Metals & Mining\",\"Office Equipment & Services\",\"Oil/Gas (Integrated)\",\"Oil/Gas (Production and Exploration)\",\"Oilfield Svcs/Equip.\",\"Packaging & Container\",\"Power\",\"Precious Metals\",\"Publishing & Newspapers\",\"R.E.I.T.\",\"Real Estate (Development)\",\"Real Estate (General/Diversified)\",\"Real Estate (Operations & Services)\",\"Recreation\",\"Restaurant/Dining\",\"Retail (Automotive)\",\"Retail (Distributors)\",\"Retail (General)\",\"Retail (Grocery and Food)\",\"Retail (Online)\",\"Retail (Special Lines)\",\"Semiconductor\",\"Semiconductor Equip\",\"Shipbuilding & Marine\",\"Software (Entertainment)\",\"Software (System & Application)\",\"Steel\",\"Telecom (Wireless)\",\"Telecom. Equipment\",\"Telecom. Services\",\"Tobacco\",\"Transportation\",\"Trucking\"],\"marker\":{\"coloraxis\":\"coloraxis\",\"colors\":[null,70000.0,null,null,null,90000.0,112757.5,90625.0,72000.0,66040.0,118761.0,116480.0,97000.0,109900.0,107500.0,140400.0,null,101345.7,152334.5,null,116319.5,95925.0,null,null,113798.91666666667,99376.91666666667,150000.0,154000.0,94906.6,76500.0,26000.0,31200.0,108678.80555555556,170500.0,71200.0,72500.0,null,55871.0,null,129174.08333333333,105900.0,null,65183.32499999999,107470.75,94972.8,67439.0,58573.5,null,54413.0,112310.0,97500.0,93932.25,null,null,null,111677.0,107500.0,117500.0,null,87500.0,117500.0,109200.0,null,null,127175.0,null,null,72500.0,100000.0,62500.0,90200.0,98220.0,97500.0,116500.0,100665.66666666667,null,107525.2,null]},\"name\":\"\",\"parents\":[\"\",\"\",\"\",\"\",\"\",\"\",\"\",\"\",\"\",\"\",\"\",\"\",\"\",\"\",\"\",\"\",\"\",\"\",\"\",\"\",\"\",\"\",\"\",\"\",\"\",\"\",\"\",\"\",\"\",\"\",\"\",\"\",\"\",\"\",\"\",\"\",\"\",\"\",\"\",\"\",\"\",\"\",\"\",\"\",\"\",\"\",\"\",\"\",\"\",\"\",\"\",\"\",\"\",\"\",\"\",\"\",\"\",\"\",\"\",\"\",\"\",\"\",\"\",\"\",\"\",\"\",\"\",\"\",\"\",\"\",\"\",\"\",\"\",\"\",\"\",\"\",\"\",\"\"],\"values\":[8,6,4,5,5,8,9,16,1,2,7,4,3,4,1,3,1,45,4,1,11,27,1,5,32,8,24,8,20,6,2,1,18,11,5,5,1,2,3,8,10,1,6,14,12,5,1,1,8,7,3,6,3,3,4,5,2,4,3,5,6,3,3,2,6,6,2,1,1,29,15,3,1,7,8,1,6,3],\"type\":\"treemap\"}],                        {\"template\":{\"data\":{\"bar\":[{\"error_x\":{\"color\":\"#2a3f5f\"},\"error_y\":{\"color\":\"#2a3f5f\"},\"marker\":{\"line\":{\"color\":\"#E5ECF6\",\"width\":0.5},\"pattern\":{\"fillmode\":\"overlay\",\"size\":10,\"solidity\":0.2}},\"type\":\"bar\"}],\"barpolar\":[{\"marker\":{\"line\":{\"color\":\"#E5ECF6\",\"width\":0.5},\"pattern\":{\"fillmode\":\"overlay\",\"size\":10,\"solidity\":0.2}},\"type\":\"barpolar\"}],\"carpet\":[{\"aaxis\":{\"endlinecolor\":\"#2a3f5f\",\"gridcolor\":\"white\",\"linecolor\":\"white\",\"minorgridcolor\":\"white\",\"startlinecolor\":\"#2a3f5f\"},\"baxis\":{\"endlinecolor\":\"#2a3f5f\",\"gridcolor\":\"white\",\"linecolor\":\"white\",\"minorgridcolor\":\"white\",\"startlinecolor\":\"#2a3f5f\"},\"type\":\"carpet\"}],\"choropleth\":[{\"colorbar\":{\"outlinewidth\":0,\"ticks\":\"\"},\"type\":\"choropleth\"}],\"contour\":[{\"colorbar\":{\"outlinewidth\":0,\"ticks\":\"\"},\"colorscale\":[[0.0,\"#0d0887\"],[0.1111111111111111,\"#46039f\"],[0.2222222222222222,\"#7201a8\"],[0.3333333333333333,\"#9c179e\"],[0.4444444444444444,\"#bd3786\"],[0.5555555555555556,\"#d8576b\"],[0.6666666666666666,\"#ed7953\"],[0.7777777777777778,\"#fb9f3a\"],[0.8888888888888888,\"#fdca26\"],[1.0,\"#f0f921\"]],\"type\":\"contour\"}],\"contourcarpet\":[{\"colorbar\":{\"outlinewidth\":0,\"ticks\":\"\"},\"type\":\"contourcarpet\"}],\"heatmap\":[{\"colorbar\":{\"outlinewidth\":0,\"ticks\":\"\"},\"colorscale\":[[0.0,\"#0d0887\"],[0.1111111111111111,\"#46039f\"],[0.2222222222222222,\"#7201a8\"],[0.3333333333333333,\"#9c179e\"],[0.4444444444444444,\"#bd3786\"],[0.5555555555555556,\"#d8576b\"],[0.6666666666666666,\"#ed7953\"],[0.7777777777777778,\"#fb9f3a\"],[0.8888888888888888,\"#fdca26\"],[1.0,\"#f0f921\"]],\"type\":\"heatmap\"}],\"heatmapgl\":[{\"colorbar\":{\"outlinewidth\":0,\"ticks\":\"\"},\"colorscale\":[[0.0,\"#0d0887\"],[0.1111111111111111,\"#46039f\"],[0.2222222222222222,\"#7201a8\"],[0.3333333333333333,\"#9c179e\"],[0.4444444444444444,\"#bd3786\"],[0.5555555555555556,\"#d8576b\"],[0.6666666666666666,\"#ed7953\"],[0.7777777777777778,\"#fb9f3a\"],[0.8888888888888888,\"#fdca26\"],[1.0,\"#f0f921\"]],\"type\":\"heatmapgl\"}],\"histogram\":[{\"marker\":{\"pattern\":{\"fillmode\":\"overlay\",\"size\":10,\"solidity\":0.2}},\"type\":\"histogram\"}],\"histogram2d\":[{\"colorbar\":{\"outlinewidth\":0,\"ticks\":\"\"},\"colorscale\":[[0.0,\"#0d0887\"],[0.1111111111111111,\"#46039f\"],[0.2222222222222222,\"#7201a8\"],[0.3333333333333333,\"#9c179e\"],[0.4444444444444444,\"#bd3786\"],[0.5555555555555556,\"#d8576b\"],[0.6666666666666666,\"#ed7953\"],[0.7777777777777778,\"#fb9f3a\"],[0.8888888888888888,\"#fdca26\"],[1.0,\"#f0f921\"]],\"type\":\"histogram2d\"}],\"histogram2dcontour\":[{\"colorbar\":{\"outlinewidth\":0,\"ticks\":\"\"},\"colorscale\":[[0.0,\"#0d0887\"],[0.1111111111111111,\"#46039f\"],[0.2222222222222222,\"#7201a8\"],[0.3333333333333333,\"#9c179e\"],[0.4444444444444444,\"#bd3786\"],[0.5555555555555556,\"#d8576b\"],[0.6666666666666666,\"#ed7953\"],[0.7777777777777778,\"#fb9f3a\"],[0.8888888888888888,\"#fdca26\"],[1.0,\"#f0f921\"]],\"type\":\"histogram2dcontour\"}],\"mesh3d\":[{\"colorbar\":{\"outlinewidth\":0,\"ticks\":\"\"},\"type\":\"mesh3d\"}],\"parcoords\":[{\"line\":{\"colorbar\":{\"outlinewidth\":0,\"ticks\":\"\"}},\"type\":\"parcoords\"}],\"pie\":[{\"automargin\":true,\"type\":\"pie\"}],\"scatter\":[{\"marker\":{\"colorbar\":{\"outlinewidth\":0,\"ticks\":\"\"}},\"type\":\"scatter\"}],\"scatter3d\":[{\"line\":{\"colorbar\":{\"outlinewidth\":0,\"ticks\":\"\"}},\"marker\":{\"colorbar\":{\"outlinewidth\":0,\"ticks\":\"\"}},\"type\":\"scatter3d\"}],\"scattercarpet\":[{\"marker\":{\"colorbar\":{\"outlinewidth\":0,\"ticks\":\"\"}},\"type\":\"scattercarpet\"}],\"scattergeo\":[{\"marker\":{\"colorbar\":{\"outlinewidth\":0,\"ticks\":\"\"}},\"type\":\"scattergeo\"}],\"scattergl\":[{\"marker\":{\"colorbar\":{\"outlinewidth\":0,\"ticks\":\"\"}},\"type\":\"scattergl\"}],\"scattermapbox\":[{\"marker\":{\"colorbar\":{\"outlinewidth\":0,\"ticks\":\"\"}},\"type\":\"scattermapbox\"}],\"scatterpolar\":[{\"marker\":{\"colorbar\":{\"outlinewidth\":0,\"ticks\":\"\"}},\"type\":\"scatterpolar\"}],\"scatterpolargl\":[{\"marker\":{\"colorbar\":{\"outlinewidth\":0,\"ticks\":\"\"}},\"type\":\"scatterpolargl\"}],\"scatterternary\":[{\"marker\":{\"colorbar\":{\"outlinewidth\":0,\"ticks\":\"\"}},\"type\":\"scatterternary\"}],\"surface\":[{\"colorbar\":{\"outlinewidth\":0,\"ticks\":\"\"},\"colorscale\":[[0.0,\"#0d0887\"],[0.1111111111111111,\"#46039f\"],[0.2222222222222222,\"#7201a8\"],[0.3333333333333333,\"#9c179e\"],[0.4444444444444444,\"#bd3786\"],[0.5555555555555556,\"#d8576b\"],[0.6666666666666666,\"#ed7953\"],[0.7777777777777778,\"#fb9f3a\"],[0.8888888888888888,\"#fdca26\"],[1.0,\"#f0f921\"]],\"type\":\"surface\"}],\"table\":[{\"cells\":{\"fill\":{\"color\":\"#EBF0F8\"},\"line\":{\"color\":\"white\"}},\"header\":{\"fill\":{\"color\":\"#C8D4E3\"},\"line\":{\"color\":\"white\"}},\"type\":\"table\"}]},\"layout\":{\"annotationdefaults\":{\"arrowcolor\":\"#2a3f5f\",\"arrowhead\":0,\"arrowwidth\":1},\"autotypenumbers\":\"strict\",\"coloraxis\":{\"colorbar\":{\"outlinewidth\":0,\"ticks\":\"\"}},\"colorscale\":{\"diverging\":[[0,\"#8e0152\"],[0.1,\"#c51b7d\"],[0.2,\"#de77ae\"],[0.3,\"#f1b6da\"],[0.4,\"#fde0ef\"],[0.5,\"#f7f7f7\"],[0.6,\"#e6f5d0\"],[0.7,\"#b8e186\"],[0.8,\"#7fbc41\"],[0.9,\"#4d9221\"],[1,\"#276419\"]],\"sequential\":[[0.0,\"#0d0887\"],[0.1111111111111111,\"#46039f\"],[0.2222222222222222,\"#7201a8\"],[0.3333333333333333,\"#9c179e\"],[0.4444444444444444,\"#bd3786\"],[0.5555555555555556,\"#d8576b\"],[0.6666666666666666,\"#ed7953\"],[0.7777777777777778,\"#fb9f3a\"],[0.8888888888888888,\"#fdca26\"],[1.0,\"#f0f921\"]],\"sequentialminus\":[[0.0,\"#0d0887\"],[0.1111111111111111,\"#46039f\"],[0.2222222222222222,\"#7201a8\"],[0.3333333333333333,\"#9c179e\"],[0.4444444444444444,\"#bd3786\"],[0.5555555555555556,\"#d8576b\"],[0.6666666666666666,\"#ed7953\"],[0.7777777777777778,\"#fb9f3a\"],[0.8888888888888888,\"#fdca26\"],[1.0,\"#f0f921\"]]},\"colorway\":[\"#636efa\",\"#EF553B\",\"#00cc96\",\"#ab63fa\",\"#FFA15A\",\"#19d3f3\",\"#FF6692\",\"#B6E880\",\"#FF97FF\",\"#FECB52\"],\"font\":{\"color\":\"#2a3f5f\"},\"geo\":{\"bgcolor\":\"white\",\"lakecolor\":\"white\",\"landcolor\":\"#E5ECF6\",\"showlakes\":true,\"showland\":true,\"subunitcolor\":\"white\"},\"hoverlabel\":{\"align\":\"left\"},\"hovermode\":\"closest\",\"mapbox\":{\"style\":\"light\"},\"paper_bgcolor\":\"white\",\"plot_bgcolor\":\"#E5ECF6\",\"polar\":{\"angularaxis\":{\"gridcolor\":\"white\",\"linecolor\":\"white\",\"ticks\":\"\"},\"bgcolor\":\"#E5ECF6\",\"radialaxis\":{\"gridcolor\":\"white\",\"linecolor\":\"white\",\"ticks\":\"\"}},\"scene\":{\"xaxis\":{\"backgroundcolor\":\"#E5ECF6\",\"gridcolor\":\"white\",\"gridwidth\":2,\"linecolor\":\"white\",\"showbackground\":true,\"ticks\":\"\",\"zerolinecolor\":\"white\"},\"yaxis\":{\"backgroundcolor\":\"#E5ECF6\",\"gridcolor\":\"white\",\"gridwidth\":2,\"linecolor\":\"white\",\"showbackground\":true,\"ticks\":\"\",\"zerolinecolor\":\"white\"},\"zaxis\":{\"backgroundcolor\":\"#E5ECF6\",\"gridcolor\":\"white\",\"gridwidth\":2,\"linecolor\":\"white\",\"showbackground\":true,\"ticks\":\"\",\"zerolinecolor\":\"white\"}},\"shapedefaults\":{\"line\":{\"color\":\"#2a3f5f\"}},\"ternary\":{\"aaxis\":{\"gridcolor\":\"white\",\"linecolor\":\"white\",\"ticks\":\"\"},\"baxis\":{\"gridcolor\":\"white\",\"linecolor\":\"white\",\"ticks\":\"\"},\"bgcolor\":\"#E5ECF6\",\"caxis\":{\"gridcolor\":\"white\",\"linecolor\":\"white\",\"ticks\":\"\"}},\"title\":{\"x\":0.05},\"xaxis\":{\"automargin\":true,\"gridcolor\":\"white\",\"linecolor\":\"white\",\"ticks\":\"\",\"title\":{\"standoff\":15},\"zerolinecolor\":\"white\",\"zerolinewidth\":2},\"yaxis\":{\"automargin\":true,\"gridcolor\":\"white\",\"linecolor\":\"white\",\"ticks\":\"\",\"title\":{\"standoff\":15},\"zerolinecolor\":\"white\",\"zerolinewidth\":2}}},\"coloraxis\":{\"colorbar\":{\"title\":{\"text\":\"salary\"}},\"colorscale\":[[0.0,\"rgb(211, 242, 163)\"],[0.16666666666666666,\"rgb(151, 225, 150)\"],[0.3333333333333333,\"rgb(108, 192, 139)\"],[0.5,\"rgb(76, 155, 130)\"],[0.6666666666666666,\"rgb(33, 122, 121)\"],[0.8333333333333334,\"rgb(16, 89, 101)\"],[1.0,\"rgb(7, 64, 80)\"]]},\"legend\":{\"tracegroupgap\":0},\"margin\":{\"t\":60}},                        {\"responsive\": true}                    ).then(function(){\n",
              "                            \n",
              "var gd = document.getElementById('a8ffd078-76c3-4f85-9963-78e47e9bf033');\n",
              "var x = new MutationObserver(function (mutations, observer) {{\n",
              "        var display = window.getComputedStyle(gd).display;\n",
              "        if (!display || display === 'none') {{\n",
              "            console.log([gd, 'removed!']);\n",
              "            Plotly.purge(gd);\n",
              "            observer.disconnect();\n",
              "        }}\n",
              "}});\n",
              "\n",
              "// Listen for the removal of the full notebook cells\n",
              "var notebookContainer = gd.closest('#notebook-container');\n",
              "if (notebookContainer) {{\n",
              "    x.observe(notebookContainer, {childList: true});\n",
              "}}\n",
              "\n",
              "// Listen for the clearing of the current output cell\n",
              "var outputEl = gd.closest('.output');\n",
              "if (outputEl) {{\n",
              "    x.observe(outputEl, {childList: true});\n",
              "}}\n",
              "\n",
              "                        })                };                            </script>        </div>\n",
              "</body>\n",
              "</html>"
            ]
          },
          "metadata": {}
        }
      ]
    },
    {
      "cell_type": "code",
      "metadata": {
        "colab": {
          "base_uri": "https://localhost:8080/",
          "height": 542
        },
        "id": "Q61_OtWR9aYe",
        "outputId": "193e37b7-cfbf-4e90-b9cb-0e9523ca7348"
      },
      "source": [
        "fig = px.treemap(ind, path = ['industry'], values = 'title', color = 'ratio', color_continuous_scale='Burg')\n",
        "fig.show()"
      ],
      "id": "Q61_OtWR9aYe",
      "execution_count": 14,
      "outputs": [
        {
          "output_type": "display_data",
          "data": {
            "text/html": [
              "<html>\n",
              "<head><meta charset=\"utf-8\" /></head>\n",
              "<body>\n",
              "    <div>            <script src=\"https://cdnjs.cloudflare.com/ajax/libs/mathjax/2.7.5/MathJax.js?config=TeX-AMS-MML_SVG\"></script><script type=\"text/javascript\">if (window.MathJax) {MathJax.Hub.Config({SVG: {font: \"STIX-Web\"}});}</script>                <script type=\"text/javascript\">window.PlotlyConfig = {MathJaxConfig: 'local'};</script>\n",
              "        <script src=\"https://cdn.plot.ly/plotly-2.6.3.min.js\"></script>                <div id=\"bc0373b0-bfd4-491b-971c-db7f70e31837\" class=\"plotly-graph-div\" style=\"height:525px; width:100%;\"></div>            <script type=\"text/javascript\">                                    window.PLOTLYENV=window.PLOTLYENV || {};                                    if (document.getElementById(\"bc0373b0-bfd4-491b-971c-db7f70e31837\")) {                    Plotly.newPlot(                        \"bc0373b0-bfd4-491b-971c-db7f70e31837\",                        [{\"branchvalues\":\"total\",\"customdata\":[[0.0],[0.16666666666666666],[0.0],[0.0],[0.0],[0.125],[0.1111111111111111],[0.125],[1.0],[0.5],[0.5714285714285714],[0.25],[0.3333333333333333],[0.5],[1.0],[0.3333333333333333],[0.0],[0.1111111111111111],[0.25],[0.0],[0.36363636363636365],[0.2962962962962963],[0.0],[0.0],[0.1875],[0.75],[0.08333333333333333],[0.5],[0.25],[0.16666666666666666],[0.5],[1.0],[1.0],[0.09090909090909091],[0.6],[0.2],[0.0],[0.5],[0.0],[0.75],[0.2],[0.0],[0.6666666666666666],[0.14285714285714285],[0.25],[0.2],[1.0],[0.0],[0.125],[0.2857142857142857],[0.3333333333333333],[0.6666666666666666],[0.0],[0.0],[0.0],[0.2],[0.5],[0.25],[0.0],[0.4],[0.3333333333333333],[0.3333333333333333],[0.0],[0.0],[0.3333333333333333],[0.0],[0.0],[1.0],[1.0],[0.034482758620689655],[0.26666666666666666],[0.6666666666666666],[1.0],[0.14285714285714285],[0.375],[0.0],[0.8333333333333334],[0.0]],\"domain\":{\"x\":[0.0,1.0],\"y\":[0.0,1.0]},\"hovertemplate\":\"labels=%{label}<br>title=%{value}<br>parent=%{parent}<br>id=%{id}<br>ratio=%{color}<extra></extra>\",\"ids\":[\"Advertising\",\"Aerospace/Defense\",\"Air Transport\",\"Apparel\",\"Auto & Truck\",\"Auto Parts\",\"Bank (Money Center)\",\"Banks (Regional)\",\"Beverage (Alcoholic)\",\"Beverage (Soft)\",\"Broadcasting\",\"Brokerage & Investment Banking\",\"Building Materials\",\"Business & Consumer Services\",\"Chemical (Basic)\",\"Chemical (Specialty)\",\"Coal & Related Energy\",\"Computer Services\",\"Computers/Peripherals\",\"Diversified\",\"Drugs (Biotechnology)\",\"Drugs (Pharmaceutical)\",\"Education\",\"Electrical Equipment\",\"Electronics (General)\",\"Engineering/Construction\",\"Entertainment\",\"Farming/Agriculture\",\"Financial Svcs. (Non-bank & Insurance)\",\"Food Processing\",\"Food Wholesalers\",\"Furn/Home Furnishings\",\"Government\",\"Healthcare Products\",\"Healthcare Support Services\",\"Heathcare Information and Technology\",\"Homebuilding\",\"Hospitals/Healthcare Facilities\",\"Hotel/Gaming\",\"Household Products\",\"Information Services\",\"Insurance (Life)\",\"Insurance (Prop/Cas.)\",\"Investments & Asset Management\",\"Machinery\",\"Metals & Mining\",\"Office Equipment & Services\",\"Oil/Gas (Integrated)\",\"Oil/Gas (Production and Exploration)\",\"Oilfield Svcs/Equip.\",\"Packaging & Container\",\"Power\",\"Precious Metals\",\"Publishing & Newspapers\",\"R.E.I.T.\",\"Real Estate (Development)\",\"Real Estate (General/Diversified)\",\"Real Estate (Operations & Services)\",\"Recreation\",\"Restaurant/Dining\",\"Retail (Automotive)\",\"Retail (Distributors)\",\"Retail (General)\",\"Retail (Grocery and Food)\",\"Retail (Online)\",\"Retail (Special Lines)\",\"Semiconductor\",\"Semiconductor Equip\",\"Shipbuilding & Marine\",\"Software (Entertainment)\",\"Software (System & Application)\",\"Steel\",\"Telecom (Wireless)\",\"Telecom. Equipment\",\"Telecom. Services\",\"Tobacco\",\"Transportation\",\"Trucking\"],\"labels\":[\"Advertising\",\"Aerospace/Defense\",\"Air Transport\",\"Apparel\",\"Auto & Truck\",\"Auto Parts\",\"Bank (Money Center)\",\"Banks (Regional)\",\"Beverage (Alcoholic)\",\"Beverage (Soft)\",\"Broadcasting\",\"Brokerage & Investment Banking\",\"Building Materials\",\"Business & Consumer Services\",\"Chemical (Basic)\",\"Chemical (Specialty)\",\"Coal & Related Energy\",\"Computer Services\",\"Computers/Peripherals\",\"Diversified\",\"Drugs (Biotechnology)\",\"Drugs (Pharmaceutical)\",\"Education\",\"Electrical Equipment\",\"Electronics (General)\",\"Engineering/Construction\",\"Entertainment\",\"Farming/Agriculture\",\"Financial Svcs. (Non-bank & Insurance)\",\"Food Processing\",\"Food Wholesalers\",\"Furn/Home Furnishings\",\"Government\",\"Healthcare Products\",\"Healthcare Support Services\",\"Heathcare Information and Technology\",\"Homebuilding\",\"Hospitals/Healthcare Facilities\",\"Hotel/Gaming\",\"Household Products\",\"Information Services\",\"Insurance (Life)\",\"Insurance (Prop/Cas.)\",\"Investments & Asset Management\",\"Machinery\",\"Metals & Mining\",\"Office Equipment & Services\",\"Oil/Gas (Integrated)\",\"Oil/Gas (Production and Exploration)\",\"Oilfield Svcs/Equip.\",\"Packaging & Container\",\"Power\",\"Precious Metals\",\"Publishing & Newspapers\",\"R.E.I.T.\",\"Real Estate (Development)\",\"Real Estate (General/Diversified)\",\"Real Estate (Operations & Services)\",\"Recreation\",\"Restaurant/Dining\",\"Retail (Automotive)\",\"Retail (Distributors)\",\"Retail (General)\",\"Retail (Grocery and Food)\",\"Retail (Online)\",\"Retail (Special Lines)\",\"Semiconductor\",\"Semiconductor Equip\",\"Shipbuilding & Marine\",\"Software (Entertainment)\",\"Software (System & Application)\",\"Steel\",\"Telecom (Wireless)\",\"Telecom. Equipment\",\"Telecom. Services\",\"Tobacco\",\"Transportation\",\"Trucking\"],\"marker\":{\"coloraxis\":\"coloraxis\",\"colors\":[0.0,0.16666666666666666,0.0,0.0,0.0,0.125,0.1111111111111111,0.125,1.0,0.5,0.5714285714285714,0.25,0.3333333333333333,0.5,1.0,0.3333333333333333,0.0,0.1111111111111111,0.25,0.0,0.36363636363636365,0.2962962962962963,0.0,0.0,0.1875,0.75,0.08333333333333333,0.5,0.25,0.16666666666666666,0.5,1.0,1.0,0.09090909090909091,0.6,0.2,0.0,0.5,0.0,0.75,0.2,0.0,0.6666666666666666,0.14285714285714285,0.25,0.2,1.0,0.0,0.125,0.2857142857142857,0.3333333333333333,0.6666666666666666,0.0,0.0,0.0,0.2,0.5,0.25,0.0,0.4,0.3333333333333333,0.3333333333333333,0.0,0.0,0.3333333333333333,0.0,0.0,1.0,1.0,0.034482758620689655,0.26666666666666666,0.6666666666666666,1.0,0.14285714285714285,0.375,0.0,0.8333333333333334,0.0]},\"name\":\"\",\"parents\":[\"\",\"\",\"\",\"\",\"\",\"\",\"\",\"\",\"\",\"\",\"\",\"\",\"\",\"\",\"\",\"\",\"\",\"\",\"\",\"\",\"\",\"\",\"\",\"\",\"\",\"\",\"\",\"\",\"\",\"\",\"\",\"\",\"\",\"\",\"\",\"\",\"\",\"\",\"\",\"\",\"\",\"\",\"\",\"\",\"\",\"\",\"\",\"\",\"\",\"\",\"\",\"\",\"\",\"\",\"\",\"\",\"\",\"\",\"\",\"\",\"\",\"\",\"\",\"\",\"\",\"\",\"\",\"\",\"\",\"\",\"\",\"\",\"\",\"\",\"\",\"\",\"\",\"\"],\"values\":[8,6,4,5,5,8,9,16,1,2,7,4,3,4,1,3,1,45,4,1,11,27,1,5,32,8,24,8,20,6,2,1,18,11,5,5,1,2,3,8,10,1,6,14,12,5,1,1,8,7,3,6,3,3,4,5,2,4,3,5,6,3,3,2,6,6,2,1,1,29,15,3,1,7,8,1,6,3],\"type\":\"treemap\"}],                        {\"template\":{\"data\":{\"bar\":[{\"error_x\":{\"color\":\"#2a3f5f\"},\"error_y\":{\"color\":\"#2a3f5f\"},\"marker\":{\"line\":{\"color\":\"#E5ECF6\",\"width\":0.5},\"pattern\":{\"fillmode\":\"overlay\",\"size\":10,\"solidity\":0.2}},\"type\":\"bar\"}],\"barpolar\":[{\"marker\":{\"line\":{\"color\":\"#E5ECF6\",\"width\":0.5},\"pattern\":{\"fillmode\":\"overlay\",\"size\":10,\"solidity\":0.2}},\"type\":\"barpolar\"}],\"carpet\":[{\"aaxis\":{\"endlinecolor\":\"#2a3f5f\",\"gridcolor\":\"white\",\"linecolor\":\"white\",\"minorgridcolor\":\"white\",\"startlinecolor\":\"#2a3f5f\"},\"baxis\":{\"endlinecolor\":\"#2a3f5f\",\"gridcolor\":\"white\",\"linecolor\":\"white\",\"minorgridcolor\":\"white\",\"startlinecolor\":\"#2a3f5f\"},\"type\":\"carpet\"}],\"choropleth\":[{\"colorbar\":{\"outlinewidth\":0,\"ticks\":\"\"},\"type\":\"choropleth\"}],\"contour\":[{\"colorbar\":{\"outlinewidth\":0,\"ticks\":\"\"},\"colorscale\":[[0.0,\"#0d0887\"],[0.1111111111111111,\"#46039f\"],[0.2222222222222222,\"#7201a8\"],[0.3333333333333333,\"#9c179e\"],[0.4444444444444444,\"#bd3786\"],[0.5555555555555556,\"#d8576b\"],[0.6666666666666666,\"#ed7953\"],[0.7777777777777778,\"#fb9f3a\"],[0.8888888888888888,\"#fdca26\"],[1.0,\"#f0f921\"]],\"type\":\"contour\"}],\"contourcarpet\":[{\"colorbar\":{\"outlinewidth\":0,\"ticks\":\"\"},\"type\":\"contourcarpet\"}],\"heatmap\":[{\"colorbar\":{\"outlinewidth\":0,\"ticks\":\"\"},\"colorscale\":[[0.0,\"#0d0887\"],[0.1111111111111111,\"#46039f\"],[0.2222222222222222,\"#7201a8\"],[0.3333333333333333,\"#9c179e\"],[0.4444444444444444,\"#bd3786\"],[0.5555555555555556,\"#d8576b\"],[0.6666666666666666,\"#ed7953\"],[0.7777777777777778,\"#fb9f3a\"],[0.8888888888888888,\"#fdca26\"],[1.0,\"#f0f921\"]],\"type\":\"heatmap\"}],\"heatmapgl\":[{\"colorbar\":{\"outlinewidth\":0,\"ticks\":\"\"},\"colorscale\":[[0.0,\"#0d0887\"],[0.1111111111111111,\"#46039f\"],[0.2222222222222222,\"#7201a8\"],[0.3333333333333333,\"#9c179e\"],[0.4444444444444444,\"#bd3786\"],[0.5555555555555556,\"#d8576b\"],[0.6666666666666666,\"#ed7953\"],[0.7777777777777778,\"#fb9f3a\"],[0.8888888888888888,\"#fdca26\"],[1.0,\"#f0f921\"]],\"type\":\"heatmapgl\"}],\"histogram\":[{\"marker\":{\"pattern\":{\"fillmode\":\"overlay\",\"size\":10,\"solidity\":0.2}},\"type\":\"histogram\"}],\"histogram2d\":[{\"colorbar\":{\"outlinewidth\":0,\"ticks\":\"\"},\"colorscale\":[[0.0,\"#0d0887\"],[0.1111111111111111,\"#46039f\"],[0.2222222222222222,\"#7201a8\"],[0.3333333333333333,\"#9c179e\"],[0.4444444444444444,\"#bd3786\"],[0.5555555555555556,\"#d8576b\"],[0.6666666666666666,\"#ed7953\"],[0.7777777777777778,\"#fb9f3a\"],[0.8888888888888888,\"#fdca26\"],[1.0,\"#f0f921\"]],\"type\":\"histogram2d\"}],\"histogram2dcontour\":[{\"colorbar\":{\"outlinewidth\":0,\"ticks\":\"\"},\"colorscale\":[[0.0,\"#0d0887\"],[0.1111111111111111,\"#46039f\"],[0.2222222222222222,\"#7201a8\"],[0.3333333333333333,\"#9c179e\"],[0.4444444444444444,\"#bd3786\"],[0.5555555555555556,\"#d8576b\"],[0.6666666666666666,\"#ed7953\"],[0.7777777777777778,\"#fb9f3a\"],[0.8888888888888888,\"#fdca26\"],[1.0,\"#f0f921\"]],\"type\":\"histogram2dcontour\"}],\"mesh3d\":[{\"colorbar\":{\"outlinewidth\":0,\"ticks\":\"\"},\"type\":\"mesh3d\"}],\"parcoords\":[{\"line\":{\"colorbar\":{\"outlinewidth\":0,\"ticks\":\"\"}},\"type\":\"parcoords\"}],\"pie\":[{\"automargin\":true,\"type\":\"pie\"}],\"scatter\":[{\"marker\":{\"colorbar\":{\"outlinewidth\":0,\"ticks\":\"\"}},\"type\":\"scatter\"}],\"scatter3d\":[{\"line\":{\"colorbar\":{\"outlinewidth\":0,\"ticks\":\"\"}},\"marker\":{\"colorbar\":{\"outlinewidth\":0,\"ticks\":\"\"}},\"type\":\"scatter3d\"}],\"scattercarpet\":[{\"marker\":{\"colorbar\":{\"outlinewidth\":0,\"ticks\":\"\"}},\"type\":\"scattercarpet\"}],\"scattergeo\":[{\"marker\":{\"colorbar\":{\"outlinewidth\":0,\"ticks\":\"\"}},\"type\":\"scattergeo\"}],\"scattergl\":[{\"marker\":{\"colorbar\":{\"outlinewidth\":0,\"ticks\":\"\"}},\"type\":\"scattergl\"}],\"scattermapbox\":[{\"marker\":{\"colorbar\":{\"outlinewidth\":0,\"ticks\":\"\"}},\"type\":\"scattermapbox\"}],\"scatterpolar\":[{\"marker\":{\"colorbar\":{\"outlinewidth\":0,\"ticks\":\"\"}},\"type\":\"scatterpolar\"}],\"scatterpolargl\":[{\"marker\":{\"colorbar\":{\"outlinewidth\":0,\"ticks\":\"\"}},\"type\":\"scatterpolargl\"}],\"scatterternary\":[{\"marker\":{\"colorbar\":{\"outlinewidth\":0,\"ticks\":\"\"}},\"type\":\"scatterternary\"}],\"surface\":[{\"colorbar\":{\"outlinewidth\":0,\"ticks\":\"\"},\"colorscale\":[[0.0,\"#0d0887\"],[0.1111111111111111,\"#46039f\"],[0.2222222222222222,\"#7201a8\"],[0.3333333333333333,\"#9c179e\"],[0.4444444444444444,\"#bd3786\"],[0.5555555555555556,\"#d8576b\"],[0.6666666666666666,\"#ed7953\"],[0.7777777777777778,\"#fb9f3a\"],[0.8888888888888888,\"#fdca26\"],[1.0,\"#f0f921\"]],\"type\":\"surface\"}],\"table\":[{\"cells\":{\"fill\":{\"color\":\"#EBF0F8\"},\"line\":{\"color\":\"white\"}},\"header\":{\"fill\":{\"color\":\"#C8D4E3\"},\"line\":{\"color\":\"white\"}},\"type\":\"table\"}]},\"layout\":{\"annotationdefaults\":{\"arrowcolor\":\"#2a3f5f\",\"arrowhead\":0,\"arrowwidth\":1},\"autotypenumbers\":\"strict\",\"coloraxis\":{\"colorbar\":{\"outlinewidth\":0,\"ticks\":\"\"}},\"colorscale\":{\"diverging\":[[0,\"#8e0152\"],[0.1,\"#c51b7d\"],[0.2,\"#de77ae\"],[0.3,\"#f1b6da\"],[0.4,\"#fde0ef\"],[0.5,\"#f7f7f7\"],[0.6,\"#e6f5d0\"],[0.7,\"#b8e186\"],[0.8,\"#7fbc41\"],[0.9,\"#4d9221\"],[1,\"#276419\"]],\"sequential\":[[0.0,\"#0d0887\"],[0.1111111111111111,\"#46039f\"],[0.2222222222222222,\"#7201a8\"],[0.3333333333333333,\"#9c179e\"],[0.4444444444444444,\"#bd3786\"],[0.5555555555555556,\"#d8576b\"],[0.6666666666666666,\"#ed7953\"],[0.7777777777777778,\"#fb9f3a\"],[0.8888888888888888,\"#fdca26\"],[1.0,\"#f0f921\"]],\"sequentialminus\":[[0.0,\"#0d0887\"],[0.1111111111111111,\"#46039f\"],[0.2222222222222222,\"#7201a8\"],[0.3333333333333333,\"#9c179e\"],[0.4444444444444444,\"#bd3786\"],[0.5555555555555556,\"#d8576b\"],[0.6666666666666666,\"#ed7953\"],[0.7777777777777778,\"#fb9f3a\"],[0.8888888888888888,\"#fdca26\"],[1.0,\"#f0f921\"]]},\"colorway\":[\"#636efa\",\"#EF553B\",\"#00cc96\",\"#ab63fa\",\"#FFA15A\",\"#19d3f3\",\"#FF6692\",\"#B6E880\",\"#FF97FF\",\"#FECB52\"],\"font\":{\"color\":\"#2a3f5f\"},\"geo\":{\"bgcolor\":\"white\",\"lakecolor\":\"white\",\"landcolor\":\"#E5ECF6\",\"showlakes\":true,\"showland\":true,\"subunitcolor\":\"white\"},\"hoverlabel\":{\"align\":\"left\"},\"hovermode\":\"closest\",\"mapbox\":{\"style\":\"light\"},\"paper_bgcolor\":\"white\",\"plot_bgcolor\":\"#E5ECF6\",\"polar\":{\"angularaxis\":{\"gridcolor\":\"white\",\"linecolor\":\"white\",\"ticks\":\"\"},\"bgcolor\":\"#E5ECF6\",\"radialaxis\":{\"gridcolor\":\"white\",\"linecolor\":\"white\",\"ticks\":\"\"}},\"scene\":{\"xaxis\":{\"backgroundcolor\":\"#E5ECF6\",\"gridcolor\":\"white\",\"gridwidth\":2,\"linecolor\":\"white\",\"showbackground\":true,\"ticks\":\"\",\"zerolinecolor\":\"white\"},\"yaxis\":{\"backgroundcolor\":\"#E5ECF6\",\"gridcolor\":\"white\",\"gridwidth\":2,\"linecolor\":\"white\",\"showbackground\":true,\"ticks\":\"\",\"zerolinecolor\":\"white\"},\"zaxis\":{\"backgroundcolor\":\"#E5ECF6\",\"gridcolor\":\"white\",\"gridwidth\":2,\"linecolor\":\"white\",\"showbackground\":true,\"ticks\":\"\",\"zerolinecolor\":\"white\"}},\"shapedefaults\":{\"line\":{\"color\":\"#2a3f5f\"}},\"ternary\":{\"aaxis\":{\"gridcolor\":\"white\",\"linecolor\":\"white\",\"ticks\":\"\"},\"baxis\":{\"gridcolor\":\"white\",\"linecolor\":\"white\",\"ticks\":\"\"},\"bgcolor\":\"#E5ECF6\",\"caxis\":{\"gridcolor\":\"white\",\"linecolor\":\"white\",\"ticks\":\"\"}},\"title\":{\"x\":0.05},\"xaxis\":{\"automargin\":true,\"gridcolor\":\"white\",\"linecolor\":\"white\",\"ticks\":\"\",\"title\":{\"standoff\":15},\"zerolinecolor\":\"white\",\"zerolinewidth\":2},\"yaxis\":{\"automargin\":true,\"gridcolor\":\"white\",\"linecolor\":\"white\",\"ticks\":\"\",\"title\":{\"standoff\":15},\"zerolinecolor\":\"white\",\"zerolinewidth\":2}}},\"coloraxis\":{\"colorbar\":{\"title\":{\"text\":\"ratio\"}},\"colorscale\":[[0.0,\"rgb(255, 198, 196)\"],[0.16666666666666666,\"rgb(244, 163, 168)\"],[0.3333333333333333,\"rgb(227, 129, 145)\"],[0.5,\"rgb(204, 96, 125)\"],[0.6666666666666666,\"rgb(173, 70, 108)\"],[0.8333333333333334,\"rgb(139, 48, 88)\"],[1.0,\"rgb(103, 32, 68)\"]]},\"legend\":{\"tracegroupgap\":0},\"margin\":{\"t\":60}},                        {\"responsive\": true}                    ).then(function(){\n",
              "                            \n",
              "var gd = document.getElementById('bc0373b0-bfd4-491b-971c-db7f70e31837');\n",
              "var x = new MutationObserver(function (mutations, observer) {{\n",
              "        var display = window.getComputedStyle(gd).display;\n",
              "        if (!display || display === 'none') {{\n",
              "            console.log([gd, 'removed!']);\n",
              "            Plotly.purge(gd);\n",
              "            observer.disconnect();\n",
              "        }}\n",
              "}});\n",
              "\n",
              "// Listen for the removal of the full notebook cells\n",
              "var notebookContainer = gd.closest('#notebook-container');\n",
              "if (notebookContainer) {{\n",
              "    x.observe(notebookContainer, {childList: true});\n",
              "}}\n",
              "\n",
              "// Listen for the clearing of the current output cell\n",
              "var outputEl = gd.closest('.output');\n",
              "if (outputEl) {{\n",
              "    x.observe(outputEl, {childList: true});\n",
              "}}\n",
              "\n",
              "                        })                };                            </script>        </div>\n",
              "</body>\n",
              "</html>"
            ]
          },
          "metadata": {}
        }
      ]
    },
    {
      "cell_type": "code",
      "metadata": {
        "colab": {
          "base_uri": "https://localhost:8080/",
          "height": 1000
        },
        "id": "Sy0N_CDaKgsP",
        "outputId": "17edaa6f-900e-44a8-b6d6-13c9881d0d9e"
      },
      "source": [
        "nonnan = df[df['industry'] == df['industry']]\n",
        "nonnan"
      ],
      "id": "Sy0N_CDaKgsP",
      "execution_count": 15,
      "outputs": [
        {
          "output_type": "execute_result",
          "data": {
            "text/html": [
              "<div>\n",
              "<style scoped>\n",
              "    .dataframe tbody tr th:only-of-type {\n",
              "        vertical-align: middle;\n",
              "    }\n",
              "\n",
              "    .dataframe tbody tr th {\n",
              "        vertical-align: top;\n",
              "    }\n",
              "\n",
              "    .dataframe thead th {\n",
              "        text-align: right;\n",
              "    }\n",
              "</style>\n",
              "<table border=\"1\" class=\"dataframe\">\n",
              "  <thead>\n",
              "    <tr style=\"text-align: right;\">\n",
              "      <th></th>\n",
              "      <th>title</th>\n",
              "      <th>salary</th>\n",
              "      <th>description</th>\n",
              "      <th>remote</th>\n",
              "      <th>city</th>\n",
              "      <th>state</th>\n",
              "      <th>job_board</th>\n",
              "      <th>company</th>\n",
              "      <th>compan</th>\n",
              "      <th>industry</th>\n",
              "    </tr>\n",
              "  </thead>\n",
              "  <tbody>\n",
              "    <tr>\n",
              "      <th>2274</th>\n",
              "      <td>Data Engineer</td>\n",
              "      <td>NaN</td>\n",
              "      <td>Proficiency in Data Engineering frameworks, ab...</td>\n",
              "      <td>no</td>\n",
              "      <td>Irving</td>\n",
              "      <td>TX</td>\n",
              "      <td>Simply Hired</td>\n",
              "      <td>7-Eleven, Inc.</td>\n",
              "      <td>7-Elev</td>\n",
              "      <td>Retail (Grocery and Food)</td>\n",
              "    </tr>\n",
              "    <tr>\n",
              "      <th>2276</th>\n",
              "      <td>Data Analyst</td>\n",
              "      <td>97000.0</td>\n",
              "      <td>Promote data literacy and a data driven decisi...</td>\n",
              "      <td>no</td>\n",
              "      <td>Nashville</td>\n",
              "      <td>TN</td>\n",
              "      <td>Simply Hired</td>\n",
              "      <td>A. O. Smith Corporation</td>\n",
              "      <td>A. O.</td>\n",
              "      <td>Building Materials</td>\n",
              "    </tr>\n",
              "    <tr>\n",
              "      <th>2279</th>\n",
              "      <td>Data Scientist</td>\n",
              "      <td>NaN</td>\n",
              "      <td>Expertise with developing, implementing and de...</td>\n",
              "      <td>no</td>\n",
              "      <td>Lake County</td>\n",
              "      <td>IL</td>\n",
              "      <td>Simply Hired</td>\n",
              "      <td>Abbvie</td>\n",
              "      <td>Abbvie</td>\n",
              "      <td>Drugs (Biotechnology)</td>\n",
              "    </tr>\n",
              "    <tr>\n",
              "      <th>2280</th>\n",
              "      <td>Data Scientist</td>\n",
              "      <td>NaN</td>\n",
              "      <td>Primary objectives are to monetize our custome...</td>\n",
              "      <td>no</td>\n",
              "      <td>Columbus</td>\n",
              "      <td>OH</td>\n",
              "      <td>Simply Hired</td>\n",
              "      <td>Abercrombie and Fitch Co.</td>\n",
              "      <td>Abercr</td>\n",
              "      <td>Retail (Special Lines)</td>\n",
              "    </tr>\n",
              "    <tr>\n",
              "      <th>2491</th>\n",
              "      <td>Data Scientist</td>\n",
              "      <td>NaN</td>\n",
              "      <td>Foster the adoption of NLP and data science ac...</td>\n",
              "      <td>no</td>\n",
              "      <td>Atlanta</td>\n",
              "      <td>GA</td>\n",
              "      <td>Simply Hired</td>\n",
              "      <td>Accenture</td>\n",
              "      <td>Accent</td>\n",
              "      <td>Retail (Special Lines)</td>\n",
              "    </tr>\n",
              "    <tr>\n",
              "      <th>...</th>\n",
              "      <td>...</td>\n",
              "      <td>...</td>\n",
              "      <td>...</td>\n",
              "      <td>...</td>\n",
              "      <td>...</td>\n",
              "      <td>...</td>\n",
              "      <td>...</td>\n",
              "      <td>...</td>\n",
              "      <td>...</td>\n",
              "      <td>...</td>\n",
              "    </tr>\n",
              "    <tr>\n",
              "      <th>5539</th>\n",
              "      <td>Data Scientist</td>\n",
              "      <td>170500.0</td>\n",
              "      <td>Expert experience with data pipelines, data to...</td>\n",
              "      <td>no</td>\n",
              "      <td>Bethesda</td>\n",
              "      <td>MD</td>\n",
              "      <td>Simply Hired</td>\n",
              "      <td>Wellstone Technologies</td>\n",
              "      <td>Wellst</td>\n",
              "      <td>Healthcare Products</td>\n",
              "    </tr>\n",
              "    <tr>\n",
              "      <th>5546</th>\n",
              "      <td>Data Analyst</td>\n",
              "      <td>NaN</td>\n",
              "      <td>We help them make data analysis a key part to ...</td>\n",
              "      <td>yes</td>\n",
              "      <td>Remote</td>\n",
              "      <td>NaN</td>\n",
              "      <td>Simply Hired</td>\n",
              "      <td>World Wide Technology, Inc.</td>\n",
              "      <td>World</td>\n",
              "      <td>Financial Svcs. (Non-bank &amp; Insurance)</td>\n",
              "    </tr>\n",
              "    <tr>\n",
              "      <th>5547</th>\n",
              "      <td>Data Analyst</td>\n",
              "      <td>NaN</td>\n",
              "      <td>We take on the most challenging problems our c...</td>\n",
              "      <td>yes</td>\n",
              "      <td>Remote</td>\n",
              "      <td>NaN</td>\n",
              "      <td>Simply Hired</td>\n",
              "      <td>World Wide Technology, Inc.</td>\n",
              "      <td>World</td>\n",
              "      <td>Financial Svcs. (Non-bank &amp; Insurance)</td>\n",
              "    </tr>\n",
              "    <tr>\n",
              "      <th>5554</th>\n",
              "      <td>Data Scientist</td>\n",
              "      <td>NaN</td>\n",
              "      <td>Partner with data architects to ensure that Da...</td>\n",
              "      <td>no</td>\n",
              "      <td>New York</td>\n",
              "      <td>NY</td>\n",
              "      <td>Simply Hired</td>\n",
              "      <td>Yelp</td>\n",
              "      <td>Yelp</td>\n",
              "      <td>Entertainment</td>\n",
              "    </tr>\n",
              "    <tr>\n",
              "      <th>5557</th>\n",
              "      <td>Data Scientist</td>\n",
              "      <td>NaN</td>\n",
              "      <td>Be a strong partner with data engineering team...</td>\n",
              "      <td>no</td>\n",
              "      <td>Seattle</td>\n",
              "      <td>WA</td>\n",
              "      <td>Simply Hired</td>\n",
              "      <td>Zillow</td>\n",
              "      <td>Zillow</td>\n",
              "      <td>Software (Entertainment)</td>\n",
              "    </tr>\n",
              "  </tbody>\n",
              "</table>\n",
              "<p>541 rows × 10 columns</p>\n",
              "</div>"
            ],
            "text/plain": [
              "               title    salary  ...  compan                                industry\n",
              "2274   Data Engineer       NaN  ...  7-Elev               Retail (Grocery and Food)\n",
              "2276    Data Analyst   97000.0  ...   A. O.                      Building Materials\n",
              "2279  Data Scientist       NaN  ...  Abbvie                   Drugs (Biotechnology)\n",
              "2280  Data Scientist       NaN  ...  Abercr                  Retail (Special Lines)\n",
              "2491  Data Scientist       NaN  ...  Accent                  Retail (Special Lines)\n",
              "...              ...       ...  ...     ...                                     ...\n",
              "5539  Data Scientist  170500.0  ...  Wellst                     Healthcare Products\n",
              "5546    Data Analyst       NaN  ...   World  Financial Svcs. (Non-bank & Insurance)\n",
              "5547    Data Analyst       NaN  ...   World  Financial Svcs. (Non-bank & Insurance)\n",
              "5554  Data Scientist       NaN  ...    Yelp                           Entertainment\n",
              "5557  Data Scientist       NaN  ...  Zillow                Software (Entertainment)\n",
              "\n",
              "[541 rows x 10 columns]"
            ]
          },
          "metadata": {},
          "execution_count": 15
        }
      ]
    },
    {
      "cell_type": "code",
      "metadata": {
        "colab": {
          "base_uri": "https://localhost:8080/",
          "height": 542
        },
        "id": "SSbdnUpqHjY_",
        "outputId": "5d0799a6-10e4-4b28-d5be-de4ab46431a5"
      },
      "source": [
        "px.treemap(nonnan, path = ['title','industry'], color_continuous_scale='Emrld').show()"
      ],
      "id": "SSbdnUpqHjY_",
      "execution_count": 16,
      "outputs": [
        {
          "output_type": "display_data",
          "data": {
            "text/html": [
              "<html>\n",
              "<head><meta charset=\"utf-8\" /></head>\n",
              "<body>\n",
              "    <div>            <script src=\"https://cdnjs.cloudflare.com/ajax/libs/mathjax/2.7.5/MathJax.js?config=TeX-AMS-MML_SVG\"></script><script type=\"text/javascript\">if (window.MathJax) {MathJax.Hub.Config({SVG: {font: \"STIX-Web\"}});}</script>                <script type=\"text/javascript\">window.PlotlyConfig = {MathJaxConfig: 'local'};</script>\n",
              "        <script src=\"https://cdn.plot.ly/plotly-2.6.3.min.js\"></script>                <div id=\"8d978b6d-5480-4e64-a86b-36b3c64ac7c8\" class=\"plotly-graph-div\" style=\"height:525px; width:100%;\"></div>            <script type=\"text/javascript\">                                    window.PLOTLYENV=window.PLOTLYENV || {};                                    if (document.getElementById(\"8d978b6d-5480-4e64-a86b-36b3c64ac7c8\")) {                    Plotly.newPlot(                        \"8d978b6d-5480-4e64-a86b-36b3c64ac7c8\",                        [{\"branchvalues\":\"total\",\"domain\":{\"x\":[0.0,1.0],\"y\":[0.0,1.0]},\"hovertemplate\":\"labels=%{label}<br>count=%{value}<br>parent=%{parent}<br>id=%{id}<extra></extra>\",\"ids\":[\"Data Analyst/Advertising\",\"Data Engineer/Advertising\",\"Data Scientist/Advertising\",\"AI/Aerospace/Defense\",\"Data Analyst/Aerospace/Defense\",\"Data Scientist/Aerospace/Defense\",\"Data, Other/Aerospace/Defense\",\"Data Analyst/Air Transport\",\"Data Scientist/Air Transport\",\"Data Analyst/Apparel\",\"Data Scientist/Apparel\",\"Data Analyst/Auto & Truck\",\"Data Engineer/Auto & Truck\",\"Data Analyst/Auto Parts\",\"Data Scientist/Auto Parts\",\"Statistician/Auto Parts\",\"Data Analyst/Bank (Money Center)\",\"Data Scientist/Bank (Money Center)\",\"Data, Other/Bank (Money Center)\",\"Data Analyst/Banks (Regional)\",\"Data Scientist/Banks (Regional)\",\"Data, Other/Banks (Regional)\",\"Machine Learning/Banks (Regional)\",\"Statistician/Banks (Regional)\",\"Manager/Beverage (Alcoholic)\",\"Data Engineer/Beverage (Soft)\",\"Data Analyst/Broadcasting\",\"Data Engineer/Broadcasting\",\"Data Scientist/Broadcasting\",\"Data, Other/Broadcasting\",\"Data Analyst/Brokerage & Investment Banking\",\"Data Engineer/Brokerage & Investment Banking\",\"Data Scientist/Brokerage & Investment Banking\",\"Data Analyst/Building Materials\",\"Data Engineer/Building Materials\",\"Data Scientist/Building Materials\",\"Data Analyst/Business & Consumer Services\",\"Data Scientist/Business & Consumer Services\",\"Data Scientist/Chemical (Basic)\",\"Data Scientist/Chemical (Specialty)\",\"Machine Learning/Chemical (Specialty)\",\"Data Engineer/Coal & Related Energy\",\"Data Analyst/Computer Services\",\"Data Engineer/Computer Services\",\"Data Scientist/Computer Services\",\"Data, Other/Computer Services\",\"Health/Computer Services\",\"Machine Learning/Computer Services\",\"Manager/Computer Services\",\"Statistician/Computer Services\",\"Data Scientist/Computers/Peripherals\",\"Data, Other/Computers/Peripherals\",\"Education/Computers/Peripherals\",\"Data Scientist/Diversified\",\"Data Analyst/Drugs (Biotechnology)\",\"Data Engineer/Drugs (Biotechnology)\",\"Data Scientist/Drugs (Biotechnology)\",\"Mathematician/Drugs (Biotechnology)\",\"Data Analyst/Drugs (Pharmaceutical)\",\"Data Engineer/Drugs (Pharmaceutical)\",\"Data Scientist/Drugs (Pharmaceutical)\",\"Data, Other/Drugs (Pharmaceutical)\",\"Manager/Drugs (Pharmaceutical)\",\"Statistician/Drugs (Pharmaceutical)\",\"Data Scientist/Education\",\"Data Engineer/Electrical Equipment\",\"Data Scientist/Electrical Equipment\",\"Machine Learning/Electrical Equipment\",\"Manager/Electrical Equipment\",\"AI/Electronics (General)\",\"Data Analyst/Electronics (General)\",\"Data Engineer/Electronics (General)\",\"Data Scientist/Electronics (General)\",\"Data, Other/Electronics (General)\",\"Education/Electronics (General)\",\"Machine Learning/Electronics (General)\",\"Manager/Electronics (General)\",\"Statistician/Electronics (General)\",\"Data Analyst/Engineering/Construction\",\"Data Scientist/Engineering/Construction\",\"Data Analyst/Entertainment\",\"Data Scientist/Entertainment\",\"Data, Other/Entertainment\",\"Machine Learning/Entertainment\",\"Manager/Entertainment\",\"Statistician/Entertainment\",\"Data Analyst/Farming/Agriculture\",\"Data Engineer/Farming/Agriculture\",\"Data Scientist/Farming/Agriculture\",\"Data, Other/Farming/Agriculture\",\"Statistician/Farming/Agriculture\",\"Data Analyst/Financial Svcs. (Non-bank & Insurance)\",\"Data Engineer/Financial Svcs. (Non-bank & Insurance)\",\"Data Scientist/Financial Svcs. (Non-bank & Insurance)\",\"Data, Other/Financial Svcs. (Non-bank & Insurance)\",\"Manager/Financial Svcs. (Non-bank & Insurance)\",\"Statistician/Financial Svcs. (Non-bank & Insurance)\",\"Data Analyst/Food Processing\",\"Data Engineer/Food Processing\",\"Data Scientist/Food Processing\",\"Manager/Food Processing\",\"Data Scientist/Food Wholesalers\",\"Statistician/Food Wholesalers\",\"Data, Other/Furn/Home Furnishings\",\"Data Analyst/Government\",\"Data Scientist/Government\",\"Statistician/Government\",\"Data Analyst/Healthcare Products\",\"Data Engineer/Healthcare Products\",\"Data Scientist/Healthcare Products\",\"Data, Other/Healthcare Products\",\"Data Analyst/Healthcare Support Services\",\"Data Scientist/Healthcare Support Services\",\"Data Analyst/Heathcare Information and Technology\",\"Data Scientist/Heathcare Information and Technology\",\"Data, Other/Heathcare Information and Technology\",\"Data Analyst/Homebuilding\",\"Data Analyst/Hospitals/Healthcare Facilities\",\"Data Scientist/Hospitals/Healthcare Facilities\",\"Data Scientist/Hotel/Gaming\",\"Data Analyst/Household Products\",\"Data Engineer/Household Products\",\"Data Scientist/Household Products\",\"Data Analyst/Information Services\",\"Data Engineer/Information Services\",\"Data Scientist/Information Services\",\"Data, Other/Information Services\",\"Data Scientist/Insurance (Life)\",\"Data Analyst/Insurance (Prop/Cas.)\",\"Data Scientist/Insurance (Prop/Cas.)\",\"Data, Other/Insurance (Prop/Cas.)\",\"Statistician/Insurance (Prop/Cas.)\",\"Data Analyst/Investments & Asset Management\",\"Data Engineer/Investments & Asset Management\",\"Data Scientist/Investments & Asset Management\",\"Data, Other/Investments & Asset Management\",\"AI/Machinery\",\"Data Analyst/Machinery\",\"Data Engineer/Machinery\",\"Data Scientist/Machinery\",\"Machine Learning/Machinery\",\"Data Analyst/Metals & Mining\",\"Data Scientist/Metals & Mining\",\"Data Analyst/Office Equipment & Services\",\"Data, Other/Oil/Gas (Integrated)\",\"Data Analyst/Oil/Gas (Production and Exploration)\",\"Data Scientist/Oil/Gas (Production and Exploration)\",\"Data, Other/Oil/Gas (Production and Exploration)\",\"Data Analyst/Oilfield Svcs/Equip.\",\"Data Engineer/Oilfield Svcs/Equip.\",\"Data Scientist/Oilfield Svcs/Equip.\",\"Data, Other/Oilfield Svcs/Equip.\",\"Data Analyst/Packaging & Container\",\"Data Engineer/Packaging & Container\",\"Data Scientist/Packaging & Container\",\"Data Analyst/Power\",\"Data Engineer/Power\",\"Data Scientist/Power\",\"Data Analyst/Precious Metals\",\"Data Scientist/Precious Metals\",\"Manager/Precious Metals\",\"Data Analyst/Publishing & Newspapers\",\"Data, Other/Publishing & Newspapers\",\"Statistician/Publishing & Newspapers\",\"Data Scientist/R.E.I.T.\",\"Data Analyst/Real Estate (Development)\",\"Data, Other/Real Estate (Development)\",\"Manager/Real Estate (Development)\",\"Data Analyst/Real Estate (General/Diversified)\",\"Data Engineer/Real Estate (General/Diversified)\",\"Data Analyst/Real Estate (Operations & Services)\",\"Data Scientist/Real Estate (Operations & Services)\",\"Data Scientist/Recreation\",\"Data, Other/Recreation\",\"Data Analyst/Restaurant/Dining\",\"Data Engineer/Restaurant/Dining\",\"Data Scientist/Restaurant/Dining\",\"Data Analyst/Retail (Automotive)\",\"Data Scientist/Retail (Automotive)\",\"Data, Other/Retail (Automotive)\",\"Education/Retail (Automotive)\",\"Data Analyst/Retail (Distributors)\",\"Data Scientist/Retail (Distributors)\",\"Data Engineer/Retail (General)\",\"Data Scientist/Retail (General)\",\"Data Engineer/Retail (Grocery and Food)\",\"Education/Retail (Grocery and Food)\",\"Data Analyst/Retail (Online)\",\"Data Scientist/Retail (Online)\",\"Data, Other/Retail (Online)\",\"Machine Learning/Retail (Online)\",\"AI/Retail (Special Lines)\",\"Data Analyst/Retail (Special Lines)\",\"Data Scientist/Retail (Special Lines)\",\"Statistician/Retail (Special Lines)\",\"Data Scientist/Semiconductor\",\"Data, Other/Semiconductor\",\"Data Scientist/Semiconductor Equip\",\"Data, Other/Shipbuilding & Marine\",\"Data Analyst/Software (Entertainment)\",\"Data Engineer/Software (Entertainment)\",\"Data Scientist/Software (Entertainment)\",\"Data, Other/Software (Entertainment)\",\"Manager/Software (Entertainment)\",\"Data Analyst/Software (System & Application)\",\"Data Engineer/Software (System & Application)\",\"Data Scientist/Software (System & Application)\",\"Data, Other/Software (System & Application)\",\"Data Analyst/Steel\",\"Data Scientist/Steel\",\"Data Scientist/Telecom (Wireless)\",\"Data Analyst/Telecom. Equipment\",\"Data Engineer/Telecom. Equipment\",\"Data Scientist/Telecom. Equipment\",\"Manager/Telecom. Equipment\",\"Data Analyst/Telecom. Services\",\"Data Scientist/Telecom. Services\",\"Data, Other/Telecom. Services\",\"Manager/Telecom. Services\",\"Data Scientist/Tobacco\",\"Data Analyst/Transportation\",\"Data Scientist/Transportation\",\"Data, Other/Transportation\",\"Data Analyst/Trucking\",\"Data Scientist/Trucking\",\"AI\",\"Data Analyst\",\"Data Engineer\",\"Data Scientist\",\"Data, Other\",\"Education\",\"Health\",\"Machine Learning\",\"Manager\",\"Mathematician\",\"Statistician\"],\"labels\":[\"Advertising\",\"Advertising\",\"Advertising\",\"Aerospace/Defense\",\"Aerospace/Defense\",\"Aerospace/Defense\",\"Aerospace/Defense\",\"Air Transport\",\"Air Transport\",\"Apparel\",\"Apparel\",\"Auto & Truck\",\"Auto & Truck\",\"Auto Parts\",\"Auto Parts\",\"Auto Parts\",\"Bank (Money Center)\",\"Bank (Money Center)\",\"Bank (Money Center)\",\"Banks (Regional)\",\"Banks (Regional)\",\"Banks (Regional)\",\"Banks (Regional)\",\"Banks (Regional)\",\"Beverage (Alcoholic)\",\"Beverage (Soft)\",\"Broadcasting\",\"Broadcasting\",\"Broadcasting\",\"Broadcasting\",\"Brokerage & Investment Banking\",\"Brokerage & Investment Banking\",\"Brokerage & Investment Banking\",\"Building Materials\",\"Building Materials\",\"Building Materials\",\"Business & Consumer Services\",\"Business & Consumer Services\",\"Chemical (Basic)\",\"Chemical (Specialty)\",\"Chemical (Specialty)\",\"Coal & Related Energy\",\"Computer Services\",\"Computer Services\",\"Computer Services\",\"Computer Services\",\"Computer Services\",\"Computer Services\",\"Computer Services\",\"Computer Services\",\"Computers/Peripherals\",\"Computers/Peripherals\",\"Computers/Peripherals\",\"Diversified\",\"Drugs (Biotechnology)\",\"Drugs (Biotechnology)\",\"Drugs (Biotechnology)\",\"Drugs (Biotechnology)\",\"Drugs (Pharmaceutical)\",\"Drugs (Pharmaceutical)\",\"Drugs (Pharmaceutical)\",\"Drugs (Pharmaceutical)\",\"Drugs (Pharmaceutical)\",\"Drugs (Pharmaceutical)\",\"Education\",\"Electrical Equipment\",\"Electrical Equipment\",\"Electrical Equipment\",\"Electrical Equipment\",\"Electronics (General)\",\"Electronics (General)\",\"Electronics (General)\",\"Electronics (General)\",\"Electronics (General)\",\"Electronics (General)\",\"Electronics (General)\",\"Electronics (General)\",\"Electronics (General)\",\"Engineering/Construction\",\"Engineering/Construction\",\"Entertainment\",\"Entertainment\",\"Entertainment\",\"Entertainment\",\"Entertainment\",\"Entertainment\",\"Farming/Agriculture\",\"Farming/Agriculture\",\"Farming/Agriculture\",\"Farming/Agriculture\",\"Farming/Agriculture\",\"Financial Svcs. (Non-bank & Insurance)\",\"Financial Svcs. (Non-bank & Insurance)\",\"Financial Svcs. (Non-bank & Insurance)\",\"Financial Svcs. (Non-bank & Insurance)\",\"Financial Svcs. (Non-bank & Insurance)\",\"Financial Svcs. (Non-bank & Insurance)\",\"Food Processing\",\"Food Processing\",\"Food Processing\",\"Food Processing\",\"Food Wholesalers\",\"Food Wholesalers\",\"Furn/Home Furnishings\",\"Government\",\"Government\",\"Government\",\"Healthcare Products\",\"Healthcare Products\",\"Healthcare Products\",\"Healthcare Products\",\"Healthcare Support Services\",\"Healthcare Support Services\",\"Heathcare Information and Technology\",\"Heathcare Information and Technology\",\"Heathcare Information and Technology\",\"Homebuilding\",\"Hospitals/Healthcare Facilities\",\"Hospitals/Healthcare Facilities\",\"Hotel/Gaming\",\"Household Products\",\"Household Products\",\"Household Products\",\"Information Services\",\"Information Services\",\"Information Services\",\"Information Services\",\"Insurance (Life)\",\"Insurance (Prop/Cas.)\",\"Insurance (Prop/Cas.)\",\"Insurance (Prop/Cas.)\",\"Insurance (Prop/Cas.)\",\"Investments & Asset Management\",\"Investments & Asset Management\",\"Investments & Asset Management\",\"Investments & Asset Management\",\"Machinery\",\"Machinery\",\"Machinery\",\"Machinery\",\"Machinery\",\"Metals & Mining\",\"Metals & Mining\",\"Office Equipment & Services\",\"Oil/Gas (Integrated)\",\"Oil/Gas (Production and Exploration)\",\"Oil/Gas (Production and Exploration)\",\"Oil/Gas (Production and Exploration)\",\"Oilfield Svcs/Equip.\",\"Oilfield Svcs/Equip.\",\"Oilfield Svcs/Equip.\",\"Oilfield Svcs/Equip.\",\"Packaging & Container\",\"Packaging & Container\",\"Packaging & Container\",\"Power\",\"Power\",\"Power\",\"Precious Metals\",\"Precious Metals\",\"Precious Metals\",\"Publishing & Newspapers\",\"Publishing & Newspapers\",\"Publishing & Newspapers\",\"R.E.I.T.\",\"Real Estate (Development)\",\"Real Estate (Development)\",\"Real Estate (Development)\",\"Real Estate (General/Diversified)\",\"Real Estate (General/Diversified)\",\"Real Estate (Operations & Services)\",\"Real Estate (Operations & Services)\",\"Recreation\",\"Recreation\",\"Restaurant/Dining\",\"Restaurant/Dining\",\"Restaurant/Dining\",\"Retail (Automotive)\",\"Retail (Automotive)\",\"Retail (Automotive)\",\"Retail (Automotive)\",\"Retail (Distributors)\",\"Retail (Distributors)\",\"Retail (General)\",\"Retail (General)\",\"Retail (Grocery and Food)\",\"Retail (Grocery and Food)\",\"Retail (Online)\",\"Retail (Online)\",\"Retail (Online)\",\"Retail (Online)\",\"Retail (Special Lines)\",\"Retail (Special Lines)\",\"Retail (Special Lines)\",\"Retail (Special Lines)\",\"Semiconductor\",\"Semiconductor\",\"Semiconductor Equip\",\"Shipbuilding & Marine\",\"Software (Entertainment)\",\"Software (Entertainment)\",\"Software (Entertainment)\",\"Software (Entertainment)\",\"Software (Entertainment)\",\"Software (System & Application)\",\"Software (System & Application)\",\"Software (System & Application)\",\"Software (System & Application)\",\"Steel\",\"Steel\",\"Telecom (Wireless)\",\"Telecom. Equipment\",\"Telecom. Equipment\",\"Telecom. Equipment\",\"Telecom. Equipment\",\"Telecom. Services\",\"Telecom. Services\",\"Telecom. Services\",\"Telecom. Services\",\"Tobacco\",\"Transportation\",\"Transportation\",\"Transportation\",\"Trucking\",\"Trucking\",\"AI\",\"Data Analyst\",\"Data Engineer\",\"Data Scientist\",\"Data, Other\",\"Education\",\"Health\",\"Machine Learning\",\"Manager\",\"Mathematician\",\"Statistician\"],\"name\":\"\",\"parents\":[\"Data Analyst\",\"Data Engineer\",\"Data Scientist\",\"AI\",\"Data Analyst\",\"Data Scientist\",\"Data, Other\",\"Data Analyst\",\"Data Scientist\",\"Data Analyst\",\"Data Scientist\",\"Data Analyst\",\"Data Engineer\",\"Data Analyst\",\"Data Scientist\",\"Statistician\",\"Data Analyst\",\"Data Scientist\",\"Data, Other\",\"Data Analyst\",\"Data Scientist\",\"Data, Other\",\"Machine Learning\",\"Statistician\",\"Manager\",\"Data Engineer\",\"Data Analyst\",\"Data Engineer\",\"Data Scientist\",\"Data, Other\",\"Data Analyst\",\"Data Engineer\",\"Data Scientist\",\"Data Analyst\",\"Data Engineer\",\"Data Scientist\",\"Data Analyst\",\"Data Scientist\",\"Data Scientist\",\"Data Scientist\",\"Machine Learning\",\"Data Engineer\",\"Data Analyst\",\"Data Engineer\",\"Data Scientist\",\"Data, Other\",\"Health\",\"Machine Learning\",\"Manager\",\"Statistician\",\"Data Scientist\",\"Data, Other\",\"Education\",\"Data Scientist\",\"Data Analyst\",\"Data Engineer\",\"Data Scientist\",\"Mathematician\",\"Data Analyst\",\"Data Engineer\",\"Data Scientist\",\"Data, Other\",\"Manager\",\"Statistician\",\"Data Scientist\",\"Data Engineer\",\"Data Scientist\",\"Machine Learning\",\"Manager\",\"AI\",\"Data Analyst\",\"Data Engineer\",\"Data Scientist\",\"Data, Other\",\"Education\",\"Machine Learning\",\"Manager\",\"Statistician\",\"Data Analyst\",\"Data Scientist\",\"Data Analyst\",\"Data Scientist\",\"Data, Other\",\"Machine Learning\",\"Manager\",\"Statistician\",\"Data Analyst\",\"Data Engineer\",\"Data Scientist\",\"Data, Other\",\"Statistician\",\"Data Analyst\",\"Data Engineer\",\"Data Scientist\",\"Data, Other\",\"Manager\",\"Statistician\",\"Data Analyst\",\"Data Engineer\",\"Data Scientist\",\"Manager\",\"Data Scientist\",\"Statistician\",\"Data, Other\",\"Data Analyst\",\"Data Scientist\",\"Statistician\",\"Data Analyst\",\"Data Engineer\",\"Data Scientist\",\"Data, Other\",\"Data Analyst\",\"Data Scientist\",\"Data Analyst\",\"Data Scientist\",\"Data, Other\",\"Data Analyst\",\"Data Analyst\",\"Data Scientist\",\"Data Scientist\",\"Data Analyst\",\"Data Engineer\",\"Data Scientist\",\"Data Analyst\",\"Data Engineer\",\"Data Scientist\",\"Data, Other\",\"Data Scientist\",\"Data Analyst\",\"Data Scientist\",\"Data, Other\",\"Statistician\",\"Data Analyst\",\"Data Engineer\",\"Data Scientist\",\"Data, Other\",\"AI\",\"Data Analyst\",\"Data Engineer\",\"Data Scientist\",\"Machine Learning\",\"Data Analyst\",\"Data Scientist\",\"Data Analyst\",\"Data, Other\",\"Data Analyst\",\"Data Scientist\",\"Data, Other\",\"Data Analyst\",\"Data Engineer\",\"Data Scientist\",\"Data, Other\",\"Data Analyst\",\"Data Engineer\",\"Data Scientist\",\"Data Analyst\",\"Data Engineer\",\"Data Scientist\",\"Data Analyst\",\"Data Scientist\",\"Manager\",\"Data Analyst\",\"Data, Other\",\"Statistician\",\"Data Scientist\",\"Data Analyst\",\"Data, Other\",\"Manager\",\"Data Analyst\",\"Data Engineer\",\"Data Analyst\",\"Data Scientist\",\"Data Scientist\",\"Data, Other\",\"Data Analyst\",\"Data Engineer\",\"Data Scientist\",\"Data Analyst\",\"Data Scientist\",\"Data, Other\",\"Education\",\"Data Analyst\",\"Data Scientist\",\"Data Engineer\",\"Data Scientist\",\"Data Engineer\",\"Education\",\"Data Analyst\",\"Data Scientist\",\"Data, Other\",\"Machine Learning\",\"AI\",\"Data Analyst\",\"Data Scientist\",\"Statistician\",\"Data Scientist\",\"Data, Other\",\"Data Scientist\",\"Data, Other\",\"Data Analyst\",\"Data Engineer\",\"Data Scientist\",\"Data, Other\",\"Manager\",\"Data Analyst\",\"Data Engineer\",\"Data Scientist\",\"Data, Other\",\"Data Analyst\",\"Data Scientist\",\"Data Scientist\",\"Data Analyst\",\"Data Engineer\",\"Data Scientist\",\"Manager\",\"Data Analyst\",\"Data Scientist\",\"Data, Other\",\"Manager\",\"Data Scientist\",\"Data Analyst\",\"Data Scientist\",\"Data, Other\",\"Data Analyst\",\"Data Scientist\",\"\",\"\",\"\",\"\",\"\",\"\",\"\",\"\",\"\",\"\",\"\"],\"values\":[3,2,3,1,3,1,1,2,2,1,4,3,2,1,6,1,2,6,1,2,9,2,2,1,1,2,1,2,3,1,1,2,1,1,1,1,1,3,1,2,1,1,15,3,17,4,1,2,2,1,2,1,1,1,1,2,7,1,2,6,13,2,2,2,1,1,2,1,1,3,3,8,10,1,1,2,3,1,4,4,5,12,1,1,4,1,2,2,2,1,1,7,2,7,2,1,1,3,1,1,1,1,1,1,3,5,10,2,4,4,1,3,2,2,2,1,1,1,1,3,1,1,6,5,1,3,1,1,2,1,1,2,2,4,6,2,1,4,3,3,1,1,4,1,1,2,3,3,1,3,2,1,1,1,1,3,2,1,1,1,1,1,1,1,4,2,2,1,1,1,3,1,1,2,1,2,2,1,3,1,1,2,1,1,2,1,1,1,3,1,1,1,1,3,1,1,1,1,1,4,2,20,1,2,6,2,4,3,1,2,1,1,1,4,1,3,3,1,1,1,1,4,1,1,2,6,129,66,234,44,4,1,11,21,1,24],\"type\":\"treemap\"}],                        {\"template\":{\"data\":{\"bar\":[{\"error_x\":{\"color\":\"#2a3f5f\"},\"error_y\":{\"color\":\"#2a3f5f\"},\"marker\":{\"line\":{\"color\":\"#E5ECF6\",\"width\":0.5},\"pattern\":{\"fillmode\":\"overlay\",\"size\":10,\"solidity\":0.2}},\"type\":\"bar\"}],\"barpolar\":[{\"marker\":{\"line\":{\"color\":\"#E5ECF6\",\"width\":0.5},\"pattern\":{\"fillmode\":\"overlay\",\"size\":10,\"solidity\":0.2}},\"type\":\"barpolar\"}],\"carpet\":[{\"aaxis\":{\"endlinecolor\":\"#2a3f5f\",\"gridcolor\":\"white\",\"linecolor\":\"white\",\"minorgridcolor\":\"white\",\"startlinecolor\":\"#2a3f5f\"},\"baxis\":{\"endlinecolor\":\"#2a3f5f\",\"gridcolor\":\"white\",\"linecolor\":\"white\",\"minorgridcolor\":\"white\",\"startlinecolor\":\"#2a3f5f\"},\"type\":\"carpet\"}],\"choropleth\":[{\"colorbar\":{\"outlinewidth\":0,\"ticks\":\"\"},\"type\":\"choropleth\"}],\"contour\":[{\"colorbar\":{\"outlinewidth\":0,\"ticks\":\"\"},\"colorscale\":[[0.0,\"#0d0887\"],[0.1111111111111111,\"#46039f\"],[0.2222222222222222,\"#7201a8\"],[0.3333333333333333,\"#9c179e\"],[0.4444444444444444,\"#bd3786\"],[0.5555555555555556,\"#d8576b\"],[0.6666666666666666,\"#ed7953\"],[0.7777777777777778,\"#fb9f3a\"],[0.8888888888888888,\"#fdca26\"],[1.0,\"#f0f921\"]],\"type\":\"contour\"}],\"contourcarpet\":[{\"colorbar\":{\"outlinewidth\":0,\"ticks\":\"\"},\"type\":\"contourcarpet\"}],\"heatmap\":[{\"colorbar\":{\"outlinewidth\":0,\"ticks\":\"\"},\"colorscale\":[[0.0,\"#0d0887\"],[0.1111111111111111,\"#46039f\"],[0.2222222222222222,\"#7201a8\"],[0.3333333333333333,\"#9c179e\"],[0.4444444444444444,\"#bd3786\"],[0.5555555555555556,\"#d8576b\"],[0.6666666666666666,\"#ed7953\"],[0.7777777777777778,\"#fb9f3a\"],[0.8888888888888888,\"#fdca26\"],[1.0,\"#f0f921\"]],\"type\":\"heatmap\"}],\"heatmapgl\":[{\"colorbar\":{\"outlinewidth\":0,\"ticks\":\"\"},\"colorscale\":[[0.0,\"#0d0887\"],[0.1111111111111111,\"#46039f\"],[0.2222222222222222,\"#7201a8\"],[0.3333333333333333,\"#9c179e\"],[0.4444444444444444,\"#bd3786\"],[0.5555555555555556,\"#d8576b\"],[0.6666666666666666,\"#ed7953\"],[0.7777777777777778,\"#fb9f3a\"],[0.8888888888888888,\"#fdca26\"],[1.0,\"#f0f921\"]],\"type\":\"heatmapgl\"}],\"histogram\":[{\"marker\":{\"pattern\":{\"fillmode\":\"overlay\",\"size\":10,\"solidity\":0.2}},\"type\":\"histogram\"}],\"histogram2d\":[{\"colorbar\":{\"outlinewidth\":0,\"ticks\":\"\"},\"colorscale\":[[0.0,\"#0d0887\"],[0.1111111111111111,\"#46039f\"],[0.2222222222222222,\"#7201a8\"],[0.3333333333333333,\"#9c179e\"],[0.4444444444444444,\"#bd3786\"],[0.5555555555555556,\"#d8576b\"],[0.6666666666666666,\"#ed7953\"],[0.7777777777777778,\"#fb9f3a\"],[0.8888888888888888,\"#fdca26\"],[1.0,\"#f0f921\"]],\"type\":\"histogram2d\"}],\"histogram2dcontour\":[{\"colorbar\":{\"outlinewidth\":0,\"ticks\":\"\"},\"colorscale\":[[0.0,\"#0d0887\"],[0.1111111111111111,\"#46039f\"],[0.2222222222222222,\"#7201a8\"],[0.3333333333333333,\"#9c179e\"],[0.4444444444444444,\"#bd3786\"],[0.5555555555555556,\"#d8576b\"],[0.6666666666666666,\"#ed7953\"],[0.7777777777777778,\"#fb9f3a\"],[0.8888888888888888,\"#fdca26\"],[1.0,\"#f0f921\"]],\"type\":\"histogram2dcontour\"}],\"mesh3d\":[{\"colorbar\":{\"outlinewidth\":0,\"ticks\":\"\"},\"type\":\"mesh3d\"}],\"parcoords\":[{\"line\":{\"colorbar\":{\"outlinewidth\":0,\"ticks\":\"\"}},\"type\":\"parcoords\"}],\"pie\":[{\"automargin\":true,\"type\":\"pie\"}],\"scatter\":[{\"marker\":{\"colorbar\":{\"outlinewidth\":0,\"ticks\":\"\"}},\"type\":\"scatter\"}],\"scatter3d\":[{\"line\":{\"colorbar\":{\"outlinewidth\":0,\"ticks\":\"\"}},\"marker\":{\"colorbar\":{\"outlinewidth\":0,\"ticks\":\"\"}},\"type\":\"scatter3d\"}],\"scattercarpet\":[{\"marker\":{\"colorbar\":{\"outlinewidth\":0,\"ticks\":\"\"}},\"type\":\"scattercarpet\"}],\"scattergeo\":[{\"marker\":{\"colorbar\":{\"outlinewidth\":0,\"ticks\":\"\"}},\"type\":\"scattergeo\"}],\"scattergl\":[{\"marker\":{\"colorbar\":{\"outlinewidth\":0,\"ticks\":\"\"}},\"type\":\"scattergl\"}],\"scattermapbox\":[{\"marker\":{\"colorbar\":{\"outlinewidth\":0,\"ticks\":\"\"}},\"type\":\"scattermapbox\"}],\"scatterpolar\":[{\"marker\":{\"colorbar\":{\"outlinewidth\":0,\"ticks\":\"\"}},\"type\":\"scatterpolar\"}],\"scatterpolargl\":[{\"marker\":{\"colorbar\":{\"outlinewidth\":0,\"ticks\":\"\"}},\"type\":\"scatterpolargl\"}],\"scatterternary\":[{\"marker\":{\"colorbar\":{\"outlinewidth\":0,\"ticks\":\"\"}},\"type\":\"scatterternary\"}],\"surface\":[{\"colorbar\":{\"outlinewidth\":0,\"ticks\":\"\"},\"colorscale\":[[0.0,\"#0d0887\"],[0.1111111111111111,\"#46039f\"],[0.2222222222222222,\"#7201a8\"],[0.3333333333333333,\"#9c179e\"],[0.4444444444444444,\"#bd3786\"],[0.5555555555555556,\"#d8576b\"],[0.6666666666666666,\"#ed7953\"],[0.7777777777777778,\"#fb9f3a\"],[0.8888888888888888,\"#fdca26\"],[1.0,\"#f0f921\"]],\"type\":\"surface\"}],\"table\":[{\"cells\":{\"fill\":{\"color\":\"#EBF0F8\"},\"line\":{\"color\":\"white\"}},\"header\":{\"fill\":{\"color\":\"#C8D4E3\"},\"line\":{\"color\":\"white\"}},\"type\":\"table\"}]},\"layout\":{\"annotationdefaults\":{\"arrowcolor\":\"#2a3f5f\",\"arrowhead\":0,\"arrowwidth\":1},\"autotypenumbers\":\"strict\",\"coloraxis\":{\"colorbar\":{\"outlinewidth\":0,\"ticks\":\"\"}},\"colorscale\":{\"diverging\":[[0,\"#8e0152\"],[0.1,\"#c51b7d\"],[0.2,\"#de77ae\"],[0.3,\"#f1b6da\"],[0.4,\"#fde0ef\"],[0.5,\"#f7f7f7\"],[0.6,\"#e6f5d0\"],[0.7,\"#b8e186\"],[0.8,\"#7fbc41\"],[0.9,\"#4d9221\"],[1,\"#276419\"]],\"sequential\":[[0.0,\"#0d0887\"],[0.1111111111111111,\"#46039f\"],[0.2222222222222222,\"#7201a8\"],[0.3333333333333333,\"#9c179e\"],[0.4444444444444444,\"#bd3786\"],[0.5555555555555556,\"#d8576b\"],[0.6666666666666666,\"#ed7953\"],[0.7777777777777778,\"#fb9f3a\"],[0.8888888888888888,\"#fdca26\"],[1.0,\"#f0f921\"]],\"sequentialminus\":[[0.0,\"#0d0887\"],[0.1111111111111111,\"#46039f\"],[0.2222222222222222,\"#7201a8\"],[0.3333333333333333,\"#9c179e\"],[0.4444444444444444,\"#bd3786\"],[0.5555555555555556,\"#d8576b\"],[0.6666666666666666,\"#ed7953\"],[0.7777777777777778,\"#fb9f3a\"],[0.8888888888888888,\"#fdca26\"],[1.0,\"#f0f921\"]]},\"colorway\":[\"#636efa\",\"#EF553B\",\"#00cc96\",\"#ab63fa\",\"#FFA15A\",\"#19d3f3\",\"#FF6692\",\"#B6E880\",\"#FF97FF\",\"#FECB52\"],\"font\":{\"color\":\"#2a3f5f\"},\"geo\":{\"bgcolor\":\"white\",\"lakecolor\":\"white\",\"landcolor\":\"#E5ECF6\",\"showlakes\":true,\"showland\":true,\"subunitcolor\":\"white\"},\"hoverlabel\":{\"align\":\"left\"},\"hovermode\":\"closest\",\"mapbox\":{\"style\":\"light\"},\"paper_bgcolor\":\"white\",\"plot_bgcolor\":\"#E5ECF6\",\"polar\":{\"angularaxis\":{\"gridcolor\":\"white\",\"linecolor\":\"white\",\"ticks\":\"\"},\"bgcolor\":\"#E5ECF6\",\"radialaxis\":{\"gridcolor\":\"white\",\"linecolor\":\"white\",\"ticks\":\"\"}},\"scene\":{\"xaxis\":{\"backgroundcolor\":\"#E5ECF6\",\"gridcolor\":\"white\",\"gridwidth\":2,\"linecolor\":\"white\",\"showbackground\":true,\"ticks\":\"\",\"zerolinecolor\":\"white\"},\"yaxis\":{\"backgroundcolor\":\"#E5ECF6\",\"gridcolor\":\"white\",\"gridwidth\":2,\"linecolor\":\"white\",\"showbackground\":true,\"ticks\":\"\",\"zerolinecolor\":\"white\"},\"zaxis\":{\"backgroundcolor\":\"#E5ECF6\",\"gridcolor\":\"white\",\"gridwidth\":2,\"linecolor\":\"white\",\"showbackground\":true,\"ticks\":\"\",\"zerolinecolor\":\"white\"}},\"shapedefaults\":{\"line\":{\"color\":\"#2a3f5f\"}},\"ternary\":{\"aaxis\":{\"gridcolor\":\"white\",\"linecolor\":\"white\",\"ticks\":\"\"},\"baxis\":{\"gridcolor\":\"white\",\"linecolor\":\"white\",\"ticks\":\"\"},\"bgcolor\":\"#E5ECF6\",\"caxis\":{\"gridcolor\":\"white\",\"linecolor\":\"white\",\"ticks\":\"\"}},\"title\":{\"x\":0.05},\"xaxis\":{\"automargin\":true,\"gridcolor\":\"white\",\"linecolor\":\"white\",\"ticks\":\"\",\"title\":{\"standoff\":15},\"zerolinecolor\":\"white\",\"zerolinewidth\":2},\"yaxis\":{\"automargin\":true,\"gridcolor\":\"white\",\"linecolor\":\"white\",\"ticks\":\"\",\"title\":{\"standoff\":15},\"zerolinecolor\":\"white\",\"zerolinewidth\":2}}},\"legend\":{\"tracegroupgap\":0},\"margin\":{\"t\":60}},                        {\"responsive\": true}                    ).then(function(){\n",
              "                            \n",
              "var gd = document.getElementById('8d978b6d-5480-4e64-a86b-36b3c64ac7c8');\n",
              "var x = new MutationObserver(function (mutations, observer) {{\n",
              "        var display = window.getComputedStyle(gd).display;\n",
              "        if (!display || display === 'none') {{\n",
              "            console.log([gd, 'removed!']);\n",
              "            Plotly.purge(gd);\n",
              "            observer.disconnect();\n",
              "        }}\n",
              "}});\n",
              "\n",
              "// Listen for the removal of the full notebook cells\n",
              "var notebookContainer = gd.closest('#notebook-container');\n",
              "if (notebookContainer) {{\n",
              "    x.observe(notebookContainer, {childList: true});\n",
              "}}\n",
              "\n",
              "// Listen for the clearing of the current output cell\n",
              "var outputEl = gd.closest('.output');\n",
              "if (outputEl) {{\n",
              "    x.observe(outputEl, {childList: true});\n",
              "}}\n",
              "\n",
              "                        })                };                            </script>        </div>\n",
              "</body>\n",
              "</html>"
            ]
          },
          "metadata": {}
        }
      ]
    },
    {
      "cell_type": "code",
      "metadata": {
        "colab": {
          "base_uri": "https://localhost:8080/",
          "height": 542
        },
        "id": "rjG1CsB4Qrrm",
        "outputId": "98ca2ec3-c078-4bd9-c26d-c6b9088d941a"
      },
      "source": [
        "size_df = df.groupby(['title', 'remote']).size()\n",
        "sal_df = df.groupby(['title', 'remote']).mean()\n",
        "gdf = pd.concat([size_df, sal_df], axis = 1).reset_index()\n",
        "fig = px.treemap(gdf, path = ['title', 'remote'], values = 0, color='salary', color_continuous_scale='Emrld')\n",
        "fig.show()"
      ],
      "id": "rjG1CsB4Qrrm",
      "execution_count": 17,
      "outputs": [
        {
          "output_type": "display_data",
          "data": {
            "text/html": [
              "<html>\n",
              "<head><meta charset=\"utf-8\" /></head>\n",
              "<body>\n",
              "    <div>            <script src=\"https://cdnjs.cloudflare.com/ajax/libs/mathjax/2.7.5/MathJax.js?config=TeX-AMS-MML_SVG\"></script><script type=\"text/javascript\">if (window.MathJax) {MathJax.Hub.Config({SVG: {font: \"STIX-Web\"}});}</script>                <script type=\"text/javascript\">window.PlotlyConfig = {MathJaxConfig: 'local'};</script>\n",
              "        <script src=\"https://cdn.plot.ly/plotly-2.6.3.min.js\"></script>                <div id=\"2780eb02-e1d1-406b-b8c7-b1d5891decdc\" class=\"plotly-graph-div\" style=\"height:525px; width:100%;\"></div>            <script type=\"text/javascript\">                                    window.PLOTLYENV=window.PLOTLYENV || {};                                    if (document.getElementById(\"2780eb02-e1d1-406b-b8c7-b1d5891decdc\")) {                    Plotly.newPlot(                        \"2780eb02-e1d1-406b-b8c7-b1d5891decdc\",                        [{\"branchvalues\":\"total\",\"customdata\":[[133500.0],[null],[81234.17258064516],[119683.43333333333],[111752.707],[89810.07142857143],[76766.9],[null],[151336.125],[122300.0],[82088.5],[null],[94919.2],[78000.0],[100000.0],[91420.31538461539],[106966.86111111111],[115569.75609756098],[136640.0],[null],[null],[123000.0],[null],[100500.0],[62404.5],[120692.30769230769],[null],[83293.97431108789],[117006.26023391812],[112554.24398416434],[96650.39807383629],[null],[null],[147042.77272727274],[null],[87753.57692307692],[null],[91801.35205479452]],\"domain\":{\"x\":[0.0,1.0],\"y\":[0.0,1.0]},\"hovertemplate\":\"labels=%{label}<br>0=%{value}<br>parent=%{parent}<br>id=%{id}<br>salary=%{color}<extra></extra>\",\"ids\":[\"AI/no\",\"Analytics/no\",\"Data Analyst/no\",\"Data Engineer/no\",\"Data Scientist/no\",\"Data, Other/no\",\"Education/no\",\"Health/no\",\"Machine Learning/no\",\"Management/no\",\"Manager/no\",\"Mathematician/no\",\"Statistician/no\",\"AI/yes\",\"Analytics/yes\",\"Data Analyst/yes\",\"Data Engineer/yes\",\"Data Scientist/yes\",\"Data, Other/yes\",\"Education/yes\",\"Health/yes\",\"Machine Learning/yes\",\"Management/yes\",\"Manager/yes\",\"Statistician/yes\",\"AI\",\"Analytics\",\"Data Analyst\",\"Data Engineer\",\"Data Scientist\",\"Data, Other\",\"Education\",\"Health\",\"Machine Learning\",\"Management\",\"Manager\",\"Mathematician\",\"Statistician\"],\"labels\":[\"no\",\"no\",\"no\",\"no\",\"no\",\"no\",\"no\",\"no\",\"no\",\"no\",\"no\",\"no\",\"no\",\"yes\",\"yes\",\"yes\",\"yes\",\"yes\",\"yes\",\"yes\",\"yes\",\"yes\",\"yes\",\"yes\",\"yes\",\"AI\",\"Analytics\",\"Data Analyst\",\"Data Engineer\",\"Data Scientist\",\"Data, Other\",\"Education\",\"Health\",\"Machine Learning\",\"Management\",\"Manager\",\"Mathematician\",\"Statistician\"],\"marker\":{\"coloraxis\":\"coloraxis\",\"colors\":[133500.0,null,81234.17258064516,119683.43333333333,111752.707,89810.07142857143,76766.9,null,151336.125,122300.0,82088.5,null,94919.2,78000.0,100000.0,91420.31538461539,106966.86111111111,115569.75609756098,136640.0,null,null,123000.0,null,100500.0,62404.5,120692.30769230769,null,83293.97431108789,117006.26023391812,112554.24398416434,96650.39807383629,null,null,147042.77272727274,null,87753.57692307692,null,91801.35205479452]},\"name\":\"\",\"parents\":[\"AI\",\"Analytics\",\"Data Analyst\",\"Data Engineer\",\"Data Scientist\",\"Data, Other\",\"Education\",\"Health\",\"Machine Learning\",\"Management\",\"Manager\",\"Mathematician\",\"Statistician\",\"AI\",\"Analytics\",\"Data Analyst\",\"Data Engineer\",\"Data Scientist\",\"Data, Other\",\"Education\",\"Health\",\"Machine Learning\",\"Management\",\"Manager\",\"Statistician\",\"\",\"\",\"\",\"\",\"\",\"\",\"\",\"\",\"\",\"\",\"\",\"\",\"\"],\"values\":[20,35,288,180,696,76,31,15,56,14,18,15,66,6,8,73,48,185,13,2,3,10,2,8,7,26,43,361,228,881,89,33,18,66,16,26,15,73],\"type\":\"treemap\"}],                        {\"template\":{\"data\":{\"bar\":[{\"error_x\":{\"color\":\"#2a3f5f\"},\"error_y\":{\"color\":\"#2a3f5f\"},\"marker\":{\"line\":{\"color\":\"#E5ECF6\",\"width\":0.5},\"pattern\":{\"fillmode\":\"overlay\",\"size\":10,\"solidity\":0.2}},\"type\":\"bar\"}],\"barpolar\":[{\"marker\":{\"line\":{\"color\":\"#E5ECF6\",\"width\":0.5},\"pattern\":{\"fillmode\":\"overlay\",\"size\":10,\"solidity\":0.2}},\"type\":\"barpolar\"}],\"carpet\":[{\"aaxis\":{\"endlinecolor\":\"#2a3f5f\",\"gridcolor\":\"white\",\"linecolor\":\"white\",\"minorgridcolor\":\"white\",\"startlinecolor\":\"#2a3f5f\"},\"baxis\":{\"endlinecolor\":\"#2a3f5f\",\"gridcolor\":\"white\",\"linecolor\":\"white\",\"minorgridcolor\":\"white\",\"startlinecolor\":\"#2a3f5f\"},\"type\":\"carpet\"}],\"choropleth\":[{\"colorbar\":{\"outlinewidth\":0,\"ticks\":\"\"},\"type\":\"choropleth\"}],\"contour\":[{\"colorbar\":{\"outlinewidth\":0,\"ticks\":\"\"},\"colorscale\":[[0.0,\"#0d0887\"],[0.1111111111111111,\"#46039f\"],[0.2222222222222222,\"#7201a8\"],[0.3333333333333333,\"#9c179e\"],[0.4444444444444444,\"#bd3786\"],[0.5555555555555556,\"#d8576b\"],[0.6666666666666666,\"#ed7953\"],[0.7777777777777778,\"#fb9f3a\"],[0.8888888888888888,\"#fdca26\"],[1.0,\"#f0f921\"]],\"type\":\"contour\"}],\"contourcarpet\":[{\"colorbar\":{\"outlinewidth\":0,\"ticks\":\"\"},\"type\":\"contourcarpet\"}],\"heatmap\":[{\"colorbar\":{\"outlinewidth\":0,\"ticks\":\"\"},\"colorscale\":[[0.0,\"#0d0887\"],[0.1111111111111111,\"#46039f\"],[0.2222222222222222,\"#7201a8\"],[0.3333333333333333,\"#9c179e\"],[0.4444444444444444,\"#bd3786\"],[0.5555555555555556,\"#d8576b\"],[0.6666666666666666,\"#ed7953\"],[0.7777777777777778,\"#fb9f3a\"],[0.8888888888888888,\"#fdca26\"],[1.0,\"#f0f921\"]],\"type\":\"heatmap\"}],\"heatmapgl\":[{\"colorbar\":{\"outlinewidth\":0,\"ticks\":\"\"},\"colorscale\":[[0.0,\"#0d0887\"],[0.1111111111111111,\"#46039f\"],[0.2222222222222222,\"#7201a8\"],[0.3333333333333333,\"#9c179e\"],[0.4444444444444444,\"#bd3786\"],[0.5555555555555556,\"#d8576b\"],[0.6666666666666666,\"#ed7953\"],[0.7777777777777778,\"#fb9f3a\"],[0.8888888888888888,\"#fdca26\"],[1.0,\"#f0f921\"]],\"type\":\"heatmapgl\"}],\"histogram\":[{\"marker\":{\"pattern\":{\"fillmode\":\"overlay\",\"size\":10,\"solidity\":0.2}},\"type\":\"histogram\"}],\"histogram2d\":[{\"colorbar\":{\"outlinewidth\":0,\"ticks\":\"\"},\"colorscale\":[[0.0,\"#0d0887\"],[0.1111111111111111,\"#46039f\"],[0.2222222222222222,\"#7201a8\"],[0.3333333333333333,\"#9c179e\"],[0.4444444444444444,\"#bd3786\"],[0.5555555555555556,\"#d8576b\"],[0.6666666666666666,\"#ed7953\"],[0.7777777777777778,\"#fb9f3a\"],[0.8888888888888888,\"#fdca26\"],[1.0,\"#f0f921\"]],\"type\":\"histogram2d\"}],\"histogram2dcontour\":[{\"colorbar\":{\"outlinewidth\":0,\"ticks\":\"\"},\"colorscale\":[[0.0,\"#0d0887\"],[0.1111111111111111,\"#46039f\"],[0.2222222222222222,\"#7201a8\"],[0.3333333333333333,\"#9c179e\"],[0.4444444444444444,\"#bd3786\"],[0.5555555555555556,\"#d8576b\"],[0.6666666666666666,\"#ed7953\"],[0.7777777777777778,\"#fb9f3a\"],[0.8888888888888888,\"#fdca26\"],[1.0,\"#f0f921\"]],\"type\":\"histogram2dcontour\"}],\"mesh3d\":[{\"colorbar\":{\"outlinewidth\":0,\"ticks\":\"\"},\"type\":\"mesh3d\"}],\"parcoords\":[{\"line\":{\"colorbar\":{\"outlinewidth\":0,\"ticks\":\"\"}},\"type\":\"parcoords\"}],\"pie\":[{\"automargin\":true,\"type\":\"pie\"}],\"scatter\":[{\"marker\":{\"colorbar\":{\"outlinewidth\":0,\"ticks\":\"\"}},\"type\":\"scatter\"}],\"scatter3d\":[{\"line\":{\"colorbar\":{\"outlinewidth\":0,\"ticks\":\"\"}},\"marker\":{\"colorbar\":{\"outlinewidth\":0,\"ticks\":\"\"}},\"type\":\"scatter3d\"}],\"scattercarpet\":[{\"marker\":{\"colorbar\":{\"outlinewidth\":0,\"ticks\":\"\"}},\"type\":\"scattercarpet\"}],\"scattergeo\":[{\"marker\":{\"colorbar\":{\"outlinewidth\":0,\"ticks\":\"\"}},\"type\":\"scattergeo\"}],\"scattergl\":[{\"marker\":{\"colorbar\":{\"outlinewidth\":0,\"ticks\":\"\"}},\"type\":\"scattergl\"}],\"scattermapbox\":[{\"marker\":{\"colorbar\":{\"outlinewidth\":0,\"ticks\":\"\"}},\"type\":\"scattermapbox\"}],\"scatterpolar\":[{\"marker\":{\"colorbar\":{\"outlinewidth\":0,\"ticks\":\"\"}},\"type\":\"scatterpolar\"}],\"scatterpolargl\":[{\"marker\":{\"colorbar\":{\"outlinewidth\":0,\"ticks\":\"\"}},\"type\":\"scatterpolargl\"}],\"scatterternary\":[{\"marker\":{\"colorbar\":{\"outlinewidth\":0,\"ticks\":\"\"}},\"type\":\"scatterternary\"}],\"surface\":[{\"colorbar\":{\"outlinewidth\":0,\"ticks\":\"\"},\"colorscale\":[[0.0,\"#0d0887\"],[0.1111111111111111,\"#46039f\"],[0.2222222222222222,\"#7201a8\"],[0.3333333333333333,\"#9c179e\"],[0.4444444444444444,\"#bd3786\"],[0.5555555555555556,\"#d8576b\"],[0.6666666666666666,\"#ed7953\"],[0.7777777777777778,\"#fb9f3a\"],[0.8888888888888888,\"#fdca26\"],[1.0,\"#f0f921\"]],\"type\":\"surface\"}],\"table\":[{\"cells\":{\"fill\":{\"color\":\"#EBF0F8\"},\"line\":{\"color\":\"white\"}},\"header\":{\"fill\":{\"color\":\"#C8D4E3\"},\"line\":{\"color\":\"white\"}},\"type\":\"table\"}]},\"layout\":{\"annotationdefaults\":{\"arrowcolor\":\"#2a3f5f\",\"arrowhead\":0,\"arrowwidth\":1},\"autotypenumbers\":\"strict\",\"coloraxis\":{\"colorbar\":{\"outlinewidth\":0,\"ticks\":\"\"}},\"colorscale\":{\"diverging\":[[0,\"#8e0152\"],[0.1,\"#c51b7d\"],[0.2,\"#de77ae\"],[0.3,\"#f1b6da\"],[0.4,\"#fde0ef\"],[0.5,\"#f7f7f7\"],[0.6,\"#e6f5d0\"],[0.7,\"#b8e186\"],[0.8,\"#7fbc41\"],[0.9,\"#4d9221\"],[1,\"#276419\"]],\"sequential\":[[0.0,\"#0d0887\"],[0.1111111111111111,\"#46039f\"],[0.2222222222222222,\"#7201a8\"],[0.3333333333333333,\"#9c179e\"],[0.4444444444444444,\"#bd3786\"],[0.5555555555555556,\"#d8576b\"],[0.6666666666666666,\"#ed7953\"],[0.7777777777777778,\"#fb9f3a\"],[0.8888888888888888,\"#fdca26\"],[1.0,\"#f0f921\"]],\"sequentialminus\":[[0.0,\"#0d0887\"],[0.1111111111111111,\"#46039f\"],[0.2222222222222222,\"#7201a8\"],[0.3333333333333333,\"#9c179e\"],[0.4444444444444444,\"#bd3786\"],[0.5555555555555556,\"#d8576b\"],[0.6666666666666666,\"#ed7953\"],[0.7777777777777778,\"#fb9f3a\"],[0.8888888888888888,\"#fdca26\"],[1.0,\"#f0f921\"]]},\"colorway\":[\"#636efa\",\"#EF553B\",\"#00cc96\",\"#ab63fa\",\"#FFA15A\",\"#19d3f3\",\"#FF6692\",\"#B6E880\",\"#FF97FF\",\"#FECB52\"],\"font\":{\"color\":\"#2a3f5f\"},\"geo\":{\"bgcolor\":\"white\",\"lakecolor\":\"white\",\"landcolor\":\"#E5ECF6\",\"showlakes\":true,\"showland\":true,\"subunitcolor\":\"white\"},\"hoverlabel\":{\"align\":\"left\"},\"hovermode\":\"closest\",\"mapbox\":{\"style\":\"light\"},\"paper_bgcolor\":\"white\",\"plot_bgcolor\":\"#E5ECF6\",\"polar\":{\"angularaxis\":{\"gridcolor\":\"white\",\"linecolor\":\"white\",\"ticks\":\"\"},\"bgcolor\":\"#E5ECF6\",\"radialaxis\":{\"gridcolor\":\"white\",\"linecolor\":\"white\",\"ticks\":\"\"}},\"scene\":{\"xaxis\":{\"backgroundcolor\":\"#E5ECF6\",\"gridcolor\":\"white\",\"gridwidth\":2,\"linecolor\":\"white\",\"showbackground\":true,\"ticks\":\"\",\"zerolinecolor\":\"white\"},\"yaxis\":{\"backgroundcolor\":\"#E5ECF6\",\"gridcolor\":\"white\",\"gridwidth\":2,\"linecolor\":\"white\",\"showbackground\":true,\"ticks\":\"\",\"zerolinecolor\":\"white\"},\"zaxis\":{\"backgroundcolor\":\"#E5ECF6\",\"gridcolor\":\"white\",\"gridwidth\":2,\"linecolor\":\"white\",\"showbackground\":true,\"ticks\":\"\",\"zerolinecolor\":\"white\"}},\"shapedefaults\":{\"line\":{\"color\":\"#2a3f5f\"}},\"ternary\":{\"aaxis\":{\"gridcolor\":\"white\",\"linecolor\":\"white\",\"ticks\":\"\"},\"baxis\":{\"gridcolor\":\"white\",\"linecolor\":\"white\",\"ticks\":\"\"},\"bgcolor\":\"#E5ECF6\",\"caxis\":{\"gridcolor\":\"white\",\"linecolor\":\"white\",\"ticks\":\"\"}},\"title\":{\"x\":0.05},\"xaxis\":{\"automargin\":true,\"gridcolor\":\"white\",\"linecolor\":\"white\",\"ticks\":\"\",\"title\":{\"standoff\":15},\"zerolinecolor\":\"white\",\"zerolinewidth\":2},\"yaxis\":{\"automargin\":true,\"gridcolor\":\"white\",\"linecolor\":\"white\",\"ticks\":\"\",\"title\":{\"standoff\":15},\"zerolinecolor\":\"white\",\"zerolinewidth\":2}}},\"coloraxis\":{\"colorbar\":{\"title\":{\"text\":\"salary\"}},\"colorscale\":[[0.0,\"rgb(211, 242, 163)\"],[0.16666666666666666,\"rgb(151, 225, 150)\"],[0.3333333333333333,\"rgb(108, 192, 139)\"],[0.5,\"rgb(76, 155, 130)\"],[0.6666666666666666,\"rgb(33, 122, 121)\"],[0.8333333333333334,\"rgb(16, 89, 101)\"],[1.0,\"rgb(7, 64, 80)\"]]},\"legend\":{\"tracegroupgap\":0},\"margin\":{\"t\":60}},                        {\"responsive\": true}                    ).then(function(){\n",
              "                            \n",
              "var gd = document.getElementById('2780eb02-e1d1-406b-b8c7-b1d5891decdc');\n",
              "var x = new MutationObserver(function (mutations, observer) {{\n",
              "        var display = window.getComputedStyle(gd).display;\n",
              "        if (!display || display === 'none') {{\n",
              "            console.log([gd, 'removed!']);\n",
              "            Plotly.purge(gd);\n",
              "            observer.disconnect();\n",
              "        }}\n",
              "}});\n",
              "\n",
              "// Listen for the removal of the full notebook cells\n",
              "var notebookContainer = gd.closest('#notebook-container');\n",
              "if (notebookContainer) {{\n",
              "    x.observe(notebookContainer, {childList: true});\n",
              "}}\n",
              "\n",
              "// Listen for the clearing of the current output cell\n",
              "var outputEl = gd.closest('.output');\n",
              "if (outputEl) {{\n",
              "    x.observe(outputEl, {childList: true});\n",
              "}}\n",
              "\n",
              "                        })                };                            </script>        </div>\n",
              "</body>\n",
              "</html>"
            ]
          },
          "metadata": {}
        }
      ]
    },
    {
      "cell_type": "code",
      "metadata": {
        "id": "9d9e3fdd-4a76-48e9-a987-81ccc7fa5dce"
      },
      "source": [
        "df.to_csv('combined_G_K_A_J.csv', encoding = 'utf-8-sig', index = False)"
      ],
      "id": "9d9e3fdd-4a76-48e9-a987-81ccc7fa5dce",
      "execution_count": 18,
      "outputs": []
    },
    {
      "cell_type": "code",
      "metadata": {
        "colab": {
          "base_uri": "https://localhost:8080/"
        },
        "id": "9fbc011f-6056-4d17-9182-17efd5a8049d",
        "outputId": "a76ae425-4609-4376-9ee5-49c3c1a80e6e"
      },
      "source": [
        "df.info()"
      ],
      "id": "9fbc011f-6056-4d17-9182-17efd5a8049d",
      "execution_count": 19,
      "outputs": [
        {
          "output_type": "stream",
          "name": "stdout",
          "text": [
            "<class 'pandas.core.frame.DataFrame'>\n",
            "Int64Index: 1875 entries, 0 to 5557\n",
            "Data columns (total 10 columns):\n",
            " #   Column       Non-Null Count  Dtype  \n",
            "---  ------       --------------  -----  \n",
            " 0   title        1875 non-null   object \n",
            " 1   salary       344 non-null    float64\n",
            " 2   description  1869 non-null   object \n",
            " 3   remote       1875 non-null   object \n",
            " 4   city         1871 non-null   object \n",
            " 5   state        1501 non-null   object \n",
            " 6   job_board    1875 non-null   object \n",
            " 7   company      998 non-null    object \n",
            " 8   compan       998 non-null    object \n",
            " 9   industry     541 non-null    object \n",
            "dtypes: float64(1), object(9)\n",
            "memory usage: 161.1+ KB\n"
          ]
        }
      ]
    },
    {
      "cell_type": "code",
      "metadata": {
        "colab": {
          "base_uri": "https://localhost:8080/"
        },
        "id": "0f995f5f-569d-467b-a02e-24d186632d9b",
        "outputId": "c5d6bfd6-ef83-442e-a69d-ef730b90adba"
      },
      "source": [
        "jobs_count_state = df.groupby(['state'])\n",
        "jobs_count_state = jobs_count_state.size()\n",
        "jobs_count_state = jobs_count_state.to_frame()\n",
        "jobs_count_state.reset_index(inplace=True)\n",
        "jobs_count_state.columns = ['state', 'count']\n",
        "print(jobs_count_state.head())"
      ],
      "id": "0f995f5f-569d-467b-a02e-24d186632d9b",
      "execution_count": 20,
      "outputs": [
        {
          "output_type": "stream",
          "name": "stdout",
          "text": [
            "  state  count\n",
            "0    AK      2\n",
            "1    AL      9\n",
            "2    AR      6\n",
            "3    AZ      7\n",
            "4    CA    241\n"
          ]
        }
      ]
    },
    {
      "cell_type": "code",
      "metadata": {
        "id": "5fdc6d71-d96a-4f26-8627-9cdad681f47b"
      },
      "source": [
        "jobs_count_state.to_csv('jobs_count_state.csv', encoding = 'utf-8-sig', index = False)"
      ],
      "id": "5fdc6d71-d96a-4f26-8627-9cdad681f47b",
      "execution_count": 21,
      "outputs": []
    },
    {
      "cell_type": "code",
      "metadata": {
        "colab": {
          "base_uri": "https://localhost:8080/"
        },
        "id": "971055ed-dde5-4895-a99a-42f1ff394b34",
        "outputId": "d3478a0a-6796-495f-ae9a-d7e6cd147540"
      },
      "source": [
        "groups = df.groupby(['state', 'title'])\n",
        "groups = groups.size()\n",
        "groups.head()"
      ],
      "id": "971055ed-dde5-4895-a99a-42f1ff394b34",
      "execution_count": 22,
      "outputs": [
        {
          "output_type": "execute_result",
          "data": {
            "text/plain": [
              "state  title         \n",
              "AK     Statistician      2\n",
              "AL     Data Analyst      2\n",
              "       Data Engineer     1\n",
              "       Data Scientist    4\n",
              "       Data, Other       1\n",
              "dtype: int64"
            ]
          },
          "metadata": {},
          "execution_count": 22
        }
      ]
    },
    {
      "cell_type": "code",
      "metadata": {
        "colab": {
          "base_uri": "https://localhost:8080/",
          "height": 237
        },
        "id": "337b61a5-76f0-4e7f-9121-0c10ba4c1754",
        "outputId": "1ccf8e99-ece9-418e-9ccb-86142fcae3ba"
      },
      "source": [
        "groups = groups.to_frame()\n",
        "groups.head(5)"
      ],
      "id": "337b61a5-76f0-4e7f-9121-0c10ba4c1754",
      "execution_count": 23,
      "outputs": [
        {
          "output_type": "execute_result",
          "data": {
            "text/html": [
              "<div>\n",
              "<style scoped>\n",
              "    .dataframe tbody tr th:only-of-type {\n",
              "        vertical-align: middle;\n",
              "    }\n",
              "\n",
              "    .dataframe tbody tr th {\n",
              "        vertical-align: top;\n",
              "    }\n",
              "\n",
              "    .dataframe thead th {\n",
              "        text-align: right;\n",
              "    }\n",
              "</style>\n",
              "<table border=\"1\" class=\"dataframe\">\n",
              "  <thead>\n",
              "    <tr style=\"text-align: right;\">\n",
              "      <th></th>\n",
              "      <th></th>\n",
              "      <th>0</th>\n",
              "    </tr>\n",
              "    <tr>\n",
              "      <th>state</th>\n",
              "      <th>title</th>\n",
              "      <th></th>\n",
              "    </tr>\n",
              "  </thead>\n",
              "  <tbody>\n",
              "    <tr>\n",
              "      <th>AK</th>\n",
              "      <th>Statistician</th>\n",
              "      <td>2</td>\n",
              "    </tr>\n",
              "    <tr>\n",
              "      <th rowspan=\"4\" valign=\"top\">AL</th>\n",
              "      <th>Data Analyst</th>\n",
              "      <td>2</td>\n",
              "    </tr>\n",
              "    <tr>\n",
              "      <th>Data Engineer</th>\n",
              "      <td>1</td>\n",
              "    </tr>\n",
              "    <tr>\n",
              "      <th>Data Scientist</th>\n",
              "      <td>4</td>\n",
              "    </tr>\n",
              "    <tr>\n",
              "      <th>Data, Other</th>\n",
              "      <td>1</td>\n",
              "    </tr>\n",
              "  </tbody>\n",
              "</table>\n",
              "</div>"
            ],
            "text/plain": [
              "                      0\n",
              "state title            \n",
              "AK    Statistician    2\n",
              "AL    Data Analyst    2\n",
              "      Data Engineer   1\n",
              "      Data Scientist  4\n",
              "      Data, Other     1"
            ]
          },
          "metadata": {},
          "execution_count": 23
        }
      ]
    },
    {
      "cell_type": "code",
      "metadata": {
        "colab": {
          "base_uri": "https://localhost:8080/"
        },
        "id": "779a0e23-27de-4577-a400-f394c6ca3f32",
        "outputId": "a51f5446-ec10-4a82-9642-bfbbc1a11fc5"
      },
      "source": [
        "groups.reset_index(inplace=True)\n",
        "groups.columns = ['state', 'title', 'title_count']\n",
        "print(groups.head())"
      ],
      "id": "779a0e23-27de-4577-a400-f394c6ca3f32",
      "execution_count": 24,
      "outputs": [
        {
          "output_type": "stream",
          "name": "stdout",
          "text": [
            "  state           title  title_count\n",
            "0    AK    Statistician            2\n",
            "1    AL    Data Analyst            2\n",
            "2    AL   Data Engineer            1\n",
            "3    AL  Data Scientist            4\n",
            "4    AL     Data, Other            1\n"
          ]
        }
      ]
    },
    {
      "cell_type": "code",
      "metadata": {
        "id": "3809dc3f-5c48-4196-84f8-5c4bf8631593"
      },
      "source": [
        "groups.to_csv('groups.csv', encoding = 'utf-8-sig', index = False)"
      ],
      "id": "3809dc3f-5c48-4196-84f8-5c4bf8631593",
      "execution_count": 25,
      "outputs": []
    },
    {
      "cell_type": "code",
      "metadata": {
        "colab": {
          "base_uri": "https://localhost:8080/",
          "height": 542
        },
        "id": "4861b7f7-4af3-4b62-ba72-c17ecb75cd44",
        "outputId": "2d7b090b-a8a3-4f92-c409-2eb15cc63ed7"
      },
      "source": [
        "fig = px.choropleth(groups, locations='state', locationmode=\"USA-states\", color='title_count',\n",
        "                             scope=\"usa\", color_continuous_scale = 'tempo',\n",
        "                             labels={'count':'Job Listings'})\n",
        "fig.show()"
      ],
      "id": "4861b7f7-4af3-4b62-ba72-c17ecb75cd44",
      "execution_count": 26,
      "outputs": [
        {
          "output_type": "display_data",
          "data": {
            "text/html": [
              "<html>\n",
              "<head><meta charset=\"utf-8\" /></head>\n",
              "<body>\n",
              "    <div>            <script src=\"https://cdnjs.cloudflare.com/ajax/libs/mathjax/2.7.5/MathJax.js?config=TeX-AMS-MML_SVG\"></script><script type=\"text/javascript\">if (window.MathJax) {MathJax.Hub.Config({SVG: {font: \"STIX-Web\"}});}</script>                <script type=\"text/javascript\">window.PlotlyConfig = {MathJaxConfig: 'local'};</script>\n",
              "        <script src=\"https://cdn.plot.ly/plotly-2.6.3.min.js\"></script>                <div id=\"cda91204-1594-4d32-be2e-198ce5fa3595\" class=\"plotly-graph-div\" style=\"height:525px; width:100%;\"></div>            <script type=\"text/javascript\">                                    window.PLOTLYENV=window.PLOTLYENV || {};                                    if (document.getElementById(\"cda91204-1594-4d32-be2e-198ce5fa3595\")) {                    Plotly.newPlot(                        \"cda91204-1594-4d32-be2e-198ce5fa3595\",                        [{\"coloraxis\":\"coloraxis\",\"geo\":\"geo\",\"hovertemplate\":\"state=%{location}<br>title_count=%{z}<extra></extra>\",\"locationmode\":\"USA-states\",\"locations\":[\"AK\",\"AL\",\"AL\",\"AL\",\"AL\",\"AL\",\"AR\",\"AR\",\"AR\",\"AZ\",\"AZ\",\"AZ\",\"AZ\",\"AZ\",\"CA\",\"CA\",\"CA\",\"CA\",\"CA\",\"CA\",\"CA\",\"CA\",\"CA\",\"CA\",\"CA\",\"CA\",\"CA\",\"CO\",\"CO\",\"CO\",\"CO\",\"CO\",\"CO\",\"CO\",\"CO\",\"CO\",\"CT\",\"CT\",\"CT\",\"CT\",\"CT\",\"CT\",\"DC\",\"DC\",\"DC\",\"DC\",\"DC\",\"DC\",\"DC\",\"DE\",\"DE\",\"DE\",\"FL\",\"FL\",\"FL\",\"FL\",\"FL\",\"FL\",\"FL\",\"FL\",\"FL\",\"FL\",\"GA\",\"GA\",\"GA\",\"GA\",\"GA\",\"GA\",\"GA\",\"GA\",\"HI\",\"HI\",\"HI\",\"IA\",\"ID\",\"ID\",\"IL\",\"IL\",\"IL\",\"IL\",\"IL\",\"IL\",\"IL\",\"IL\",\"IL\",\"IN\",\"IN\",\"IN\",\"IN\",\"KS\",\"KY\",\"KY\",\"KY\",\"KY\",\"LA\",\"LA\",\"MA\",\"MA\",\"MA\",\"MA\",\"MA\",\"MA\",\"MA\",\"MA\",\"MA\",\"MD\",\"MD\",\"MD\",\"MD\",\"MD\",\"MD\",\"MD\",\"MD\",\"MD\",\"MD\",\"ME\",\"ME\",\"MI\",\"MI\",\"MI\",\"MI\",\"MI\",\"MI\",\"MN\",\"MN\",\"MN\",\"MN\",\"MN\",\"MO\",\"MO\",\"MO\",\"MO\",\"MO\",\"MO\",\"MS\",\"NC\",\"NC\",\"NC\",\"NC\",\"NC\",\"NC\",\"NC\",\"NC\",\"NC\",\"NC\",\"NE\",\"NJ\",\"NJ\",\"NJ\",\"NJ\",\"NJ\",\"NJ\",\"NJ\",\"NJ\",\"NJ\",\"NM\",\"NM\",\"NM\",\"NV\",\"NV\",\"NV\",\"NY\",\"NY\",\"NY\",\"NY\",\"NY\",\"NY\",\"NY\",\"NY\",\"NY\",\"NY\",\"OH\",\"OH\",\"OH\",\"OH\",\"OH\",\"OH\",\"OH\",\"OH\",\"OH\",\"OH\",\"OR\",\"OR\",\"OR\",\"OR\",\"PA\",\"PA\",\"PA\",\"PA\",\"PA\",\"PA\",\"PA\",\"PA\",\"PA\",\"PA\",\"PR\",\"RI\",\"RI\",\"RI\",\"SC\",\"SC\",\"SC\",\"SC\",\"TN\",\"TN\",\"TN\",\"TN\",\"TN\",\"TN\",\"TX\",\"TX\",\"TX\",\"TX\",\"TX\",\"TX\",\"TX\",\"TX\",\"TX\",\"TX\",\"UT\",\"UT\",\"UT\",\"VA\",\"VA\",\"VA\",\"VA\",\"VA\",\"VA\",\"VA\",\"VA\",\"VA\",\"VA\",\"WA\",\"WA\",\"WA\",\"WA\",\"WA\",\"WA\",\"WA\",\"WI\",\"WI\",\"WI\",\"WI\",\"WI\",\"WV\",\"WV\",\"WV\",\"WY\"],\"name\":\"\",\"z\":[2,2,1,4,1,1,2,1,3,1,3,1,1,1,5,8,39,34,114,8,2,2,16,6,2,2,3,3,2,13,2,2,1,1,1,1,2,3,3,5,1,1,2,3,16,5,34,1,7,1,2,1,1,1,16,4,16,6,1,1,1,3,1,19,18,34,7,1,2,3,1,1,1,1,1,1,1,1,9,6,27,2,1,2,1,3,4,7,1,1,1,1,4,1,1,1,3,4,5,21,5,1,2,1,3,2,10,7,30,3,1,2,4,4,11,1,1,1,3,7,1,1,2,1,1,3,9,1,1,2,7,1,1,1,1,1,8,8,34,8,2,2,2,3,3,1,1,7,1,26,1,1,2,1,3,1,2,1,1,1,5,3,2,33,20,82,13,4,4,4,5,1,5,7,7,24,4,6,1,1,3,3,8,1,1,1,14,8,33,2,2,1,2,1,2,1,2,2,1,1,5,6,2,2,6,2,9,2,2,1,11,14,31,2,3,1,4,1,1,1,8,2,1,3,26,12,47,4,2,1,1,4,2,11,9,33,3,6,2,1,1,2,8,2,1,1,1,1],\"type\":\"choropleth\"}],                        {\"template\":{\"data\":{\"bar\":[{\"error_x\":{\"color\":\"#2a3f5f\"},\"error_y\":{\"color\":\"#2a3f5f\"},\"marker\":{\"line\":{\"color\":\"#E5ECF6\",\"width\":0.5},\"pattern\":{\"fillmode\":\"overlay\",\"size\":10,\"solidity\":0.2}},\"type\":\"bar\"}],\"barpolar\":[{\"marker\":{\"line\":{\"color\":\"#E5ECF6\",\"width\":0.5},\"pattern\":{\"fillmode\":\"overlay\",\"size\":10,\"solidity\":0.2}},\"type\":\"barpolar\"}],\"carpet\":[{\"aaxis\":{\"endlinecolor\":\"#2a3f5f\",\"gridcolor\":\"white\",\"linecolor\":\"white\",\"minorgridcolor\":\"white\",\"startlinecolor\":\"#2a3f5f\"},\"baxis\":{\"endlinecolor\":\"#2a3f5f\",\"gridcolor\":\"white\",\"linecolor\":\"white\",\"minorgridcolor\":\"white\",\"startlinecolor\":\"#2a3f5f\"},\"type\":\"carpet\"}],\"choropleth\":[{\"colorbar\":{\"outlinewidth\":0,\"ticks\":\"\"},\"type\":\"choropleth\"}],\"contour\":[{\"colorbar\":{\"outlinewidth\":0,\"ticks\":\"\"},\"colorscale\":[[0.0,\"#0d0887\"],[0.1111111111111111,\"#46039f\"],[0.2222222222222222,\"#7201a8\"],[0.3333333333333333,\"#9c179e\"],[0.4444444444444444,\"#bd3786\"],[0.5555555555555556,\"#d8576b\"],[0.6666666666666666,\"#ed7953\"],[0.7777777777777778,\"#fb9f3a\"],[0.8888888888888888,\"#fdca26\"],[1.0,\"#f0f921\"]],\"type\":\"contour\"}],\"contourcarpet\":[{\"colorbar\":{\"outlinewidth\":0,\"ticks\":\"\"},\"type\":\"contourcarpet\"}],\"heatmap\":[{\"colorbar\":{\"outlinewidth\":0,\"ticks\":\"\"},\"colorscale\":[[0.0,\"#0d0887\"],[0.1111111111111111,\"#46039f\"],[0.2222222222222222,\"#7201a8\"],[0.3333333333333333,\"#9c179e\"],[0.4444444444444444,\"#bd3786\"],[0.5555555555555556,\"#d8576b\"],[0.6666666666666666,\"#ed7953\"],[0.7777777777777778,\"#fb9f3a\"],[0.8888888888888888,\"#fdca26\"],[1.0,\"#f0f921\"]],\"type\":\"heatmap\"}],\"heatmapgl\":[{\"colorbar\":{\"outlinewidth\":0,\"ticks\":\"\"},\"colorscale\":[[0.0,\"#0d0887\"],[0.1111111111111111,\"#46039f\"],[0.2222222222222222,\"#7201a8\"],[0.3333333333333333,\"#9c179e\"],[0.4444444444444444,\"#bd3786\"],[0.5555555555555556,\"#d8576b\"],[0.6666666666666666,\"#ed7953\"],[0.7777777777777778,\"#fb9f3a\"],[0.8888888888888888,\"#fdca26\"],[1.0,\"#f0f921\"]],\"type\":\"heatmapgl\"}],\"histogram\":[{\"marker\":{\"pattern\":{\"fillmode\":\"overlay\",\"size\":10,\"solidity\":0.2}},\"type\":\"histogram\"}],\"histogram2d\":[{\"colorbar\":{\"outlinewidth\":0,\"ticks\":\"\"},\"colorscale\":[[0.0,\"#0d0887\"],[0.1111111111111111,\"#46039f\"],[0.2222222222222222,\"#7201a8\"],[0.3333333333333333,\"#9c179e\"],[0.4444444444444444,\"#bd3786\"],[0.5555555555555556,\"#d8576b\"],[0.6666666666666666,\"#ed7953\"],[0.7777777777777778,\"#fb9f3a\"],[0.8888888888888888,\"#fdca26\"],[1.0,\"#f0f921\"]],\"type\":\"histogram2d\"}],\"histogram2dcontour\":[{\"colorbar\":{\"outlinewidth\":0,\"ticks\":\"\"},\"colorscale\":[[0.0,\"#0d0887\"],[0.1111111111111111,\"#46039f\"],[0.2222222222222222,\"#7201a8\"],[0.3333333333333333,\"#9c179e\"],[0.4444444444444444,\"#bd3786\"],[0.5555555555555556,\"#d8576b\"],[0.6666666666666666,\"#ed7953\"],[0.7777777777777778,\"#fb9f3a\"],[0.8888888888888888,\"#fdca26\"],[1.0,\"#f0f921\"]],\"type\":\"histogram2dcontour\"}],\"mesh3d\":[{\"colorbar\":{\"outlinewidth\":0,\"ticks\":\"\"},\"type\":\"mesh3d\"}],\"parcoords\":[{\"line\":{\"colorbar\":{\"outlinewidth\":0,\"ticks\":\"\"}},\"type\":\"parcoords\"}],\"pie\":[{\"automargin\":true,\"type\":\"pie\"}],\"scatter\":[{\"marker\":{\"colorbar\":{\"outlinewidth\":0,\"ticks\":\"\"}},\"type\":\"scatter\"}],\"scatter3d\":[{\"line\":{\"colorbar\":{\"outlinewidth\":0,\"ticks\":\"\"}},\"marker\":{\"colorbar\":{\"outlinewidth\":0,\"ticks\":\"\"}},\"type\":\"scatter3d\"}],\"scattercarpet\":[{\"marker\":{\"colorbar\":{\"outlinewidth\":0,\"ticks\":\"\"}},\"type\":\"scattercarpet\"}],\"scattergeo\":[{\"marker\":{\"colorbar\":{\"outlinewidth\":0,\"ticks\":\"\"}},\"type\":\"scattergeo\"}],\"scattergl\":[{\"marker\":{\"colorbar\":{\"outlinewidth\":0,\"ticks\":\"\"}},\"type\":\"scattergl\"}],\"scattermapbox\":[{\"marker\":{\"colorbar\":{\"outlinewidth\":0,\"ticks\":\"\"}},\"type\":\"scattermapbox\"}],\"scatterpolar\":[{\"marker\":{\"colorbar\":{\"outlinewidth\":0,\"ticks\":\"\"}},\"type\":\"scatterpolar\"}],\"scatterpolargl\":[{\"marker\":{\"colorbar\":{\"outlinewidth\":0,\"ticks\":\"\"}},\"type\":\"scatterpolargl\"}],\"scatterternary\":[{\"marker\":{\"colorbar\":{\"outlinewidth\":0,\"ticks\":\"\"}},\"type\":\"scatterternary\"}],\"surface\":[{\"colorbar\":{\"outlinewidth\":0,\"ticks\":\"\"},\"colorscale\":[[0.0,\"#0d0887\"],[0.1111111111111111,\"#46039f\"],[0.2222222222222222,\"#7201a8\"],[0.3333333333333333,\"#9c179e\"],[0.4444444444444444,\"#bd3786\"],[0.5555555555555556,\"#d8576b\"],[0.6666666666666666,\"#ed7953\"],[0.7777777777777778,\"#fb9f3a\"],[0.8888888888888888,\"#fdca26\"],[1.0,\"#f0f921\"]],\"type\":\"surface\"}],\"table\":[{\"cells\":{\"fill\":{\"color\":\"#EBF0F8\"},\"line\":{\"color\":\"white\"}},\"header\":{\"fill\":{\"color\":\"#C8D4E3\"},\"line\":{\"color\":\"white\"}},\"type\":\"table\"}]},\"layout\":{\"annotationdefaults\":{\"arrowcolor\":\"#2a3f5f\",\"arrowhead\":0,\"arrowwidth\":1},\"autotypenumbers\":\"strict\",\"coloraxis\":{\"colorbar\":{\"outlinewidth\":0,\"ticks\":\"\"}},\"colorscale\":{\"diverging\":[[0,\"#8e0152\"],[0.1,\"#c51b7d\"],[0.2,\"#de77ae\"],[0.3,\"#f1b6da\"],[0.4,\"#fde0ef\"],[0.5,\"#f7f7f7\"],[0.6,\"#e6f5d0\"],[0.7,\"#b8e186\"],[0.8,\"#7fbc41\"],[0.9,\"#4d9221\"],[1,\"#276419\"]],\"sequential\":[[0.0,\"#0d0887\"],[0.1111111111111111,\"#46039f\"],[0.2222222222222222,\"#7201a8\"],[0.3333333333333333,\"#9c179e\"],[0.4444444444444444,\"#bd3786\"],[0.5555555555555556,\"#d8576b\"],[0.6666666666666666,\"#ed7953\"],[0.7777777777777778,\"#fb9f3a\"],[0.8888888888888888,\"#fdca26\"],[1.0,\"#f0f921\"]],\"sequentialminus\":[[0.0,\"#0d0887\"],[0.1111111111111111,\"#46039f\"],[0.2222222222222222,\"#7201a8\"],[0.3333333333333333,\"#9c179e\"],[0.4444444444444444,\"#bd3786\"],[0.5555555555555556,\"#d8576b\"],[0.6666666666666666,\"#ed7953\"],[0.7777777777777778,\"#fb9f3a\"],[0.8888888888888888,\"#fdca26\"],[1.0,\"#f0f921\"]]},\"colorway\":[\"#636efa\",\"#EF553B\",\"#00cc96\",\"#ab63fa\",\"#FFA15A\",\"#19d3f3\",\"#FF6692\",\"#B6E880\",\"#FF97FF\",\"#FECB52\"],\"font\":{\"color\":\"#2a3f5f\"},\"geo\":{\"bgcolor\":\"white\",\"lakecolor\":\"white\",\"landcolor\":\"#E5ECF6\",\"showlakes\":true,\"showland\":true,\"subunitcolor\":\"white\"},\"hoverlabel\":{\"align\":\"left\"},\"hovermode\":\"closest\",\"mapbox\":{\"style\":\"light\"},\"paper_bgcolor\":\"white\",\"plot_bgcolor\":\"#E5ECF6\",\"polar\":{\"angularaxis\":{\"gridcolor\":\"white\",\"linecolor\":\"white\",\"ticks\":\"\"},\"bgcolor\":\"#E5ECF6\",\"radialaxis\":{\"gridcolor\":\"white\",\"linecolor\":\"white\",\"ticks\":\"\"}},\"scene\":{\"xaxis\":{\"backgroundcolor\":\"#E5ECF6\",\"gridcolor\":\"white\",\"gridwidth\":2,\"linecolor\":\"white\",\"showbackground\":true,\"ticks\":\"\",\"zerolinecolor\":\"white\"},\"yaxis\":{\"backgroundcolor\":\"#E5ECF6\",\"gridcolor\":\"white\",\"gridwidth\":2,\"linecolor\":\"white\",\"showbackground\":true,\"ticks\":\"\",\"zerolinecolor\":\"white\"},\"zaxis\":{\"backgroundcolor\":\"#E5ECF6\",\"gridcolor\":\"white\",\"gridwidth\":2,\"linecolor\":\"white\",\"showbackground\":true,\"ticks\":\"\",\"zerolinecolor\":\"white\"}},\"shapedefaults\":{\"line\":{\"color\":\"#2a3f5f\"}},\"ternary\":{\"aaxis\":{\"gridcolor\":\"white\",\"linecolor\":\"white\",\"ticks\":\"\"},\"baxis\":{\"gridcolor\":\"white\",\"linecolor\":\"white\",\"ticks\":\"\"},\"bgcolor\":\"#E5ECF6\",\"caxis\":{\"gridcolor\":\"white\",\"linecolor\":\"white\",\"ticks\":\"\"}},\"title\":{\"x\":0.05},\"xaxis\":{\"automargin\":true,\"gridcolor\":\"white\",\"linecolor\":\"white\",\"ticks\":\"\",\"title\":{\"standoff\":15},\"zerolinecolor\":\"white\",\"zerolinewidth\":2},\"yaxis\":{\"automargin\":true,\"gridcolor\":\"white\",\"linecolor\":\"white\",\"ticks\":\"\",\"title\":{\"standoff\":15},\"zerolinecolor\":\"white\",\"zerolinewidth\":2}}},\"geo\":{\"domain\":{\"x\":[0.0,1.0],\"y\":[0.0,1.0]},\"center\":{},\"scope\":\"usa\"},\"coloraxis\":{\"colorbar\":{\"title\":{\"text\":\"title_count\"}},\"colorscale\":[[0.0,\"rgb(254, 245, 244)\"],[0.09090909090909091,\"rgb(222, 224, 210)\"],[0.18181818181818182,\"rgb(189, 206, 181)\"],[0.2727272727272727,\"rgb(153, 189, 156)\"],[0.36363636363636365,\"rgb(110, 173, 138)\"],[0.45454545454545453,\"rgb(65, 157, 129)\"],[0.5454545454545454,\"rgb(25, 137, 125)\"],[0.6363636363636364,\"rgb(18, 116, 117)\"],[0.7272727272727273,\"rgb(25, 94, 106)\"],[0.8181818181818182,\"rgb(28, 72, 93)\"],[0.9090909090909091,\"rgb(25, 51, 80)\"],[1.0,\"rgb(20, 29, 67)\"]]},\"legend\":{\"tracegroupgap\":0},\"margin\":{\"t\":60}},                        {\"responsive\": true}                    ).then(function(){\n",
              "                            \n",
              "var gd = document.getElementById('cda91204-1594-4d32-be2e-198ce5fa3595');\n",
              "var x = new MutationObserver(function (mutations, observer) {{\n",
              "        var display = window.getComputedStyle(gd).display;\n",
              "        if (!display || display === 'none') {{\n",
              "            console.log([gd, 'removed!']);\n",
              "            Plotly.purge(gd);\n",
              "            observer.disconnect();\n",
              "        }}\n",
              "}});\n",
              "\n",
              "// Listen for the removal of the full notebook cells\n",
              "var notebookContainer = gd.closest('#notebook-container');\n",
              "if (notebookContainer) {{\n",
              "    x.observe(notebookContainer, {childList: true});\n",
              "}}\n",
              "\n",
              "// Listen for the clearing of the current output cell\n",
              "var outputEl = gd.closest('.output');\n",
              "if (outputEl) {{\n",
              "    x.observe(outputEl, {childList: true});\n",
              "}}\n",
              "\n",
              "                        })                };                            </script>        </div>\n",
              "</body>\n",
              "</html>"
            ]
          },
          "metadata": {}
        }
      ]
    },
    {
      "cell_type": "code",
      "metadata": {
        "colab": {
          "base_uri": "https://localhost:8080/",
          "height": 1000
        },
        "id": "26f18a4d-eef5-460e-aefe-6942fac151f3",
        "outputId": "135a56c7-3821-4cff-847c-982beb5e96a9"
      },
      "source": [
        "agg_5 = df['title'].value_counts()[:5]\n",
        "fig_bar = px.bar(agg_5, title = \"Top 5 Job Titles\",\n",
        "                labels=None)\n",
        "plt.tight_layout()\n",
        "fig_bar.show()\n",
        "df.head()"
      ],
      "id": "26f18a4d-eef5-460e-aefe-6942fac151f3",
      "execution_count": 27,
      "outputs": [
        {
          "output_type": "display_data",
          "data": {
            "text/html": [
              "<html>\n",
              "<head><meta charset=\"utf-8\" /></head>\n",
              "<body>\n",
              "    <div>            <script src=\"https://cdnjs.cloudflare.com/ajax/libs/mathjax/2.7.5/MathJax.js?config=TeX-AMS-MML_SVG\"></script><script type=\"text/javascript\">if (window.MathJax) {MathJax.Hub.Config({SVG: {font: \"STIX-Web\"}});}</script>                <script type=\"text/javascript\">window.PlotlyConfig = {MathJaxConfig: 'local'};</script>\n",
              "        <script src=\"https://cdn.plot.ly/plotly-2.6.3.min.js\"></script>                <div id=\"8a6dd6ee-ed53-4963-9479-1f0572d7892b\" class=\"plotly-graph-div\" style=\"height:525px; width:100%;\"></div>            <script type=\"text/javascript\">                                    window.PLOTLYENV=window.PLOTLYENV || {};                                    if (document.getElementById(\"8a6dd6ee-ed53-4963-9479-1f0572d7892b\")) {                    Plotly.newPlot(                        \"8a6dd6ee-ed53-4963-9479-1f0572d7892b\",                        [{\"alignmentgroup\":\"True\",\"hovertemplate\":\"variable=title<br>index=%{x}<br>value=%{y}<extra></extra>\",\"legendgroup\":\"title\",\"marker\":{\"color\":\"#636efa\",\"pattern\":{\"shape\":\"\"}},\"name\":\"title\",\"offsetgroup\":\"title\",\"orientation\":\"v\",\"showlegend\":true,\"textposition\":\"auto\",\"x\":[\"Data Scientist\",\"Data Analyst\",\"Data Engineer\",\"Data, Other\",\"Statistician\"],\"xaxis\":\"x\",\"y\":[881,361,228,89,73],\"yaxis\":\"y\",\"type\":\"bar\"}],                        {\"template\":{\"data\":{\"bar\":[{\"error_x\":{\"color\":\"#2a3f5f\"},\"error_y\":{\"color\":\"#2a3f5f\"},\"marker\":{\"line\":{\"color\":\"#E5ECF6\",\"width\":0.5},\"pattern\":{\"fillmode\":\"overlay\",\"size\":10,\"solidity\":0.2}},\"type\":\"bar\"}],\"barpolar\":[{\"marker\":{\"line\":{\"color\":\"#E5ECF6\",\"width\":0.5},\"pattern\":{\"fillmode\":\"overlay\",\"size\":10,\"solidity\":0.2}},\"type\":\"barpolar\"}],\"carpet\":[{\"aaxis\":{\"endlinecolor\":\"#2a3f5f\",\"gridcolor\":\"white\",\"linecolor\":\"white\",\"minorgridcolor\":\"white\",\"startlinecolor\":\"#2a3f5f\"},\"baxis\":{\"endlinecolor\":\"#2a3f5f\",\"gridcolor\":\"white\",\"linecolor\":\"white\",\"minorgridcolor\":\"white\",\"startlinecolor\":\"#2a3f5f\"},\"type\":\"carpet\"}],\"choropleth\":[{\"colorbar\":{\"outlinewidth\":0,\"ticks\":\"\"},\"type\":\"choropleth\"}],\"contour\":[{\"colorbar\":{\"outlinewidth\":0,\"ticks\":\"\"},\"colorscale\":[[0.0,\"#0d0887\"],[0.1111111111111111,\"#46039f\"],[0.2222222222222222,\"#7201a8\"],[0.3333333333333333,\"#9c179e\"],[0.4444444444444444,\"#bd3786\"],[0.5555555555555556,\"#d8576b\"],[0.6666666666666666,\"#ed7953\"],[0.7777777777777778,\"#fb9f3a\"],[0.8888888888888888,\"#fdca26\"],[1.0,\"#f0f921\"]],\"type\":\"contour\"}],\"contourcarpet\":[{\"colorbar\":{\"outlinewidth\":0,\"ticks\":\"\"},\"type\":\"contourcarpet\"}],\"heatmap\":[{\"colorbar\":{\"outlinewidth\":0,\"ticks\":\"\"},\"colorscale\":[[0.0,\"#0d0887\"],[0.1111111111111111,\"#46039f\"],[0.2222222222222222,\"#7201a8\"],[0.3333333333333333,\"#9c179e\"],[0.4444444444444444,\"#bd3786\"],[0.5555555555555556,\"#d8576b\"],[0.6666666666666666,\"#ed7953\"],[0.7777777777777778,\"#fb9f3a\"],[0.8888888888888888,\"#fdca26\"],[1.0,\"#f0f921\"]],\"type\":\"heatmap\"}],\"heatmapgl\":[{\"colorbar\":{\"outlinewidth\":0,\"ticks\":\"\"},\"colorscale\":[[0.0,\"#0d0887\"],[0.1111111111111111,\"#46039f\"],[0.2222222222222222,\"#7201a8\"],[0.3333333333333333,\"#9c179e\"],[0.4444444444444444,\"#bd3786\"],[0.5555555555555556,\"#d8576b\"],[0.6666666666666666,\"#ed7953\"],[0.7777777777777778,\"#fb9f3a\"],[0.8888888888888888,\"#fdca26\"],[1.0,\"#f0f921\"]],\"type\":\"heatmapgl\"}],\"histogram\":[{\"marker\":{\"pattern\":{\"fillmode\":\"overlay\",\"size\":10,\"solidity\":0.2}},\"type\":\"histogram\"}],\"histogram2d\":[{\"colorbar\":{\"outlinewidth\":0,\"ticks\":\"\"},\"colorscale\":[[0.0,\"#0d0887\"],[0.1111111111111111,\"#46039f\"],[0.2222222222222222,\"#7201a8\"],[0.3333333333333333,\"#9c179e\"],[0.4444444444444444,\"#bd3786\"],[0.5555555555555556,\"#d8576b\"],[0.6666666666666666,\"#ed7953\"],[0.7777777777777778,\"#fb9f3a\"],[0.8888888888888888,\"#fdca26\"],[1.0,\"#f0f921\"]],\"type\":\"histogram2d\"}],\"histogram2dcontour\":[{\"colorbar\":{\"outlinewidth\":0,\"ticks\":\"\"},\"colorscale\":[[0.0,\"#0d0887\"],[0.1111111111111111,\"#46039f\"],[0.2222222222222222,\"#7201a8\"],[0.3333333333333333,\"#9c179e\"],[0.4444444444444444,\"#bd3786\"],[0.5555555555555556,\"#d8576b\"],[0.6666666666666666,\"#ed7953\"],[0.7777777777777778,\"#fb9f3a\"],[0.8888888888888888,\"#fdca26\"],[1.0,\"#f0f921\"]],\"type\":\"histogram2dcontour\"}],\"mesh3d\":[{\"colorbar\":{\"outlinewidth\":0,\"ticks\":\"\"},\"type\":\"mesh3d\"}],\"parcoords\":[{\"line\":{\"colorbar\":{\"outlinewidth\":0,\"ticks\":\"\"}},\"type\":\"parcoords\"}],\"pie\":[{\"automargin\":true,\"type\":\"pie\"}],\"scatter\":[{\"marker\":{\"colorbar\":{\"outlinewidth\":0,\"ticks\":\"\"}},\"type\":\"scatter\"}],\"scatter3d\":[{\"line\":{\"colorbar\":{\"outlinewidth\":0,\"ticks\":\"\"}},\"marker\":{\"colorbar\":{\"outlinewidth\":0,\"ticks\":\"\"}},\"type\":\"scatter3d\"}],\"scattercarpet\":[{\"marker\":{\"colorbar\":{\"outlinewidth\":0,\"ticks\":\"\"}},\"type\":\"scattercarpet\"}],\"scattergeo\":[{\"marker\":{\"colorbar\":{\"outlinewidth\":0,\"ticks\":\"\"}},\"type\":\"scattergeo\"}],\"scattergl\":[{\"marker\":{\"colorbar\":{\"outlinewidth\":0,\"ticks\":\"\"}},\"type\":\"scattergl\"}],\"scattermapbox\":[{\"marker\":{\"colorbar\":{\"outlinewidth\":0,\"ticks\":\"\"}},\"type\":\"scattermapbox\"}],\"scatterpolar\":[{\"marker\":{\"colorbar\":{\"outlinewidth\":0,\"ticks\":\"\"}},\"type\":\"scatterpolar\"}],\"scatterpolargl\":[{\"marker\":{\"colorbar\":{\"outlinewidth\":0,\"ticks\":\"\"}},\"type\":\"scatterpolargl\"}],\"scatterternary\":[{\"marker\":{\"colorbar\":{\"outlinewidth\":0,\"ticks\":\"\"}},\"type\":\"scatterternary\"}],\"surface\":[{\"colorbar\":{\"outlinewidth\":0,\"ticks\":\"\"},\"colorscale\":[[0.0,\"#0d0887\"],[0.1111111111111111,\"#46039f\"],[0.2222222222222222,\"#7201a8\"],[0.3333333333333333,\"#9c179e\"],[0.4444444444444444,\"#bd3786\"],[0.5555555555555556,\"#d8576b\"],[0.6666666666666666,\"#ed7953\"],[0.7777777777777778,\"#fb9f3a\"],[0.8888888888888888,\"#fdca26\"],[1.0,\"#f0f921\"]],\"type\":\"surface\"}],\"table\":[{\"cells\":{\"fill\":{\"color\":\"#EBF0F8\"},\"line\":{\"color\":\"white\"}},\"header\":{\"fill\":{\"color\":\"#C8D4E3\"},\"line\":{\"color\":\"white\"}},\"type\":\"table\"}]},\"layout\":{\"annotationdefaults\":{\"arrowcolor\":\"#2a3f5f\",\"arrowhead\":0,\"arrowwidth\":1},\"autotypenumbers\":\"strict\",\"coloraxis\":{\"colorbar\":{\"outlinewidth\":0,\"ticks\":\"\"}},\"colorscale\":{\"diverging\":[[0,\"#8e0152\"],[0.1,\"#c51b7d\"],[0.2,\"#de77ae\"],[0.3,\"#f1b6da\"],[0.4,\"#fde0ef\"],[0.5,\"#f7f7f7\"],[0.6,\"#e6f5d0\"],[0.7,\"#b8e186\"],[0.8,\"#7fbc41\"],[0.9,\"#4d9221\"],[1,\"#276419\"]],\"sequential\":[[0.0,\"#0d0887\"],[0.1111111111111111,\"#46039f\"],[0.2222222222222222,\"#7201a8\"],[0.3333333333333333,\"#9c179e\"],[0.4444444444444444,\"#bd3786\"],[0.5555555555555556,\"#d8576b\"],[0.6666666666666666,\"#ed7953\"],[0.7777777777777778,\"#fb9f3a\"],[0.8888888888888888,\"#fdca26\"],[1.0,\"#f0f921\"]],\"sequentialminus\":[[0.0,\"#0d0887\"],[0.1111111111111111,\"#46039f\"],[0.2222222222222222,\"#7201a8\"],[0.3333333333333333,\"#9c179e\"],[0.4444444444444444,\"#bd3786\"],[0.5555555555555556,\"#d8576b\"],[0.6666666666666666,\"#ed7953\"],[0.7777777777777778,\"#fb9f3a\"],[0.8888888888888888,\"#fdca26\"],[1.0,\"#f0f921\"]]},\"colorway\":[\"#636efa\",\"#EF553B\",\"#00cc96\",\"#ab63fa\",\"#FFA15A\",\"#19d3f3\",\"#FF6692\",\"#B6E880\",\"#FF97FF\",\"#FECB52\"],\"font\":{\"color\":\"#2a3f5f\"},\"geo\":{\"bgcolor\":\"white\",\"lakecolor\":\"white\",\"landcolor\":\"#E5ECF6\",\"showlakes\":true,\"showland\":true,\"subunitcolor\":\"white\"},\"hoverlabel\":{\"align\":\"left\"},\"hovermode\":\"closest\",\"mapbox\":{\"style\":\"light\"},\"paper_bgcolor\":\"white\",\"plot_bgcolor\":\"#E5ECF6\",\"polar\":{\"angularaxis\":{\"gridcolor\":\"white\",\"linecolor\":\"white\",\"ticks\":\"\"},\"bgcolor\":\"#E5ECF6\",\"radialaxis\":{\"gridcolor\":\"white\",\"linecolor\":\"white\",\"ticks\":\"\"}},\"scene\":{\"xaxis\":{\"backgroundcolor\":\"#E5ECF6\",\"gridcolor\":\"white\",\"gridwidth\":2,\"linecolor\":\"white\",\"showbackground\":true,\"ticks\":\"\",\"zerolinecolor\":\"white\"},\"yaxis\":{\"backgroundcolor\":\"#E5ECF6\",\"gridcolor\":\"white\",\"gridwidth\":2,\"linecolor\":\"white\",\"showbackground\":true,\"ticks\":\"\",\"zerolinecolor\":\"white\"},\"zaxis\":{\"backgroundcolor\":\"#E5ECF6\",\"gridcolor\":\"white\",\"gridwidth\":2,\"linecolor\":\"white\",\"showbackground\":true,\"ticks\":\"\",\"zerolinecolor\":\"white\"}},\"shapedefaults\":{\"line\":{\"color\":\"#2a3f5f\"}},\"ternary\":{\"aaxis\":{\"gridcolor\":\"white\",\"linecolor\":\"white\",\"ticks\":\"\"},\"baxis\":{\"gridcolor\":\"white\",\"linecolor\":\"white\",\"ticks\":\"\"},\"bgcolor\":\"#E5ECF6\",\"caxis\":{\"gridcolor\":\"white\",\"linecolor\":\"white\",\"ticks\":\"\"}},\"title\":{\"x\":0.05},\"xaxis\":{\"automargin\":true,\"gridcolor\":\"white\",\"linecolor\":\"white\",\"ticks\":\"\",\"title\":{\"standoff\":15},\"zerolinecolor\":\"white\",\"zerolinewidth\":2},\"yaxis\":{\"automargin\":true,\"gridcolor\":\"white\",\"linecolor\":\"white\",\"ticks\":\"\",\"title\":{\"standoff\":15},\"zerolinecolor\":\"white\",\"zerolinewidth\":2}}},\"xaxis\":{\"anchor\":\"y\",\"domain\":[0.0,1.0],\"title\":{\"text\":\"index\"}},\"yaxis\":{\"anchor\":\"x\",\"domain\":[0.0,1.0],\"title\":{\"text\":\"value\"}},\"legend\":{\"title\":{\"text\":\"variable\"},\"tracegroupgap\":0},\"title\":{\"text\":\"Top 5 Job Titles\"},\"barmode\":\"relative\"},                        {\"responsive\": true}                    ).then(function(){\n",
              "                            \n",
              "var gd = document.getElementById('8a6dd6ee-ed53-4963-9479-1f0572d7892b');\n",
              "var x = new MutationObserver(function (mutations, observer) {{\n",
              "        var display = window.getComputedStyle(gd).display;\n",
              "        if (!display || display === 'none') {{\n",
              "            console.log([gd, 'removed!']);\n",
              "            Plotly.purge(gd);\n",
              "            observer.disconnect();\n",
              "        }}\n",
              "}});\n",
              "\n",
              "// Listen for the removal of the full notebook cells\n",
              "var notebookContainer = gd.closest('#notebook-container');\n",
              "if (notebookContainer) {{\n",
              "    x.observe(notebookContainer, {childList: true});\n",
              "}}\n",
              "\n",
              "// Listen for the clearing of the current output cell\n",
              "var outputEl = gd.closest('.output');\n",
              "if (outputEl) {{\n",
              "    x.observe(outputEl, {childList: true});\n",
              "}}\n",
              "\n",
              "                        })                };                            </script>        </div>\n",
              "</body>\n",
              "</html>"
            ]
          },
          "metadata": {}
        },
        {
          "output_type": "execute_result",
          "data": {
            "text/html": [
              "<div>\n",
              "<style scoped>\n",
              "    .dataframe tbody tr th:only-of-type {\n",
              "        vertical-align: middle;\n",
              "    }\n",
              "\n",
              "    .dataframe tbody tr th {\n",
              "        vertical-align: top;\n",
              "    }\n",
              "\n",
              "    .dataframe thead th {\n",
              "        text-align: right;\n",
              "    }\n",
              "</style>\n",
              "<table border=\"1\" class=\"dataframe\">\n",
              "  <thead>\n",
              "    <tr style=\"text-align: right;\">\n",
              "      <th></th>\n",
              "      <th>title</th>\n",
              "      <th>salary</th>\n",
              "      <th>description</th>\n",
              "      <th>remote</th>\n",
              "      <th>city</th>\n",
              "      <th>state</th>\n",
              "      <th>job_board</th>\n",
              "      <th>company</th>\n",
              "      <th>compan</th>\n",
              "      <th>industry</th>\n",
              "    </tr>\n",
              "  </thead>\n",
              "  <tbody>\n",
              "    <tr>\n",
              "      <th>0</th>\n",
              "      <td>Data Scientist</td>\n",
              "      <td>NaN</td>\n",
              "      <td>Experience with eCommerce data analysis is a p...</td>\n",
              "      <td>yes</td>\n",
              "      <td>Delano</td>\n",
              "      <td>CA</td>\n",
              "      <td>Indeed</td>\n",
              "      <td>NaN</td>\n",
              "      <td>NaN</td>\n",
              "      <td>NaN</td>\n",
              "    </tr>\n",
              "    <tr>\n",
              "      <th>1</th>\n",
              "      <td>Data Scientist</td>\n",
              "      <td>NaN</td>\n",
              "      <td>NaN</td>\n",
              "      <td>yes</td>\n",
              "      <td>Remote</td>\n",
              "      <td>NaN</td>\n",
              "      <td>Indeed</td>\n",
              "      <td>NaN</td>\n",
              "      <td>NaN</td>\n",
              "      <td>NaN</td>\n",
              "    </tr>\n",
              "    <tr>\n",
              "      <th>2</th>\n",
              "      <td>Data Scientist</td>\n",
              "      <td>NaN</td>\n",
              "      <td>Experience supporting data scientists across t...</td>\n",
              "      <td>yes</td>\n",
              "      <td>Remote</td>\n",
              "      <td>NaN</td>\n",
              "      <td>Indeed</td>\n",
              "      <td>NaN</td>\n",
              "      <td>NaN</td>\n",
              "      <td>NaN</td>\n",
              "    </tr>\n",
              "    <tr>\n",
              "      <th>3</th>\n",
              "      <td>Data Engineer</td>\n",
              "      <td>NaN</td>\n",
              "      <td>Define and execute the data engineering roadma...</td>\n",
              "      <td>no</td>\n",
              "      <td>Atlanta</td>\n",
              "      <td>GA</td>\n",
              "      <td>Indeed</td>\n",
              "      <td>NaN</td>\n",
              "      <td>NaN</td>\n",
              "      <td>NaN</td>\n",
              "    </tr>\n",
              "    <tr>\n",
              "      <th>4</th>\n",
              "      <td>Data Scientist</td>\n",
              "      <td>NaN</td>\n",
              "      <td>Understands how to break down the data, extrac...</td>\n",
              "      <td>yes</td>\n",
              "      <td>Seattle</td>\n",
              "      <td>WA</td>\n",
              "      <td>Indeed</td>\n",
              "      <td>NaN</td>\n",
              "      <td>NaN</td>\n",
              "      <td>NaN</td>\n",
              "    </tr>\n",
              "  </tbody>\n",
              "</table>\n",
              "</div>"
            ],
            "text/plain": [
              "            title  salary  ... compan industry\n",
              "0  Data Scientist     NaN  ...    NaN      NaN\n",
              "1  Data Scientist     NaN  ...    NaN      NaN\n",
              "2  Data Scientist     NaN  ...    NaN      NaN\n",
              "3   Data Engineer     NaN  ...    NaN      NaN\n",
              "4  Data Scientist     NaN  ...    NaN      NaN\n",
              "\n",
              "[5 rows x 10 columns]"
            ]
          },
          "metadata": {},
          "execution_count": 27
        },
        {
          "output_type": "display_data",
          "data": {
            "text/plain": [
              "<Figure size 432x288 with 0 Axes>"
            ]
          },
          "metadata": {}
        }
      ]
    },
    {
      "cell_type": "code",
      "metadata": {
        "colab": {
          "base_uri": "https://localhost:8080/",
          "height": 363
        },
        "id": "37226358-5cec-4137-81ba-7025756d1cfa",
        "outputId": "44617aad-18d1-4c57-9572-d1de03a8d961"
      },
      "source": [
        "#TITLE AND SALARY\n",
        "title_salary = df[['title', 'salary']]\n",
        "title_salary = title_salary.dropna()\n",
        "title_salary.head(10)"
      ],
      "id": "37226358-5cec-4137-81ba-7025756d1cfa",
      "execution_count": 28,
      "outputs": [
        {
          "output_type": "execute_result",
          "data": {
            "text/html": [
              "<div>\n",
              "<style scoped>\n",
              "    .dataframe tbody tr th:only-of-type {\n",
              "        vertical-align: middle;\n",
              "    }\n",
              "\n",
              "    .dataframe tbody tr th {\n",
              "        vertical-align: top;\n",
              "    }\n",
              "\n",
              "    .dataframe thead th {\n",
              "        text-align: right;\n",
              "    }\n",
              "</style>\n",
              "<table border=\"1\" class=\"dataframe\">\n",
              "  <thead>\n",
              "    <tr style=\"text-align: right;\">\n",
              "      <th></th>\n",
              "      <th>title</th>\n",
              "      <th>salary</th>\n",
              "    </tr>\n",
              "  </thead>\n",
              "  <tbody>\n",
              "    <tr>\n",
              "      <th>13</th>\n",
              "      <td>Data Scientist</td>\n",
              "      <td>72800.0</td>\n",
              "    </tr>\n",
              "    <tr>\n",
              "      <th>40</th>\n",
              "      <td>Data Scientist</td>\n",
              "      <td>92250.0</td>\n",
              "    </tr>\n",
              "    <tr>\n",
              "      <th>42</th>\n",
              "      <td>Data Analyst</td>\n",
              "      <td>31200.0</td>\n",
              "    </tr>\n",
              "    <tr>\n",
              "      <th>45</th>\n",
              "      <td>Statistician</td>\n",
              "      <td>72800.0</td>\n",
              "    </tr>\n",
              "    <tr>\n",
              "      <th>52</th>\n",
              "      <td>Data Scientist</td>\n",
              "      <td>68162.0</td>\n",
              "    </tr>\n",
              "    <tr>\n",
              "      <th>75</th>\n",
              "      <td>Data Scientist</td>\n",
              "      <td>112078.5</td>\n",
              "    </tr>\n",
              "    <tr>\n",
              "      <th>86</th>\n",
              "      <td>Data Scientist</td>\n",
              "      <td>114660.0</td>\n",
              "    </tr>\n",
              "    <tr>\n",
              "      <th>90</th>\n",
              "      <td>Data Scientist</td>\n",
              "      <td>191000.0</td>\n",
              "    </tr>\n",
              "    <tr>\n",
              "      <th>92</th>\n",
              "      <td>Statistician</td>\n",
              "      <td>45638.0</td>\n",
              "    </tr>\n",
              "    <tr>\n",
              "      <th>118</th>\n",
              "      <td>Data Analyst</td>\n",
              "      <td>77862.0</td>\n",
              "    </tr>\n",
              "  </tbody>\n",
              "</table>\n",
              "</div>"
            ],
            "text/plain": [
              "              title    salary\n",
              "13   Data Scientist   72800.0\n",
              "40   Data Scientist   92250.0\n",
              "42     Data Analyst   31200.0\n",
              "45     Statistician   72800.0\n",
              "52   Data Scientist   68162.0\n",
              "75   Data Scientist  112078.5\n",
              "86   Data Scientist  114660.0\n",
              "90   Data Scientist  191000.0\n",
              "92     Statistician   45638.0\n",
              "118    Data Analyst   77862.0"
            ]
          },
          "metadata": {},
          "execution_count": 28
        }
      ]
    },
    {
      "cell_type": "code",
      "metadata": {
        "colab": {
          "base_uri": "https://localhost:8080/",
          "height": 676
        },
        "id": "963df03a-8ffa-48c8-bde0-bb558d792798",
        "outputId": "0266dfd0-68f6-4e42-f621-7c821ff4e4d9"
      },
      "source": [
        "title_salary = title_salary.dropna()\n",
        "title_salary.head(20)"
      ],
      "id": "963df03a-8ffa-48c8-bde0-bb558d792798",
      "execution_count": 29,
      "outputs": [
        {
          "output_type": "execute_result",
          "data": {
            "text/html": [
              "<div>\n",
              "<style scoped>\n",
              "    .dataframe tbody tr th:only-of-type {\n",
              "        vertical-align: middle;\n",
              "    }\n",
              "\n",
              "    .dataframe tbody tr th {\n",
              "        vertical-align: top;\n",
              "    }\n",
              "\n",
              "    .dataframe thead th {\n",
              "        text-align: right;\n",
              "    }\n",
              "</style>\n",
              "<table border=\"1\" class=\"dataframe\">\n",
              "  <thead>\n",
              "    <tr style=\"text-align: right;\">\n",
              "      <th></th>\n",
              "      <th>title</th>\n",
              "      <th>salary</th>\n",
              "    </tr>\n",
              "  </thead>\n",
              "  <tbody>\n",
              "    <tr>\n",
              "      <th>13</th>\n",
              "      <td>Data Scientist</td>\n",
              "      <td>72800.0</td>\n",
              "    </tr>\n",
              "    <tr>\n",
              "      <th>40</th>\n",
              "      <td>Data Scientist</td>\n",
              "      <td>92250.0</td>\n",
              "    </tr>\n",
              "    <tr>\n",
              "      <th>42</th>\n",
              "      <td>Data Analyst</td>\n",
              "      <td>31200.0</td>\n",
              "    </tr>\n",
              "    <tr>\n",
              "      <th>45</th>\n",
              "      <td>Statistician</td>\n",
              "      <td>72800.0</td>\n",
              "    </tr>\n",
              "    <tr>\n",
              "      <th>52</th>\n",
              "      <td>Data Scientist</td>\n",
              "      <td>68162.0</td>\n",
              "    </tr>\n",
              "    <tr>\n",
              "      <th>75</th>\n",
              "      <td>Data Scientist</td>\n",
              "      <td>112078.5</td>\n",
              "    </tr>\n",
              "    <tr>\n",
              "      <th>86</th>\n",
              "      <td>Data Scientist</td>\n",
              "      <td>114660.0</td>\n",
              "    </tr>\n",
              "    <tr>\n",
              "      <th>90</th>\n",
              "      <td>Data Scientist</td>\n",
              "      <td>191000.0</td>\n",
              "    </tr>\n",
              "    <tr>\n",
              "      <th>92</th>\n",
              "      <td>Statistician</td>\n",
              "      <td>45638.0</td>\n",
              "    </tr>\n",
              "    <tr>\n",
              "      <th>118</th>\n",
              "      <td>Data Analyst</td>\n",
              "      <td>77862.0</td>\n",
              "    </tr>\n",
              "    <tr>\n",
              "      <th>124</th>\n",
              "      <td>Data Scientist</td>\n",
              "      <td>93056.0</td>\n",
              "    </tr>\n",
              "    <tr>\n",
              "      <th>127</th>\n",
              "      <td>Machine Learning</td>\n",
              "      <td>156000.0</td>\n",
              "    </tr>\n",
              "    <tr>\n",
              "      <th>137</th>\n",
              "      <td>Analytics</td>\n",
              "      <td>100000.0</td>\n",
              "    </tr>\n",
              "    <tr>\n",
              "      <th>158</th>\n",
              "      <td>Data Scientist</td>\n",
              "      <td>71728.5</td>\n",
              "    </tr>\n",
              "    <tr>\n",
              "      <th>177</th>\n",
              "      <td>Statistician</td>\n",
              "      <td>115575.5</td>\n",
              "    </tr>\n",
              "    <tr>\n",
              "      <th>228</th>\n",
              "      <td>Data Scientist</td>\n",
              "      <td>100197.5</td>\n",
              "    </tr>\n",
              "    <tr>\n",
              "      <th>231</th>\n",
              "      <td>Data Scientist</td>\n",
              "      <td>110500.0</td>\n",
              "    </tr>\n",
              "    <tr>\n",
              "      <th>237</th>\n",
              "      <td>Data Scientist</td>\n",
              "      <td>131488.0</td>\n",
              "    </tr>\n",
              "    <tr>\n",
              "      <th>293</th>\n",
              "      <td>Data Scientist</td>\n",
              "      <td>99450.0</td>\n",
              "    </tr>\n",
              "    <tr>\n",
              "      <th>311</th>\n",
              "      <td>Data Scientist</td>\n",
              "      <td>62500.0</td>\n",
              "    </tr>\n",
              "  </tbody>\n",
              "</table>\n",
              "</div>"
            ],
            "text/plain": [
              "                title    salary\n",
              "13     Data Scientist   72800.0\n",
              "40     Data Scientist   92250.0\n",
              "42       Data Analyst   31200.0\n",
              "45       Statistician   72800.0\n",
              "52     Data Scientist   68162.0\n",
              "75     Data Scientist  112078.5\n",
              "86     Data Scientist  114660.0\n",
              "90     Data Scientist  191000.0\n",
              "92       Statistician   45638.0\n",
              "118      Data Analyst   77862.0\n",
              "124    Data Scientist   93056.0\n",
              "127  Machine Learning  156000.0\n",
              "137         Analytics  100000.0\n",
              "158    Data Scientist   71728.5\n",
              "177      Statistician  115575.5\n",
              "228    Data Scientist  100197.5\n",
              "231    Data Scientist  110500.0\n",
              "237    Data Scientist  131488.0\n",
              "293    Data Scientist   99450.0\n",
              "311    Data Scientist   62500.0"
            ]
          },
          "metadata": {},
          "execution_count": 29
        }
      ]
    },
    {
      "cell_type": "code",
      "metadata": {
        "id": "775250a6-ce6a-4b97-9581-515e11f931df"
      },
      "source": [
        "title_salary.to_csv('title_salary.csv', encoding = 'utf-8-sig', index = False)"
      ],
      "id": "775250a6-ce6a-4b97-9581-515e11f931df",
      "execution_count": 30,
      "outputs": []
    },
    {
      "cell_type": "markdown",
      "metadata": {
        "id": "eViHYjoual1M"
      },
      "source": [
        "Jon's Crap below:"
      ],
      "id": "eViHYjoual1M"
    },
    {
      "cell_type": "code",
      "metadata": {
        "colab": {
          "base_uri": "https://localhost:8080/",
          "height": 457
        },
        "id": "210ac55b-0c4a-45c6-b68e-7b5176907c4a",
        "outputId": "27ece562-f138-4b4e-b69a-12e7f81e5a86"
      },
      "source": [
        "df['title']= df['title'].str.lower()\n",
        "df.groupby('title').size().sort_values(ascending=False)\n",
        "df_count = pd.DataFrame(df.groupby('title').size().sort_values(ascending=False).rename('Count').reset_index())\n",
        "df_count"
      ],
      "id": "210ac55b-0c4a-45c6-b68e-7b5176907c4a",
      "execution_count": 31,
      "outputs": [
        {
          "output_type": "execute_result",
          "data": {
            "text/html": [
              "<div>\n",
              "<style scoped>\n",
              "    .dataframe tbody tr th:only-of-type {\n",
              "        vertical-align: middle;\n",
              "    }\n",
              "\n",
              "    .dataframe tbody tr th {\n",
              "        vertical-align: top;\n",
              "    }\n",
              "\n",
              "    .dataframe thead th {\n",
              "        text-align: right;\n",
              "    }\n",
              "</style>\n",
              "<table border=\"1\" class=\"dataframe\">\n",
              "  <thead>\n",
              "    <tr style=\"text-align: right;\">\n",
              "      <th></th>\n",
              "      <th>title</th>\n",
              "      <th>Count</th>\n",
              "    </tr>\n",
              "  </thead>\n",
              "  <tbody>\n",
              "    <tr>\n",
              "      <th>0</th>\n",
              "      <td>data scientist</td>\n",
              "      <td>881</td>\n",
              "    </tr>\n",
              "    <tr>\n",
              "      <th>1</th>\n",
              "      <td>data analyst</td>\n",
              "      <td>361</td>\n",
              "    </tr>\n",
              "    <tr>\n",
              "      <th>2</th>\n",
              "      <td>data engineer</td>\n",
              "      <td>228</td>\n",
              "    </tr>\n",
              "    <tr>\n",
              "      <th>3</th>\n",
              "      <td>data, other</td>\n",
              "      <td>89</td>\n",
              "    </tr>\n",
              "    <tr>\n",
              "      <th>4</th>\n",
              "      <td>statistician</td>\n",
              "      <td>73</td>\n",
              "    </tr>\n",
              "    <tr>\n",
              "      <th>5</th>\n",
              "      <td>machine learning</td>\n",
              "      <td>66</td>\n",
              "    </tr>\n",
              "    <tr>\n",
              "      <th>6</th>\n",
              "      <td>analytics</td>\n",
              "      <td>43</td>\n",
              "    </tr>\n",
              "    <tr>\n",
              "      <th>7</th>\n",
              "      <td>education</td>\n",
              "      <td>33</td>\n",
              "    </tr>\n",
              "    <tr>\n",
              "      <th>8</th>\n",
              "      <td>manager</td>\n",
              "      <td>26</td>\n",
              "    </tr>\n",
              "    <tr>\n",
              "      <th>9</th>\n",
              "      <td>ai</td>\n",
              "      <td>26</td>\n",
              "    </tr>\n",
              "    <tr>\n",
              "      <th>10</th>\n",
              "      <td>health</td>\n",
              "      <td>18</td>\n",
              "    </tr>\n",
              "    <tr>\n",
              "      <th>11</th>\n",
              "      <td>management</td>\n",
              "      <td>16</td>\n",
              "    </tr>\n",
              "    <tr>\n",
              "      <th>12</th>\n",
              "      <td>mathematician</td>\n",
              "      <td>15</td>\n",
              "    </tr>\n",
              "  </tbody>\n",
              "</table>\n",
              "</div>"
            ],
            "text/plain": [
              "               title  Count\n",
              "0     data scientist    881\n",
              "1       data analyst    361\n",
              "2      data engineer    228\n",
              "3        data, other     89\n",
              "4       statistician     73\n",
              "5   machine learning     66\n",
              "6          analytics     43\n",
              "7          education     33\n",
              "8            manager     26\n",
              "9                 ai     26\n",
              "10            health     18\n",
              "11        management     16\n",
              "12     mathematician     15"
            ]
          },
          "metadata": {},
          "execution_count": 31
        }
      ]
    },
    {
      "cell_type": "code",
      "metadata": {
        "colab": {
          "background_save": true
        },
        "id": "g9159Dgkap7o"
      },
      "source": [
        "import matplotlib.pyplot as plt\n",
        "from wordcloud import WordCloud\n",
        "wordcloud = WordCloud(width = 5000, height = 3000, colormap=\"Reds\").generate(\" \".join(df.title))\n",
        "plt.imshow(wordcloud,interpolation=\"bilinear\")\n",
        "plt.title('Cool Word Cloud of Job Titles', fontsize=15, color =\"Black\", fontweight=\"bold\")\n",
        "plt.axis('off')\n",
        "plt.show()\n"
      ],
      "id": "g9159Dgkap7o",
      "execution_count": null,
      "outputs": []
    },
    {
      "cell_type": "code",
      "metadata": {
        "colab": {
          "background_save": true
        },
        "id": "zKkZrBcLq6Bt"
      },
      "source": [
        "#Industry and Salary\n",
        "industry_salary_df = df[['industry', 'salary']]\n",
        "industry_salary_df = industry_salary_df.dropna()\n",
        "industry_salary_df.head(10)"
      ],
      "id": "zKkZrBcLq6Bt",
      "execution_count": null,
      "outputs": []
    },
    {
      "cell_type": "markdown",
      "metadata": {
        "id": "yiKqeo3ErxoR"
      },
      "source": [
        "Hypothesis: We expect to see words related to data in the most frequently used words for the job title 'Data Scientist'\n",
        "Result: As expected, all five of the most frequently used words for 'Data Scientist' contain the word data."
      ],
      "id": "yiKqeo3ErxoR"
    },
    {
      "cell_type": "code",
      "metadata": {
        "colab": {
          "background_save": true
        },
        "id": "uwe-LV_MIn54"
      },
      "source": [
        "import matplotlib.pyplot as plt\n",
        "from wordcloud import WordCloud\n",
        "stop_words = ['NaN','NaN ','in','of','you','year','Simply Hired','Simply','Indeed','Data Scientist','Scientist','Hired','Seattle','Columbus','WA','OH','Portland','CA']\n",
        "wordcloud = WordCloud(max_words = 20, stopwords = stop_words, width = 5000, height = 3000, colormap=\"Reds\").generate(df.loc[df['title']=='Data Scientist'].to_string())\n",
        "plt.imshow(wordcloud, interpolation='bilinear')\n",
        "plt.title('Data Scientist Word Cloud', fontsize=15, color =\"Black\", fontweight=\"bold\")\n",
        "plt.axis(\"off\")\n",
        "plt.show()\n",
        "plt.savefig('data_scientist_word_cloud.png')"
      ],
      "id": "uwe-LV_MIn54",
      "execution_count": null,
      "outputs": []
    },
    {
      "cell_type": "markdown",
      "metadata": {
        "id": "gg8l6Rq11DA6"
      },
      "source": [
        "# New Section"
      ],
      "id": "gg8l6Rq11DA6"
    },
    {
      "cell_type": "code",
      "metadata": {
        "colab": {
          "background_save": true
        },
        "id": "eSV4n5TNk0U9"
      },
      "source": [
        "sorted(wordcloud.words_.items(), key=lambda x: x[1], reverse=True)[:5]\n"
      ],
      "id": "eSV4n5TNk0U9",
      "execution_count": null,
      "outputs": []
    },
    {
      "cell_type": "code",
      "metadata": {
        "colab": {
          "background_save": true
        },
        "id": "3GuF7d4rJKkW"
      },
      "source": [
        "stop_words = ['NaN','NaN ','Simply Hired','Simply','Indeed','Data Analyst','Analyst','Hired','Alpharetta']\n",
        "wordcloud = WordCloud(max_words = 20, stopwords = stop_words, width = 5000, height = 3000, colormap=\"Reds\").\\\n",
        "generate(df.loc[df['title']=='Data Analyst'].to_string())\n",
        "plt.imshow(wordcloud, interpolation='bilinear')\n",
        "plt.title('Data Analyst Word Cloud', fontsize=15, color =\"Black\", fontweight=\"bold\")\n",
        "plt.axis(\"off\")\n",
        "plt.show()"
      ],
      "id": "3GuF7d4rJKkW",
      "execution_count": null,
      "outputs": []
    },
    {
      "cell_type": "code",
      "metadata": {
        "colab": {
          "background_save": true
        },
        "id": "G-il95vOz29F"
      },
      "source": [
        "sorted(wordcloud.words_.items(), key=lambda x: x[1], reverse=True)[:5]"
      ],
      "id": "G-il95vOz29F",
      "execution_count": null,
      "outputs": []
    },
    {
      "cell_type": "code",
      "metadata": {
        "colab": {
          "background_save": true
        },
        "id": "R4EWb8K4JLpJ"
      },
      "source": [
        "stop_words = ['NaN','NaN ','and','no','the','Simply Hired','Simply','Indeed','Data Engineer','Engineer','Hired','New York','NY','York','Ampersand','Ampers']\n",
        "wordcloud = WordCloud(max_words = 20, stopwords = stop_words, width = 5000, height = 3000, colormap=\"Reds\").\\\n",
        "generate(df.loc[df['title']=='Data Engineer'].to_string())\n",
        "plt.imshow(wordcloud, interpolation='bilinear')\n",
        "plt.title('Data Engineer Word Cloud', fontsize=15, color =\"Black\", fontweight=\"bold\")\n",
        "plt.axis(\"off\")\n",
        "plt.show()"
      ],
      "id": "R4EWb8K4JLpJ",
      "execution_count": null,
      "outputs": []
    },
    {
      "cell_type": "code",
      "metadata": {
        "colab": {
          "background_save": true
        },
        "id": "TeG0m-HY0XcR"
      },
      "source": [
        "sorted(wordcloud.words_.items(), key=lambda x: x[1], reverse=True)[:5]"
      ],
      "id": "TeG0m-HY0XcR",
      "execution_count": null,
      "outputs": []
    },
    {
      "cell_type": "code",
      "metadata": {
        "colab": {
          "background_save": true
        },
        "id": "K4H_2fg8Q625"
      },
      "source": [
        "stop_words = ['NaN','NaN ','Simply Hired','Simply','Indeed','Other']\n",
        "wordcloud = WordCloud(max_words = 20, stopwords = stop_words, width = 5000, height = 3000, colormap=\"Reds\").\\\n",
        "generate(df.loc[df['title']=='Data, Other'].to_string())\n",
        "plt.imshow(wordcloud, interpolation='bilinear')\n",
        "plt.title('Data, Other Word Cloud', fontsize=15, color =\"Black\", fontweight=\"bold\")\n",
        "plt.axis(\"off\")\n",
        "plt.show()"
      ],
      "id": "K4H_2fg8Q625",
      "execution_count": null,
      "outputs": []
    },
    {
      "cell_type": "code",
      "metadata": {
        "id": "EKP477O3VVqi"
      },
      "source": [
        "stop_words = ['NaN','NaN ','Simply Hired','Simply','Indeed','Hired','PA','Pfizer','Statistician']\n",
        "wordcloud = WordCloud(max_words = 20, stopwords = stop_words, width = 5000, height = 3000, colormap=\"Reds\").\\\n",
        "generate(df.loc[df['title']=='Statistician'].to_string())\n",
        "plt.imshow(wordcloud, interpolation='bilinear')\n",
        "plt.title('Statistician Word Cloud', fontsize=15, color =\"Black\", fontweight=\"bold\")\n",
        "plt.axis(\"off\")\n",
        "plt.show()"
      ],
      "id": "EKP477O3VVqi",
      "execution_count": null,
      "outputs": []
    },
    {
      "cell_type": "code",
      "metadata": {
        "id": "GXMTikn1VqhZ"
      },
      "source": [
        ""
      ],
      "id": "GXMTikn1VqhZ",
      "execution_count": null,
      "outputs": []
    }
  ]
}